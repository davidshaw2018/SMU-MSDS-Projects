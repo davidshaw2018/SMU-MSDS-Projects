{
 "cells": [
  {
   "cell_type": "markdown",
   "metadata": {},
   "source": [
    "# Lab 2: Classification\n",
    "\n",
    "Authors: David Shaw, Philip Hale, Kay Ayala, Rikel Djoko\n",
    "\n",
    "![](https://unitedwaynca.org/wp-content/uploads/2019/04/Census-2020-0411.png)\n",
    "\n"
   ]
  },
  {
   "cell_type": "markdown",
   "metadata": {},
   "source": [
    "## Data Preparation Part 1\n",
    "\n",
    "Define and prepare your class variables. Use proper variable representations (int, float, one-hot, etc.). Use pre-processing methods (as needed) for dimensionality reduction, scaling, etc. Remove variables that are not needed/useful for the analysis."
   ]
  },
  {
   "cell_type": "code",
   "execution_count": 3,
   "metadata": {},
   "outputs": [],
   "source": [
    "# Data Processing\n",
    "import pandas as pd\n",
    "\n",
    "# modeling tools\n",
    "from sklearn.svm import SVC\n",
    "from sklearn.linear_model import LogisticRegression\n",
    "from sklearn.model_selection import train_test_split\n",
    "from scipy import stats\n",
    "\n",
    "# Data Visualization\n",
    "import seaborn as sns\n",
    "sns.set(style=\"darkgrid\")\n",
    "import matplotlib.pyplot as plt\n",
    "\n",
    "# Utilities\n",
    "import time\n",
    "import pickle\n",
    "\n",
    "import warnings\n",
    "warnings.filterwarnings(\"ignore\")"
   ]
  },
  {
   "cell_type": "markdown",
   "metadata": {},
   "source": [
    "## Data Preparation Part 2\n",
    "\n",
    "Describe the final dataset that is used for classification/regression (include a description of any newly formed variables you created)."
   ]
  },
  {
   "cell_type": "code",
   "execution_count": 4,
   "metadata": {},
   "outputs": [],
   "source": [
    "def svm_perprocessing():\n",
    "    # import original dataset\n",
    "    df = pd.read_csv(\"./data/cleanedAdultCensus.csv\")\n",
    "\n",
    "    #  consolidate capital gain/loss into a single net metric.\n",
    "    df['netCapital'] = df['capitalGain']  - df['capitalLoss']\n",
    "\n",
    "    # create new variable categorizes worked hours per week\n",
    "    df.loc[df.hoursPerWeek > 40, \"workhrs_\"] = \"overtime\"\n",
    "    df.loc[(df.hoursPerWeek <= 40) & (df.hoursPerWeek >= 30), \"workhrs_\"] = \"fulltime\"\n",
    "    df.loc[(df.hoursPerWeek < 30 ) & (df.hoursPerWeek >= 20), \"workhrs_\"] = \"partime\"\n",
    "    df.loc[df.hoursPerWeek < 20, \"workhrs_\"] = \"limited\"\n",
    "\n",
    "    #maritalStatus_old = {'Widowed': 'separate', 'Divorced': 'separate', 'Separated': 'separate', 'Never-married': 'single', 'Married-civ-spouse': 'married', 'Married-spouse-absent': 'a_other', 'Married-AF-spouse': 'a_other'}\n",
    "    #maritalStatus_ = {'Widowed': 'single', 'Divorced': 'single', 'Separated': 'single', 'Never-married': 'single', 'Married-civ-spouse': 'married', 'Married-spouse-absent': 'a_other', 'Married-AF-spouse': 'a_other'}\n",
    "    #df['maritalStatus_'] = df.maritalStatus.map(lambda x: maritalStatus_[x])\n",
    "\n",
    "    # compute the nearest 10 for person's decade birth\n",
    "    #df['age_decade'] = (df.age // 10) * 10\n",
    "\n",
    "    # one-hot encode `income` and race and maritalStatus, relationship, nativeCountry\n",
    "    df.loc[df.income == \"<=50K\", 'income'] = 0 \n",
    "    df.loc[df.income == \">50K\", 'income'] = 1\n",
    "\n",
    "    df.loc[df.race == \"White\", 'isWhite'] = 1\n",
    "    df.loc[df.race != \"White\", 'isWhite'] = 0\n",
    "\n",
    "    df.loc[df.maritalStatus == 'Married-AF-spouse', 'isMarried'] = 1\n",
    "    df.loc[df.maritalStatus != 'Married-AF-spouse', 'isMarried'] = 0\n",
    "\n",
    "    df.loc[df.relationship == 'Husband', 'isHusband'] = 1\n",
    "    df.loc[df.relationship != 'Husband', 'isHusband'] = 0\n",
    "\n",
    "    df.loc[df.nativeCountry == 'United-States', 'USA'] = 1\n",
    "    df.loc[df.nativeCountry != 'United-States', 'USA'] = 0\n",
    "\n",
    "\n",
    "    # drop unneeded columns\n",
    "    #'educationNum','hoursPerWeek',\n",
    "    unneeded_columns = ['workclass', 'education', 'maritalStatus','race',\n",
    "                        'occupation', 'capitalGain', 'capitalLoss', 'nativeCountry', 'relationship',\n",
    "                       'education_','workhrs_']\n",
    "    df.drop(unneeded_columns, axis=1, inplace=True)\n",
    "\n",
    "\n",
    "\n",
    "    categorical_variables =  ['sex', 'jobtype' ]\n",
    "    for var in categorical_variables:\n",
    "        category_list = 'var'+'_'+var\n",
    "        category_list = pd.get_dummies(df[var], prefix=var, drop_first=True)\n",
    "        _temp = df.join(category_list)\n",
    "        df = _temp\n",
    "\n",
    "\n",
    "    df.drop(categorical_variables, axis=1, inplace=True)\n",
    "    #df.head()\n",
    "\n",
    "    # list of all possible variables\n",
    "    variables_ = df.columns.values.tolist()\n",
    "    #variables_ = corr_matrix.index.tolist()\n",
    "    variables_.remove(\"income\")\n",
    "    \n",
    "    return df, variables_"
   ]
  },
  {
   "cell_type": "code",
   "execution_count": 5,
   "metadata": {},
   "outputs": [
    {
     "name": "stdout",
     "output_type": "stream",
     "text": [
      "<class 'pandas.core.frame.DataFrame'>\n",
      "RangeIndex: 32561 entries, 0 to 32560\n",
      "Data columns (total 14 columns):\n",
      "age                   32561 non-null int64\n",
      "fnlwgt                32561 non-null int64\n",
      "educationNum          32561 non-null int64\n",
      "hoursPerWeek          32561 non-null int64\n",
      "income                32561 non-null int64\n",
      "netCapital            32561 non-null int64\n",
      "isWhite               32561 non-null float64\n",
      "isMarried             32561 non-null float64\n",
      "isHusband             32561 non-null float64\n",
      "USA                   32561 non-null float64\n",
      "sex_Male              32561 non-null uint8\n",
      "jobtype_government    32561 non-null uint8\n",
      "jobtype_other         32561 non-null uint8\n",
      "jobtype_private       32561 non-null uint8\n",
      "dtypes: float64(4), int64(6), uint8(4)\n",
      "memory usage: 2.6 MB\n"
     ]
    }
   ],
   "source": [
    "df, variables_ = svm_perprocessing()\n",
    "#df.to_csv(\"./data/lab2_df.csv\")\n",
    "df.info()"
   ]
  },
  {
   "cell_type": "code",
   "execution_count": 6,
   "metadata": {},
   "outputs": [
    {
     "name": "stdout",
     "output_type": "stream",
     "text": [
      "List of all posible variables\n",
      "['age', 'fnlwgt', 'educationNum', 'hoursPerWeek', 'netCapital', 'isWhite', 'isMarried', 'isHusband', 'USA', 'sex_Male', 'jobtype_government', 'jobtype_other', 'jobtype_private']\n",
      "\n",
      "Summary Statistics for the Response Variable: `INCOME`\n",
      "Average Income (Mean):  0.241\n",
      "Standard Deviation Income:  0.428\n",
      "Mim Income:  0.000\n",
      "Max Income:  1.000\n"
     ]
    }
   ],
   "source": [
    "print(\"List of all posible variables\")\n",
    "print(variables_)\n",
    "\n",
    "# define variables for classificaiton training\n",
    "y=df['income']\n",
    "X=df[variables_]\n",
    "\n",
    "print(\"\")\n",
    "print(\"Summary Statistics for the Response Variable: `INCOME`\")\n",
    "print(\"Average Income (Mean):  {:.3f}\".format(y.mean()))\n",
    "print(\"Standard Deviation Income:  {:.3f}\".format(y.std()))\n",
    "print(\"Mim Income:  {:.3f}\".format(y.min()))\n",
    "print(\"Max Income:  {:.3f}\".format(y.max()))"
   ]
  },
  {
   "cell_type": "markdown",
   "metadata": {},
   "source": [
    "Here we have our data preparation step. We have reduced the full exploration and adjustment of the data to this section. We have dropped 'unneeded columns' above because they had high collinearity. Of the remaining variables, the categorical variables have been all one hot encoded except educationNum. The continuous variables have been untouched. When we do our analysis later the variables will be scaled to reduce scale bias. \n",
    "\n",
    "We should note income >50k is our majority class. It constitutes ~75% of our data. "
   ]
  },
  {
   "cell_type": "markdown",
   "metadata": {},
   "source": [
    "## Modeling and Evaluation 1\n",
    "\n",
    "Choose and explain your evaluation metrics that you will use (i.e., accuracy, precision, recall, F-measure, or any metric we have discussed). Why are the measure(s) appropriate for analyzing the results of your modeling? Give a detailed explanation backing up any assertions."
   ]
  },
  {
   "cell_type": "markdown",
   "metadata": {},
   "source": [
    "----\n",
    "### Evaluating Test Performance with ROC Curves\n",
    "\n",
    "When evaluating the models scored off of the ROC Curves, we are interested in understanding that the best classification has the largest area under the curve. As described by Alaa tharwat in [Classification_Assessment_Methods_a_detailed_tutorial](https://www.researchgate.net/publication/327148996_Classification_Assessment_Methods_a_detailed_tutorial), \n",
    "\n",
    "> The __receiver operating characteristics (ROC) curve__ is a twodimensional graph in which the TPR represents the y-axis and FPR is the x-axis.  It is used to make a balance between the benefits, i.e., true positives, and costs, i.e., false positives. Any classifier that has discrete outputs such as decision trees is designed to produce only a class decision, i.e., a decision for each testing sample, and hence it generates only one confusion matrix which in turn corresponds to one point into the ROC space. However, there are many methods that were introduced for generating full ROC curve from a classifier instead of only a single point such as using class proportions or using some combinations of scoring and voting. \n",
    "\n",
    "![](./media/ROC_curve_explained.jpg)\n",
    "\n",
    "> The Above figure shows shows an example of the ROC curve. As shown, there are four important points in the ROC curve. The point A, in the lower left corner (0,0) represents a classifier where there is no positive classification, while all negative samples are correctly classified and hence TPR= 0 and FPR= 0. The point C, in the top right corner\n",
    "(1,1), represents a classifier where all positive samples are correctly classified, while the negative samples are misclassified. The point D in the lower right corner (1,0) represents a classifier where all positive and negative samples are misclassified. The point B in the upper left corner (0,1) represents a classifier where\n",
    "all positive and negative samples are correctly classified; thus, this point represents the perfect classification or the Ideal operating point. \n",
    "\n",
    "Therfore, we can utilize ROC Curves to evaluate the classification performance of the model. Ideally we will be looking, AT BEST the green line (B) which shows the \"perfect classification\", however, if we see such results, that model is subject to additional review for overtraining. As the \"curve reflects that the classifier perfectly\n",
    "ranked the positive samples relative to the negative samples.\".\n",
    "\n",
    "Source: Classification_Assessment_Methods_a_detailed_tutorial - https://www.researchgate.net/publication/327148996_Classification_Assessment_Methods_a_detailed_tutorial\n",
    "\n"
   ]
  },
  {
   "cell_type": "markdown",
   "metadata": {},
   "source": [
    "##### ROC Curve\n",
    "\n",
    "Finally, we graph the ROC Curve from the 2 models. Below is an excellent graph of interpretining the ROC Curve posted by [Stephanie Glen on ROC Curve Explained in One Picture](https://www.datasciencecentral.com/profiles/blogs/roc-curve-explained-in-one-picture)\n",
    "\n",
    "> With a ROC curve, you're trying to find a good model that optimizes the trade off between the False Positive Rate (FPR) and True Positive Rate (TPR).  What counts here is how much area is under the curve (Area under the Curve = AuC). The ideal curve in the left image fills in 100%, which means that you're going to be able to distinguish between negative results and positive results 100% of the time (which is almost impossible in real life). The further you go to the right, the worse the detection. The ROC curve to the far right does a worse job than chance, mixing up the negatives and positives (which means you likely have an error in your setup). \n",
    "\n",
    ">![](./media/ROC_in_one_picture.png)\n",
    "\n",
    ">[Stephanie Glen on ROC Curve Explained in One Picture](https://www.datasciencecentral.com/profiles/blogs/roc-curve-explained-in-one-picture)"
   ]
  },
  {
   "cell_type": "markdown",
   "metadata": {},
   "source": [
    "---"
   ]
  },
  {
   "cell_type": "markdown",
   "metadata": {},
   "source": [
    "## Modeling and Evaluation 2 (Choosing Model Assessment)\n",
    "\n",
    "> Choose the method you will use for dividing your data into training and\n",
    "testing splits (i.e., are you using Stratified 10-fold cross validation? Why?). Explain why\n",
    "your chosen method is appropriate or use more than one method as appropriate. For example, if you are using time series data then you should be using continuous training and testing sets across time."
   ]
  },
  {
   "cell_type": "markdown",
   "metadata": {},
   "source": [
    "The technique performed in the notebook to reduce the risk of model overfitting and estimating prediction error for model selection follows the below 3 steps. \n",
    "- step 1. Split data in to `train_test_split` with an 80/20 ratio (typical gold standard on splitting observations). Use train dataset for initializing model parameters and training model. The remainder is our holdout data set for final model testing.\n",
    "- step 2. Perform `cross validation with k=10` on the 'train' data set for hyperparameter tuning and fitting the model using `GridSearchCV`.\n",
    "- step 3. Use test/holdout dataset for final model evaluation and selection using the hyperparameters from the previous step with the `cross_val_score` for a 10 Cross validation to be insensitive to any bias as the test dataset is large.\n",
    "\n",
    "__Detail on the Implementation__\n",
    "\n",
    "1. Here is how the `train_test_split` is utilized. This method was usuful as the group was working on local machines. While a complete k-fold cross validation could be utilized, the dataset was large enough to perform this observation splitting technique to minimize overfitting while, a data scientist or, we are able to run various experiments and hyperparameter tuning in a reasonable time. It also allows us to make our holdout set for final model testing/validation. \n",
    "\n",
    "```python\n",
    "from sklearn.model_selection import train_test_split\n",
    "X_train, X_test, y_train, y_test = train_test_split(X, y, test_size=0.2, random_state=0)\n",
    "```\n",
    "\n",
    "During model training and evaluation, we make use of several `sklearn` function to perform cross validation in 2 key areas:\n",
    "\n",
    "2. `GridSearchCV` for parameter tuning to find the best hyperparameters for the train dataset. We utilize the `auc` score as the model scoring metric. To reduce the risk of overfitting and bias in the hyperparameter selection, we set the `CV` parameters in the `GridSearchCV` to 10 like so: \n",
    "\n",
    "```python\n",
    "from sklearn.model_selection import GridSearchCV\n",
    "GridSearchCV(estimator=XGBClassifier(),param_grid=params,scoring='roc_auc',cv=kfold, n_jobs=-1)\n",
    "```\n",
    "\n",
    "3. `StratifiedKFold` + `cross_val_score` during model selection and evlaution we split the test dataset into 10 folds like so: \n",
    "\n",
    "```python\n",
    "from sklearn.model_selection import StratifiedKFold\n",
    "kfold = StratifiedKFold(n_splits=10, shuffle=True, random_state=7)\n",
    "results = cross_val_score(grid_search, X_test_scaled, y_test, cv=kfold)\n",
    "\n",
    "#output\n",
    "[0.86042945, 0.85122699, 0.84969325, 0.85099846, 0.83102919,\n",
    "0.84485407, 0.85714286, 0.85560676, 0.88018433, 0.83563748]\n",
    "```\n",
    "\n",
    "`StratifiedKFold` is used instead of `KFold` because for our cross validation splitting strategy involves using an classifier estimator is a binary input. We also wanted to make sure we were getting as unbiased a sample as we could since we know our data, esp. our predictor, has a distinct majority class. \n",
    "\n",
    "__Why 10 folds?__\n",
    "\n",
    "As great data scientist, we leverage the research in the field indicating gold standard modeling processes. As described in [Springers Texts in Statistics: An Introduction to Statistical Learning: with Applications in R (2017)](https://www.amazon.com/gp/product/1461471370/ref=dbs_a_def_rwt_hsch_vapi_taft_p1_i0)\n",
    "\n",
    "```\n",
    "To summarize, there is a bias-variance trade-off associated with the choice of k in k-fold cross-validation. Typically, given these considerations, one performs k-fold cross-validation using k = 5 or k = 10, as these values have been shown empirically to yield test error rate estimates that suffer neither from excessively high bias nor from very high variance.\n",
    "```\n"
   ]
  },
  {
   "cell_type": "markdown",
   "metadata": {},
   "source": [
    "Scaler decision:\n",
    "\n",
    "This decision was based on guidance form [sklearn - compare the effect of different scalers on the data](https://scikit-learn.org/stable/auto_examples/preprocessing/plot_all_scaling.html). While there are some outliers as discussed in [lab01](https://github.com/KayMSDS/Machine-Learning-Projects-MSDS-7331/blob/master/lab01_data_viz/final/Adult%20Census%20Data%20Visualization%20Resubmission.ipynb) the `MinMaxScaler` is used over the `StandardScaler` to preserve the original balance of feature scales and reduce bias in modeling. "
   ]
  },
  {
   "cell_type": "code",
   "execution_count": 7,
   "metadata": {},
   "outputs": [],
   "source": [
    "from sklearn.model_selection import train_test_split\n",
    "from sklearn import metrics\n",
    "from sklearn.metrics import accuracy_score\n",
    "from sklearn.preprocessing import StandardScaler\n",
    "\n",
    "# test train scaler\n",
    "scaler = StandardScaler()\n",
    "X = scaler.fit_transform(X)\n",
    "\n",
    "# test train split\n",
    "X_train, X_test, y_train, y_test = train_test_split(X, y, test_size=0.2, random_state=0)\n",
    "\n",
    "# prepare cross validation\n",
    "from sklearn.model_selection import StratifiedKFold\n",
    "kfold = StratifiedKFold(n_splits=10, shuffle=True, random_state=7)"
   ]
  },
  {
   "cell_type": "markdown",
   "metadata": {},
   "source": [
    "## Modeling and Evaluation 3\n",
    "\n",
    "Create three different classification/regression models for each task (e.g., random forest, KNN, and SVM for task one and the same or different algorithms for task two). Two modeling techniques must be new (but the third could be SVM or logistic regression). Adjust parameters as appropriate to increase generalization performance using your chosen metric. You must investigate different parameters of the algorithms!"
   ]
  },
  {
   "cell_type": "markdown",
   "metadata": {},
   "source": [
    "---\n",
    "### Predicting Income\n",
    "\n",
    "To see the full outputs from the GridSearchCV that was referenced in the above sections for hyperparameter tuning see sections below:\n",
    "* Predicting INCOME Grid Search Output\n",
    "* Predicting SEX Grid Search Output"
   ]
  },
  {
   "cell_type": "code",
   "execution_count": 19,
   "metadata": {},
   "outputs": [],
   "source": [
    "from sklearn.linear_model import LogisticRegression\n",
    "from sklearn.neighbors import KNeighborsClassifier\n",
    "from sklearn.ensemble import GradientBoostingClassifier, RandomForestClassifier\n",
    "from xgboost.sklearn import XGBClassifier\n",
    "from sklearn.naive_bayes import BernoulliNB\n",
    "\n",
    "from sklearn.model_selection import cross_val_score, GridSearchCV\n",
    "\n",
    "\n",
    "params_lr = {'solver': ['newton-cg', 'lbfgs', 'sag'], 'C': [0.1, 1, 10]}\n",
    "lr_model = GridSearchCV(LogisticRegression(class_weight='balanced', max_iter=1000), params_lr, cv=kfold, scoring='roc_auc')\n",
    "\n",
    "params_rfc = {'n_estimators': [50,100,150], 'max_depth':[5,20,10]}\n",
    "rfc_model = GridSearchCV(RandomForestClassifier(), params_rfc, cv=kfold, scoring='roc_auc',n_jobs=-1)\n",
    "\n",
    "params_nb = {'alpha': [1.0, 0.1, 0.01, 0.00], 'fit_prior':[True, False]}\n",
    "nb_model = GridSearchCV(BernoulliNB(), params_nb, cv=kfold, scoring='roc_auc')\n",
    "\n",
    "params_knn = {'n_neighbors': [17,15,19,21], 'weights':['uniform','distance'], \n",
    "              'metric':['minkowski','manhattan','chebyshev']}\n",
    "knn_model = GridSearchCV(KNeighborsClassifier(), params_knn, cv=kfold, scoring='roc_auc',n_jobs=-1)\n",
    "\n",
    "params_gbx = params = {\"learning_rate\": [0.0001, 0.001, 0.01, 0.1, 0.2, 0.3],\n",
    "          \"max_depth\":range(1, 11, 2),\n",
    "         \"objective\":[\"binary:logistic\"]}\n",
    "gbx_model = GridSearchCV(XGBClassifier(), params_gbx, cv=kfold, scoring='roc_auc',n_jobs=-1)\n",
    "\n",
    "models=[('LogisticRegression',lr_model),\n",
    "        ('KNNClassifier',knn_model),\n",
    "        ('NBClassifier', nb_model),\n",
    "        ('RandomForestClassifer',rfc_model),\n",
    "        ('XGBClassifier',gbx_model)]\n",
    "\n",
    "#model_eval(models)"
   ]
  },
  {
   "cell_type": "markdown",
   "metadata": {},
   "source": [
    "___\n",
    "#### Predicting Income - XGBClassifier Classifier Hyperparameter"
   ]
  },
  {
   "cell_type": "markdown",
   "metadata": {},
   "source": [
    "##### XGBoost (eXtreme Gradient Boosting)\n",
    "\n",
    "In this section, __XGBoost__ learning algorithim is leveraged supported by the _Gradient Boosting_ framework to obtimize the parameter tuning in solving this classification problem. Some advantages why we choose this technique is to take advantage of the parallel processing, compare with other models on how boosting regularization parameters reduce overfitting than other experiments, and take advantage of the builtin cross validation parameters. \n",
    "\n",
    "![](https://www.kdnuggets.com/wp-content/uploads/xgb1.png)\n",
    "\n",
    "__Resources for XGBoost__\n",
    "* [XGBoost: A Scalable Tree Boosting System by Tianqi Chen](https://arxiv.org/pdf/1603.02754.pdf)\n",
    "* [BoostedTree lecture from U of Washingtion](https://homes.cs.washington.edu/~tqchen/pdf/BoostedTree.pdf)\n",
    "* [Complete Guide ot Parameter Tuning in XGBoost](https://www.analyticsvidhya.com/blog/2016/03/complete-guide-parameter-tuning-xgboost-with-codes-python/)"
   ]
  },
  {
   "cell_type": "code",
   "execution_count": 64,
   "metadata": {},
   "outputs": [
    {
     "name": "stdout",
     "output_type": "stream",
     "text": [
      "----XGBClassifier Classifier Hyperparameter tuning Results ----\n",
      "\n",
      "Best XGBClassifier Score: 0.90808818242688\n",
      "Best XGBClassifier Parameters: {'learning_rate': 0.1, 'max_depth': 7, 'objective': 'binary:logistic'}\n",
      "\n",
      "---- XGBClassifier Classification Report ----\n",
      "              precision    recall  f1-score   support\n",
      "\n",
      "           0       0.87      0.95      0.91      4966\n",
      "           1       0.77      0.56      0.65      1547\n",
      "\n",
      "    accuracy                           0.86      6513\n",
      "   macro avg       0.82      0.76      0.78      6513\n",
      "weighted avg       0.85      0.86      0.85      6513\n",
      "\n"
     ]
    }
   ],
   "source": [
    "model_prediction = xgb_best.predict(X_test)\n",
    "print(\"----XGBClassifier Classifier Hyperparameter tuning Results ----\")\n",
    "print(\"\")\n",
    "print(\"Best XGBClassifier Score: 0.90808818242688\")\n",
    "print(\"Best XGBClassifier Parameters: {'learning_rate': 0.1, 'max_depth': 7, 'objective': 'binary:logistic'}\")\n",
    "print(\"\")\n",
    "print(\"---- XGBClassifier Classification Report ----\")\n",
    "print(classification_report(y_test, model_prediction))"
   ]
  },
  {
   "cell_type": "markdown",
   "metadata": {},
   "source": [
    "__XGBoosting Classifier Learning Rate Hpyertuning__"
   ]
  },
  {
   "cell_type": "code",
   "execution_count": 71,
   "metadata": {},
   "outputs": [
    {
     "name": "stdout",
     "output_type": "stream",
     "text": [
      "\n",
      "---- Accuracy Results for learning_rate=0.0001 ----\n",
      "xgb learning_rate=0.0001 Train accuracy: 0.837\n",
      "xgb learning_rate=0.0001 Test accuracy: 0.833\n",
      "\n",
      "---- Accuracy Results for learning_rate=0.001 ----\n",
      "xgb learning_rate=0.001 Train accuracy: 0.838\n",
      "xgb learning_rate=0.001 Test accuracy: 0.835\n",
      "\n",
      "---- Accuracy Results for learning_rate=0.01 ----\n",
      "xgb learning_rate=0.001 Train accuracy: 0.868\n",
      "xgb learning_rate=0.001 Test accuracy: 0.865\n",
      "\n",
      "---- Accuracy Results for learning_rate=0.1 ----\n",
      "xgb learning_rate=0.1 Train accuracy: 0.901\n",
      "xgb learning_rate=0.1 Test accuracy: 0.888\n",
      "\n",
      "---- Accuracy Results for learning_rate=0.2 ----\n",
      "xgb learning_rate=0.2 Train accuracy: 0.906\n",
      "xgb learning_rate=0.2 Test accuracy: 0.889\n",
      "\n",
      "---- Accuracy Results for learning_rate=0.3 ----\n",
      "xgb learning_rate=0.3 Train accuracy: 0.908\n",
      "xgb learning_rate=0.3 Test accuracy: 0.889\n"
     ]
    }
   ],
   "source": [
    "xgb0001 = XGBClassifier(random_state=0, learning_rate=0.0001)\n",
    "xgb0001.fit(X_train, y_train)\n",
    "print(\"\")\n",
    "print(\"---- Accuracy Results for learning_rate=0.0001 ----\")\n",
    "print(\"xgb learning_rate=0.0001 Train accuracy: {:.3f}\".format(cross_val_score(xgb0001, X_train, y_train,scoring='roc_auc',cv=kfold).mean()))\n",
    "print(\"xgb learning_rate=0.0001 Test accuracy: {:.3f}\".format(cross_val_score(xgb0001,  X_test, y_test,scoring='roc_auc',cv=kfold).mean()))\n",
    "\n",
    "xgb001 = XGBClassifier(random_state=0, learning_rate=0.001)\n",
    "xgb001.fit(X_train, y_train)\n",
    "print(\"\")\n",
    "print(\"---- Accuracy Results for learning_rate=0.001 ----\")\n",
    "print(\"xgb learning_rate=0.001 Train accuracy: {:.3f}\".format(cross_val_score(xgb001, X_train, y_train,scoring='roc_auc',cv=kfold).mean()))\n",
    "print(\"xgb learning_rate=0.001 Test accuracy: {:.3f}\".format(cross_val_score(xgb001,  X_test, y_test,scoring='roc_auc',cv=kfold).mean()))\n",
    "\n",
    "\n",
    "xgb01 = XGBClassifier(random_state=0, learning_rate=0.01)\n",
    "xgb01.fit(X_train, y_train)\n",
    "print(\"\")\n",
    "print(\"---- Accuracy Results for learning_rate=0.01 ----\")\n",
    "print(\"xgb learning_rate=0.001 Train accuracy: {:.3f}\".format(cross_val_score(xgb01, X_train, y_train,scoring='roc_auc',cv=kfold).mean()))\n",
    "print(\"xgb learning_rate=0.001 Test accuracy: {:.3f}\".format(cross_val_score(xgb01,  X_test, y_test,scoring='roc_auc',cv=kfold).mean()))\n",
    "\n",
    "\n",
    "xgb1 = XGBClassifier(random_state=0, learning_rate=0.1)\n",
    "xgb1.fit(X_train, y_train)\n",
    "print(\"\")\n",
    "print(\"---- Accuracy Results for learning_rate=0.1 ----\")\n",
    "print(\"xgb learning_rate=0.1 Train accuracy: {:.3f}\".format(cross_val_score(xgb1, X_train, y_train,scoring='roc_auc',cv=kfold).mean()))\n",
    "print(\"xgb learning_rate=0.1 Test accuracy: {:.3f}\".format(cross_val_score(xgb1,  X_test, y_test,scoring='roc_auc',cv=kfold).mean()))\n",
    "\n",
    "\n",
    "xgb2 = XGBClassifier(random_state=0, learning_rate=0.2)\n",
    "xgb2.fit(X_train, y_train)\n",
    "print(\"\")\n",
    "print(\"---- Accuracy Results for learning_rate=0.2 ----\")\n",
    "print(\"xgb learning_rate=0.2 Train accuracy: {:.3f}\".format(cross_val_score(xgb2, X_train, y_train,scoring='roc_auc',cv=kfold).mean()))\n",
    "print(\"xgb learning_rate=0.2 Test accuracy: {:.3f}\".format(cross_val_score(xgb2,  X_test, y_test,scoring='roc_auc',cv=kfold).mean()))\n",
    "\n",
    "\n",
    "xgb3 = XGBClassifier(random_state=0, learning_rate=0.3)\n",
    "xgb3.fit(X_train, y_train)\n",
    "print(\"\")\n",
    "print(\"---- Accuracy Results for learning_rate=0.3 ----\")\n",
    "print(\"xgb learning_rate=0.3 Train accuracy: {:.3f}\".format(cross_val_score(xgb3, X_train, y_train,scoring='roc_auc',cv=kfold).mean()))\n",
    "print(\"xgb learning_rate=0.3 Test accuracy: {:.3f}\".format(cross_val_score(xgb3,  X_test, y_test,scoring='roc_auc',cv=kfold).mean()))"
   ]
  },
  {
   "cell_type": "markdown",
   "metadata": {},
   "source": [
    "__XGB Classifier Analysis on Learning Rate Tuning (holding `max_depth` constant)__ \n",
    "\n",
    "Review the results from the XGB learning Rate tuning, we can see the test and train score outputs, and overall there does not appear to be any indication or evidenace of overfitting whith the addition of any of the experimented learning rates. With holding `max_depth` constant through each of the `learning_rate` tuning experiments, it appears tha as we increase the learning rate both test and train accuracy increases. Additionally, it appears the accuracy does level off after `learning_rate=0.1`, which is the same optimal value selected by the `GridSearchCV` tuning pipeline. "
   ]
  },
  {
   "cell_type": "markdown",
   "metadata": {},
   "source": [
    "__Further Tuning Analysis on learnigng_rate and max_depth__"
   ]
  },
  {
   "cell_type": "code",
   "execution_count": 72,
   "metadata": {},
   "outputs": [
    {
     "name": "stdout",
     "output_type": "stream",
     "text": [
      "----XGBoost Classifier Hyperparameter tuning Results ----\n",
      "Best XGBoost Score:  0.8626381382842283\n",
      "Best XGBoost Parameters:  {'learning_rate': 0.1, 'max_depth': 7, 'objective': 'binary:logistic'}\n",
      "\n",
      "----XGBoost Full EVAL on Trees, Max Depth and Learning Rate Hyperparameter tuning Results ----\n",
      "0.758369 (0.000176) with: {'learning_rate': 0.0001, 'max_depth': 1, 'objective': 'binary:logistic'}\n",
      "0.839374 (0.004992) with: {'learning_rate': 0.0001, 'max_depth': 3, 'objective': 'binary:logistic'}\n",
      "0.849662 (0.006016) with: {'learning_rate': 0.0001, 'max_depth': 5, 'objective': 'binary:logistic'}\n",
      "0.852196 (0.005806) with: {'learning_rate': 0.0001, 'max_depth': 7, 'objective': 'binary:logistic'}\n",
      "0.849393 (0.004339) with: {'learning_rate': 0.0001, 'max_depth': 9, 'objective': 'binary:logistic'}\n",
      "0.758369 (0.000176) with: {'learning_rate': 0.001, 'max_depth': 1, 'objective': 'binary:logistic'}\n",
      "0.839489 (0.005040) with: {'learning_rate': 0.001, 'max_depth': 3, 'objective': 'binary:logistic'}\n",
      "0.850008 (0.005656) with: {'learning_rate': 0.001, 'max_depth': 5, 'objective': 'binary:logistic'}\n",
      "0.852388 (0.005330) with: {'learning_rate': 0.001, 'max_depth': 7, 'objective': 'binary:logistic'}\n",
      "0.849854 (0.003703) with: {'learning_rate': 0.001, 'max_depth': 9, 'objective': 'binary:logistic'}\n",
      "0.790310 (0.001779) with: {'learning_rate': 0.01, 'max_depth': 1, 'objective': 'binary:logistic'}\n",
      "0.839911 (0.005020) with: {'learning_rate': 0.01, 'max_depth': 3, 'objective': 'binary:logistic'}\n",
      "0.850660 (0.005568) with: {'learning_rate': 0.01, 'max_depth': 5, 'objective': 'binary:logistic'}\n",
      "0.853655 (0.005422) with: {'learning_rate': 0.01, 'max_depth': 7, 'objective': 'binary:logistic'}\n",
      "0.853232 (0.004813) with: {'learning_rate': 0.01, 'max_depth': 9, 'objective': 'binary:logistic'}\n",
      "0.847781 (0.005440) with: {'learning_rate': 0.1, 'max_depth': 1, 'objective': 'binary:logistic'}\n",
      "0.857263 (0.005731) with: {'learning_rate': 0.1, 'max_depth': 3, 'objective': 'binary:logistic'}\n",
      "0.861678 (0.006497) with: {'learning_rate': 0.1, 'max_depth': 5, 'objective': 'binary:logistic'}\n",
      "0.862638 (0.006222) with: {'learning_rate': 0.1, 'max_depth': 7, 'objective': 'binary:logistic'}\n",
      "0.860795 (0.006161) with: {'learning_rate': 0.1, 'max_depth': 9, 'objective': 'binary:logistic'}\n",
      "0.849125 (0.004959) with: {'learning_rate': 0.2, 'max_depth': 1, 'objective': 'binary:logistic'}\n",
      "0.859951 (0.006068) with: {'learning_rate': 0.2, 'max_depth': 3, 'objective': 'binary:logistic'}\n",
      "0.862100 (0.006461) with: {'learning_rate': 0.2, 'max_depth': 5, 'objective': 'binary:logistic'}\n",
      "0.861678 (0.003989) with: {'learning_rate': 0.2, 'max_depth': 7, 'objective': 'binary:logistic'}\n",
      "0.856918 (0.006401) with: {'learning_rate': 0.2, 'max_depth': 9, 'objective': 'binary:logistic'}\n",
      "0.851582 (0.005315) with: {'learning_rate': 0.3, 'max_depth': 1, 'objective': 'binary:logistic'}\n",
      "0.861333 (0.006961) with: {'learning_rate': 0.3, 'max_depth': 3, 'objective': 'binary:logistic'}\n",
      "0.860680 (0.005839) with: {'learning_rate': 0.3, 'max_depth': 5, 'objective': 'binary:logistic'}\n",
      "0.858607 (0.005492) with: {'learning_rate': 0.3, 'max_depth': 7, 'objective': 'binary:logistic'}\n",
      "0.855804 (0.005827) with: {'learning_rate': 0.3, 'max_depth': 9, 'objective': 'binary:logistic'}\n"
     ]
    }
   ],
   "source": [
    "params_gbx = params = {\"learning_rate\": [0.0001, 0.001, 0.01, 0.1, 0.2, 0.3],\n",
    "          \"max_depth\":range(1, 11, 2),\n",
    "         \"objective\":[\"binary:logistic\"]}\n",
    "\n",
    "# Parallel Thread XGBoost and CV\n",
    "xgb = GridSearchCV(estimator=XGBClassifier(),param_grid=params_gbx,cv=kfold, n_jobs=-1)\n",
    "#xgb.fit(X_train_scaled,y_train, eval_metric=\"auc\")\n",
    "xgb.fit(X_train,y_train, eval_metric=\"auc\")\n",
    "print(\"----XGBoost Classifier Hyperparameter tuning Results ----\")\n",
    "print(\"Best XGBoost Score: \",xgb.best_score_)\n",
    "print(\"Best XGBoost Parameters: \",xgb.best_params_)\n",
    "\n",
    "# summarize results\n",
    "print(\"\")\n",
    "print(\"----XGBoost Full EVAL on Trees, Max Depth and Learning Rate Hyperparameter tuning Results ----\")\n",
    "means = xgb.cv_results_['mean_test_score']\n",
    "stds = xgb.cv_results_['std_test_score']\n",
    "params = xgb.cv_results_['params']\n",
    "for mean, stdev, param in zip(means, stds, params):\n",
    "\tprint(\"%f (%f) with: %r\" % (mean, stdev, param))"
   ]
  },
  {
   "cell_type": "markdown",
   "metadata": {},
   "source": [
    "__Analysis on Results of Tuning XGB on learnigng_rate and max_depth__\n",
    "\n",
    "We can see the relationship between `max_depth` and `learning_rate`  has on the performance of the model. As the max_depth increases along with te learning rate, the complexity of the model is appropriately controlled indicating the corresponding increase in accuracy when tested on how well the parameters are able to generalized the responses. Therefore, the optimal value for XGB is `{'learning_rate': 0.1, 'max_depth': 7, 'objective': 'binary:logistic'}` for predicting INCOME."
   ]
  },
  {
   "cell_type": "code",
   "execution_count": null,
   "metadata": {},
   "outputs": [],
   "source": []
  },
  {
   "cell_type": "code",
   "execution_count": null,
   "metadata": {},
   "outputs": [],
   "source": []
  },
  {
   "cell_type": "markdown",
   "metadata": {},
   "source": [
    "#### Predicting Income - LogisticRegression Classifier Hyperparameter"
   ]
  },
  {
   "cell_type": "code",
   "execution_count": 68,
   "metadata": {},
   "outputs": [
    {
     "name": "stdout",
     "output_type": "stream",
     "text": [
      "----LogisticRegression Classifier Hyperparameter tuning Results ----\n",
      "\n",
      "Best LogisticRegression Score: 0.8686701592631874 \n",
      "Best LogisticRegression Parameters: {'C': 1, 'solver': 'sag'} \n",
      "\n",
      "---- LogisticRegression Classification Report ----\n",
      "              precision    recall  f1-score   support\n",
      "\n",
      "           0       0.86      0.94      0.90      4966\n",
      "           1       0.71      0.50      0.59      1547\n",
      "\n",
      "    accuracy                           0.83      6513\n",
      "   macro avg       0.78      0.72      0.74      6513\n",
      "weighted avg       0.82      0.83      0.82      6513\n",
      "\n"
     ]
    }
   ],
   "source": [
    "from sklearn.linear_model import LogisticRegression\n",
    "logit1 = LogisticRegression(C=1, solver = 'sag')\n",
    "logit1.fit(X_train, y_train)\n",
    "model_prediction = logit1.predict(X_test)\n",
    "print(\"----LogisticRegression Classifier Hyperparameter tuning Results ----\")\n",
    "print(\"\")\n",
    "print(\"Best LogisticRegression Score: 0.8686701592631874 \")\n",
    "print(\"Best LogisticRegression Parameters: {'C': 1, 'solver': 'sag'} \")\n",
    "print(\"\")\n",
    "print(\"---- LogisticRegression Classification Report ----\")\n",
    "print(classification_report(y_test, model_prediction))"
   ]
  },
  {
   "cell_type": "code",
   "execution_count": 23,
   "metadata": {},
   "outputs": [
    {
     "name": "stdout",
     "output_type": "stream",
     "text": [
      "---- Accuracy Results for C=0.001 ----\n",
      "logit C=0.001 Train accuracy: 0.857\n",
      "logit C=0.001 Test accuracy: 0.843\n",
      "\n",
      "---- Accuracy Results for C=1 ----\n",
      "logit C=1 Train accuracy: 0.863\n",
      "logit C=1 Test accuracy: 0.864\n",
      "\n",
      "---- Accuracy Results for C=10 ----\n",
      "logit C=10 Train accuracy: 0.863\n",
      "logit C=10 Test accuracy: 0.864\n"
     ]
    }
   ],
   "source": [
    "from sklearn.linear_model import LogisticRegression\n",
    "logit001 = LogisticRegression(C=0.001, solver = 'sag')\n",
    "logit001.fit(X_train, y_train)\n",
    "print(\"---- Accuracy Results for C=0.001 ----\")\n",
    "print(\"logit C=0.001 Train accuracy: {:.3f}\".format(cross_val_score(logit001, X_train, y_train,scoring='roc_auc',cv=kfold).mean()))\n",
    "print(\"logit C=0.001 Test accuracy: {:.3f}\".format(cross_val_score(logit001,  X_test, y_test,scoring='roc_auc',cv=kfold).mean()))\n",
    "\n",
    "\n",
    "logit1 = LogisticRegression(C=1, solver = 'sag')\n",
    "logit1.fit(X_train, y_train)\n",
    "print(\"\")\n",
    "print(\"---- Accuracy Results for C=1 ----\")\n",
    "print(\"logit C=1 Train accuracy: {:.3f}\".format(cross_val_score(logit1, X_train, y_train,scoring='roc_auc',cv=kfold).mean()))\n",
    "print(\"logit C=1 Test accuracy: {:.3f}\".format(cross_val_score(logit1, X_test, y_test,scoring='roc_auc',cv=kfold).mean()))\n",
    "\n",
    "\n",
    "logit10 = LogisticRegression(C=10, solver = 'sag')\n",
    "logit10.fit(X_train, y_train)\n",
    "print(\"\")\n",
    "print(\"---- Accuracy Results for C=10 ----\")\n",
    "print(\"logit C=10 Train accuracy: {:.3f}\".format(cross_val_score(logit10, X_train, y_train,scoring='roc_auc',cv=kfold).mean()))\n",
    "print(\"logit C=10 Test accuracy: {:.3f}\".format(cross_val_score(logit10,  X_test, y_test,scoring='roc_auc',cv=kfold).mean()))\n"
   ]
  },
  {
   "cell_type": "markdown",
   "metadata": {},
   "source": [
    "__Analsyis on Tuning Hyperparameters:__ In the experiment above, we evaluate the `C` parameter, formally referred to as the __Inverse Regularization Parameter__ in which as we reviewed the plot above, the key indicator for our assessment is to review the smaller values that indicate the stronger regluarzation. This is important because here we can evaluate how well the regualrization parameter is controling the overfitting. \n",
    "\n",
    "The accuracy results show that as `C` increases the peformance on acuracy also increases, however it appears after C=1, that the logistic regression is stables and we do not see much change in the performance (better or worse), therefore, we can concluse that after `C=1` the model become obtimally regularized after increasing `C` may not improve the models ability to gernalize on more complex observations. "
   ]
  },
  {
   "cell_type": "code",
   "execution_count": 57,
   "metadata": {},
   "outputs": [
    {
     "name": "stdout",
     "output_type": "stream",
     "text": [
      "---- Accuracy Results for C=0.001 ----\n",
      "logit C=0.001 Train accuracy: 0.862\n",
      "logit C=0.001 Test accuracy: 0.852\n",
      "\n",
      "---- Accuracy Results for C=1 ----\n",
      "logit C=1 Train accuracy: 0.868\n",
      "logit C=1 Test accuracy: 0.866\n",
      "\n",
      "---- Accuracy Results for C=100 ----\n",
      "logit C=100 Train accuracy: 0.868\n",
      "logit C=100 Test accuracy: 0.866\n"
     ]
    }
   ],
   "source": [
    "from sklearn.linear_model import LogisticRegression\n",
    "logit001 = LogisticRegression(C=0.001, solver = 'sag')\n",
    "logit001.fit(X_train, y_train)\n",
    "print(\"---- Accuracy Results for C=0.001 ----\")\n",
    "print(\"logit C=0.001 Train accuracy: {:.3f}\".format(cross_val_score(logit001, X_train, y_train,scoring='roc_auc',cv=kfold).mean()))\n",
    "print(\"logit C=0.001 Test accuracy: {:.3f}\".format(cross_val_score(logit001,  X_test, y_test,scoring='roc_auc',cv=kfold).mean()))\n",
    "\n",
    "\n",
    "logit1 = LogisticRegression(C=1, solver = 'sag')\n",
    "logit1.fit(X_train, y_train)\n",
    "print(\"\")\n",
    "print(\"---- Accuracy Results for C=1 ----\")\n",
    "print(\"logit C=1 Train accuracy: {:.3f}\".format(cross_val_score(logit1, X_train, y_train,scoring='roc_auc',cv=kfold).mean()))\n",
    "print(\"logit C=1 Test accuracy: {:.3f}\".format(cross_val_score(logit1, X_test, y_test,scoring='roc_auc',cv=kfold).mean()))\n",
    "\n",
    "logit100 = LogisticRegression(C=100, solver = 'sag')\n",
    "logit100.fit(X_train, y_train)\n",
    "print(\"\")\n",
    "print(\"---- Accuracy Results for C=100 ----\")\n",
    "print(\"logit C=100 Train accuracy: {:.3f}\".format(cross_val_score(logit100, X_train, y_train,scoring='roc_auc',cv=kfold).mean()))\n",
    "print(\"logit C=100 Test accuracy: {:.3f}\".format(cross_val_score(logit100,  X_test, y_test,scoring='roc_auc',cv=kfold).mean()))"
   ]
  },
  {
   "cell_type": "markdown",
   "metadata": {},
   "source": [
    "__Analsyis on Tuning Hyperparameters:__ In the experiment above, we evaluate the `C` parameter, formally referred to as the __Inverse Regularization Parameter__ in which as we reviewed the plot above, the key indicator for our assessment is to review the smaller values that indicate the stronger regluarzation. This is important because here we can evaluate how well the regualrization parameter is controling the overfitting. \n",
    "\n",
    "The accuracy results show that as `C` increases the peformance on acuracy also increases, however it appears after C=1, that the logistic regression is stables and we do not see much change in the performance (better or worse), therefore, we can concluse that after `C=1` the model become obtimally regularized after increasing `C` may not improve the models ability to gernalize on more complex observations. "
   ]
  },
  {
   "cell_type": "markdown",
   "metadata": {},
   "source": [
    "#### Predicting Income - BernoulliNB Classifier Hyperparameter"
   ]
  },
  {
   "cell_type": "code",
   "execution_count": 65,
   "metadata": {},
   "outputs": [
    {
     "name": "stdout",
     "output_type": "stream",
     "text": [
      "----BernoulliNB  Classifier Hyperparameter tuning Results ----\n",
      "\n",
      "Best BernoulliNB  Score: 0.8415793423611759\n",
      "Best BernoulliNB  Parameters: {'alpha': 1.0, 'fit_prior': True} \n",
      "\n",
      "---- BernoulliNB Classification Report ----\n",
      "              precision    recall  f1-score   support\n",
      "\n",
      "           0       0.87      0.88      0.87      4966\n",
      "           1       0.60      0.56      0.58      1547\n",
      "\n",
      "    accuracy                           0.81      6513\n",
      "   macro avg       0.73      0.72      0.73      6513\n",
      "weighted avg       0.80      0.81      0.81      6513\n",
      "\n"
     ]
    }
   ],
   "source": [
    "model_prediction = nb_model.predict(X_test)\n",
    "print(\"----BernoulliNB  Classifier Hyperparameter tuning Results ----\")\n",
    "print(\"\")\n",
    "print(\"Best BernoulliNB  Score: 0.8415793423611759\")\n",
    "print(\"Best BernoulliNB  Parameters: {'alpha': 1.0, 'fit_prior': True} \")\n",
    "print(\"\")\n",
    "print(\"---- BernoulliNB Classification Report ----\")\n",
    "print(classification_report(y_test, model_prediction))"
   ]
  },
  {
   "cell_type": "markdown",
   "metadata": {},
   "source": [
    "__Analysis__"
   ]
  },
  {
   "cell_type": "markdown",
   "metadata": {},
   "source": [
    "The naive bayes model performs best with an alpha of 1.0. The best ROC area under the curve is 0.841. We can see it preforms worst at positive class recall and best at negative class precision. "
   ]
  },
  {
   "cell_type": "markdown",
   "metadata": {},
   "source": [
    "#### Predicting Income - RandomForestClassifier Classifier Hyperparameter"
   ]
  },
  {
   "cell_type": "code",
   "execution_count": 66,
   "metadata": {},
   "outputs": [
    {
     "name": "stdout",
     "output_type": "stream",
     "text": [
      "----RandomForestClassifier Classifier Hyperparameter tuning Results ----\n",
      "\n",
      "Best RandomForestClassifier Score: 0.8950631829144058\n",
      "Best RandomForestClassifier Parameters: {'max_depth': 10, 'n_estimators': 100}\n",
      "\n",
      "---- RandomForestClassifier Classification Report ----\n",
      "              precision    recall  f1-score   support\n",
      "\n",
      "           0       0.86      0.96      0.91      4966\n",
      "           1       0.80      0.49      0.61      1547\n",
      "\n",
      "    accuracy                           0.85      6513\n",
      "   macro avg       0.83      0.72      0.76      6513\n",
      "weighted avg       0.84      0.85      0.84      6513\n",
      "\n"
     ]
    }
   ],
   "source": [
    "from sklearn.ensemble import RandomForestClassifier\n",
    "tree = RandomForestClassifier(max_depth=10, n_estimators=100)\n",
    "tree.fit(X_train, y_train)\n",
    "#print(\"Feature importances:\\n{}\".format(tree.feature_importances_))\n",
    "\n",
    "model_prediction = tree.predict(X_test)\n",
    "print(\"----RandomForestClassifier Classifier Hyperparameter tuning Results ----\")\n",
    "print(\"\")\n",
    "print(\"Best RandomForestClassifier Score: 0.8950631829144058\")\n",
    "print(\"Best RandomForestClassifier Parameters: {'max_depth': 10, 'n_estimators': 100}\")\n",
    "print(\"\")\n",
    "print(\"---- RandomForestClassifier Classification Report ----\")\n",
    "print(classification_report(y_test, model_prediction))"
   ]
  },
  {
   "cell_type": "markdown",
   "metadata": {},
   "source": [
    "__Analysis__"
   ]
  },
  {
   "cell_type": "markdown",
   "metadata": {},
   "source": [
    "The parameters for a random forest classifier consist of:\n",
    "\n",
    "- n_estimators: the number of decision trees to use in constructing our \"forest\"\n",
    "- criterion: how to measure the quality of a split\n",
    "- max_depth: how deep we allow our tree to recurse to\n",
    "- min_samples: the minimum number of samples we'll allow in a leaf node\n",
    "\n",
    "The latter 3 are all really parameters for individual decision trees rather than the forest as a whole. The max_depth and min_samples parameters are set in order to prevent overfitting, as otherwise our tree would likely recurse until each instance is an individual leaf node. "
   ]
  },
  {
   "cell_type": "markdown",
   "metadata": {},
   "source": [
    "#### Predicting Income - KNeighborsClassifier Classifier Hyperparameter"
   ]
  },
  {
   "cell_type": "code",
   "execution_count": 67,
   "metadata": {},
   "outputs": [
    {
     "name": "stdout",
     "output_type": "stream",
     "text": [
      "----KNeighborsClassifier Classifier Hyperparameter tuning Results ----\n",
      "\n",
      "Best KNeighborsClassifier Score: 0.8637542443095839\n",
      "Best KNeighborsClassifier Parameters: {'metric': 'manhattan', 'n_neighbors': 21, 'weights': 'uniform'}\n",
      "\n",
      "---- KNeighborsClassifier Classification Report ----\n",
      "              precision    recall  f1-score   support\n",
      "\n",
      "           0       0.85      0.94      0.90      4966\n",
      "           1       0.72      0.48      0.58      1547\n",
      "\n",
      "    accuracy                           0.83      6513\n",
      "   macro avg       0.79      0.71      0.74      6513\n",
      "weighted avg       0.82      0.83      0.82      6513\n",
      "\n"
     ]
    }
   ],
   "source": [
    "from sklearn.neighbors import KNeighborsClassifier\n",
    "knn = KNeighborsClassifier(metric='manhattan', n_neighbors=21,weights='uniform')\n",
    "knn.fit(X_train, y_train)\n",
    "#print(\"Feature importances:\\n{}\".format(knn.feature_importances_))\n",
    "model_prediction = knn.predict(X_test)\n",
    "print(\"----KNeighborsClassifier Classifier Hyperparameter tuning Results ----\")\n",
    "print(\"\")\n",
    "print(\"Best KNeighborsClassifier Score: 0.8637542443095839\")\n",
    "print(\"Best KNeighborsClassifier Parameters: {'metric': 'manhattan', 'n_neighbors': 21, 'weights': 'uniform'}\")\n",
    "print(\"\")\n",
    "print(\"---- KNeighborsClassifier Classification Report ----\")\n",
    "print(classification_report(y_test, model_prediction))"
   ]
  },
  {
   "cell_type": "markdown",
   "metadata": {},
   "source": [
    "__Analysis__"
   ]
  },
  {
   "cell_type": "markdown",
   "metadata": {},
   "source": [
    "The K Nearest Neighbors classifier fits data based on the number of neighbors `k`, the distance metric used, and the weights on each neighbor used to classify the query point. Possible values are:\n",
    "\n",
    "- k: any integer within the range 1-N, where N is the number of instances in our training set. This determines the number of neighbors used to classify the query point, where a higher k means more neighbor points are used for classification. \n",
    "- metric: the metric used to calculate the closest neighbors. The default values are Manhattan distance, euclidean distance, higher-dimension Minkowski distance, Chebyshev distance, and Mahalanobis distance.\n",
    "- weights: whether to apply equal weighting to the k nearest points to classify the query point. A value of \"uniform\" means the k neighbors are weighted equally, whereas \"distance\" means the nearest neighbors will be weighted by inverse distance, meaning closer points have a stronger effect on prediction. \n",
    "\n",
    "From grid search, we determined that the best parameters for this dataset are `k= 21, distance='manhattan', weights='uniform'`. \n",
    "\n",
    "There is one more parameter to consider; the `algorithm` argument. This does not change the methodology of KNN, but determines how the neighbors are calculated computationally, either via a tree structure or brute force. We can time each algorithm to evaluate the performance. Since we are only interested in computation time here, we are ignoring cross-validation and training/testing splits. "
   ]
  },
  {
   "cell_type": "code",
   "execution_count": 54,
   "metadata": {
    "scrolled": true
   },
   "outputs": [
    {
     "name": "stdout",
     "output_type": "stream",
     "text": [
      "The ball_tree model took 127.38964486122131 seconds, and gave an accuracy of 0.8477933724394214\n",
      "The kd_tree model took 152.98252892494202 seconds, and gave an accuracy of 0.8477933724394214\n",
      "The brute model took 37.27106690406799 seconds, and gave an accuracy of 0.8477933724394214\n"
     ]
    }
   ],
   "source": [
    "# Examine algorithms - timing and accuracy\n",
    "# Benchmarking code drawn from https://stackoverflow.com/questions/24812253/how-can-i-capture-return-value-with-python-timeit-module\n",
    "\n",
    "import time\n",
    "\n",
    "for alg in ['ball_tree', 'kd_tree', 'brute']:\n",
    "    \n",
    "    start = time.time()\n",
    "    clf = KNeighborsClassifier(n_neighbors=21, algorithm=alg)\n",
    "    clf.fit(X, y)\n",
    "    pred = clf.predict(X)\n",
    "    acc = mt.accuracy_score(y, pred)\n",
    "    total_time = time.time() - start\n",
    "    print(\"The {alg} model took {t} seconds, and gave an accuracy of {acc}\".format(alg=alg, t=total_time, acc=acc))\n",
    "    "
   ]
  },
  {
   "cell_type": "markdown",
   "metadata": {},
   "source": [
    "All three algorithms give us the same accuracy. Given the size of our dataset and the default leaf size of 30, it's likely that our trees are allowed to fully recurse, or at least enough to give us equal accuracy to the 16th decimal place. \n",
    "\n",
    "In order of evaluation time, the best algorithms are brute force, ball tree, and then KD tree. Surprisingly, the brute force approach is almost 4x faster than the ball tree approach, and almost 5x faster than the KD tree. \n",
    "\n",
    "[The documentation](https://scikit-learn.org/stable/modules/neighbors.html#choice-of-nearest-neighbors-algorithm) on the nearest neighbors module discusses this a bit. The model fitting times are determined by the choice of the number of nearest neighbors `k`, the rows in the dataset `N`, and the number of features in the dataset `D`. In our case, those parameters are `k=21, N=32561, and D=90`. "
   ]
  },
  {
   "cell_type": "markdown",
   "metadata": {},
   "source": [
    "The time complexities are given by:\n",
    "\n",
    "| Algorithm     | Time Complexity\n",
    "| ------------- |:-------------:| \n",
    "| Brute force   | O(D\\*N)       | \n",
    "| Ball tree     | O(D\\*log(N))  |   \n",
    "| KD tree       | O(D\\*log(N))  |   \n",
    "\n",
    "For KD trees, as `D` increases the time complexity approaches that of brute force. Additionally, when `k` is large relative to `N` the ability for branch pruning is reduced, meaning that brute force will be better. However, this isn't the case here. `k` is 17, which may be considered large, but is nowhere near our `N` of 32561. "
   ]
  },
  {
   "cell_type": "markdown",
   "metadata": {},
   "source": [
    "---\n",
    "### Sex\n",
    "\n",
    "\n",
    "To see the full outputs from the GridSearchCV that was referenced in the above sections for hyperparameter tuning see sections below:\n",
    "* Predicting INCOME Grid Search Output\n",
    "* Predicting SEX Grid Search Output"
   ]
  },
  {
   "cell_type": "code",
   "execution_count": null,
   "metadata": {},
   "outputs": [],
   "source": []
  },
  {
   "cell_type": "code",
   "execution_count": null,
   "metadata": {},
   "outputs": [],
   "source": [
    "# Load the dataset\n",
    "df = pd.read_csv(\"../data/lab2_df.csv\")\n",
    "# define variables for classificaiton training\n",
    "\n",
    "variables_ = ['age', 'fnlwgt', 'educationNum', 'hoursPerWeek', 'netCapital', 'isWhite', 'isMarried', 'isHusband', 'USA', 'income', 'jobtype_government', 'jobtype_other', 'jobtype_private']\n",
    "y=df['sex_Male']\n",
    "X=df[variables_]\n",
    "\n",
    "# test train scaler\n",
    "scaler = StandardScaler()\n",
    "X = scaler.fit_transform(X)\n",
    "\n",
    "# test train split\n",
    "X_train, X_test, y_train, y_test = train_test_split(X, y, test_size=0.2, random_state=0)\n"
   ]
  },
  {
   "cell_type": "code",
   "execution_count": 5,
   "metadata": {},
   "outputs": [],
   "source": [
    "params_lr = {'solver': ['newton-cg', 'lbfgs', 'sag'], 'C': [0.1, 1, 10]}\n",
    "lr_model = GridSearchCV(LogisticRegression(class_weight='balanced', max_iter=1000), params_lr, cv=kfold, scoring='roc_auc')\n",
    "\n",
    "params_rfc = {'n_estimators': [50,100,150], 'max_depth':[5,20,10]}\n",
    "rfc_model = GridSearchCV(RandomForestClassifier(), params_rfc, cv=kfold, scoring='roc_auc',n_jobs=-1)\n",
    "\n",
    "params_nb = {'alpha': [1.0, 0.1, 0.01, 0.00], 'fit_prior':[True, False]}\n",
    "nb_model = GridSearchCV(MultinomialNB(), params_nb, cv=kfold, scoring='roc_auc')\n",
    "\n",
    "\n",
    "params_knn = {'n_neighbors': [17,15,19,21], 'weights':['uniform','distance'], \n",
    "              'metric':['minkowski','manhattan','chebyshev']}\n",
    "knn_model = GridSearchCV(KNeighborsClassifier(), params_knn, cv=kfold, scoring='roc_auc',n_jobs=-1)\n",
    "\n",
    "params_gbx = params = {\"learning_rate\": [0.0001, 0.001, 0.01, 0.1, 0.2, 0.3],\n",
    "          \"max_depth\":range(1, 11, 2),\n",
    "         \"objective\":[\"binary:logistic\"]}\n",
    "gbx_model = GridSearchCV(XGBClassifier(), params_gbx, cv=kfold, scoring='roc_auc',n_jobs=-1)\n",
    "\n",
    "models=[('LogisticRegression',lr_model),\n",
    "        ('KNNClassifier',knn_model),\n",
    "        ('RandomForestClassifer',rfc_model),\n",
    "        ('XGBClassifier',gbx_model)]\n",
    "\n",
    "#model_eval(models)"
   ]
  },
  {
   "cell_type": "markdown",
   "metadata": {},
   "source": [
    "#### Predicting SEX - XGBClassifier Classifier Hyperparameter"
   ]
  },
  {
   "cell_type": "code",
   "execution_count": 31,
   "metadata": {},
   "outputs": [
    {
     "name": "stdout",
     "output_type": "stream",
     "text": [
      "----XGBClassifier Classifier Hyperparameter tuning Results ----\n",
      "\n",
      "Best XGBClassifier Score: 0.8737781024690019\n",
      "Best XGBClassifier Parameters: {'learning_rate': 0.2, 'max_depth': 5, 'objective': 'binary:logistic'}\n",
      "\n",
      "---- XGBClassifier Classification Report ----\n",
      "              precision    recall  f1-score   support\n",
      "\n",
      "           0       0.67      0.74      0.70      2227\n",
      "           1       0.86      0.81      0.83      4286\n",
      "\n",
      "    accuracy                           0.79      6513\n",
      "   macro avg       0.76      0.77      0.77      6513\n",
      "weighted avg       0.79      0.79      0.79      6513\n",
      "\n"
     ]
    }
   ],
   "source": [
    "\"\"\"\n",
    "Best XGBClassifier Parameters: {'learning_rate': 0.1, 'max_depth': 7, 'objective': 'binary:logistic'} \n",
    "\"\"\"\n",
    "\n",
    "xgb_best = XGBClassifier(learning_rate=0.2, max_depth=5, objective='binary:logistic')\n",
    "xgb_best.fit(X_train, y_train, eval_metric=\"auc\")\n",
    "#xgb_best_results = cross_val_score(xgb_best, X_test, y_test,scoring='roc_auc',cv=kfold,  n_jobs=-1)\n",
    "#xgb_best_results\n",
    "\n",
    "model_prediction = xgb_best.predict(X_test)\n",
    "print(\"----XGBClassifier Classifier Hyperparameter tuning Results ----\")\n",
    "print(\"\")\n",
    "print(\"Best XGBClassifier Score: 0.8737781024690019\")\n",
    "print(\"Best XGBClassifier Parameters: {'learning_rate': 0.2, 'max_depth': 5, 'objective': 'binary:logistic'}\")\n",
    "print(\"\")\n",
    "print(\"---- XGBClassifier Classification Report ----\")\n",
    "print(classification_report(y_test, model_prediction))"
   ]
  },
  {
   "cell_type": "code",
   "execution_count": 43,
   "metadata": {},
   "outputs": [
    {
     "name": "stdout",
     "output_type": "stream",
     "text": [
      "\n",
      "---- Accuracy Results for learning_rate=0.0001 ----\n",
      "xgb learning_rate=0.0001 Train accuracy: 0.844\n",
      "xgb learning_rate=0.0001 Test accuracy: 0.837\n",
      "\n",
      "---- Accuracy Results for learning_rate=0.001 ----\n",
      "xgb learning_rate=0.001 Train accuracy: 0.848\n",
      "xgb learning_rate=0.001 Test accuracy: 0.844\n",
      "\n",
      "---- Accuracy Results for learning_rate=0.01 ----\n",
      "xgb learning_rate=0.001 Train accuracy: 0.860\n",
      "xgb learning_rate=0.001 Test accuracy: 0.854\n",
      "\n",
      "---- Accuracy Results for learning_rate=0.1 ----\n",
      "xgb learning_rate=0.1 Train accuracy: 0.870\n",
      "xgb learning_rate=0.1 Test accuracy: 0.866\n",
      "\n",
      "---- Accuracy Results for learning_rate=0.2 ----\n",
      "xgb learning_rate=0.2 Train accuracy: 0.872\n",
      "xgb learning_rate=0.2 Test accuracy: 0.867\n",
      "\n",
      "---- Accuracy Results for learning_rate=0.3 ----\n",
      "xgb learning_rate=0.3 Train accuracy: 0.873\n",
      "xgb learning_rate=0.3 Test accuracy: 0.866\n"
     ]
    }
   ],
   "source": [
    "xgb0001 = XGBClassifier(random_state=0, learning_rate=0.0001)\n",
    "xgb0001.fit(X_train, y_train)\n",
    "print(\"\")\n",
    "print(\"---- Accuracy Results for learning_rate=0.0001 ----\")\n",
    "print(\"xgb learning_rate=0.0001 Train accuracy: {:.3f}\".format(cross_val_score(xgb0001, X_train, y_train,scoring='roc_auc',cv=kfold).mean()))\n",
    "print(\"xgb learning_rate=0.0001 Test accuracy: {:.3f}\".format(cross_val_score(xgb0001,  X_test, y_test,scoring='roc_auc',cv=kfold).mean()))\n",
    "\n",
    "xgb001 = XGBClassifier(random_state=0, learning_rate=0.001)\n",
    "xgb001.fit(X_train, y_train)\n",
    "print(\"\")\n",
    "print(\"---- Accuracy Results for learning_rate=0.001 ----\")\n",
    "print(\"xgb learning_rate=0.001 Train accuracy: {:.3f}\".format(cross_val_score(xgb001, X_train, y_train,scoring='roc_auc',cv=kfold).mean()))\n",
    "print(\"xgb learning_rate=0.001 Test accuracy: {:.3f}\".format(cross_val_score(xgb001,  X_test, y_test,scoring='roc_auc',cv=kfold).mean()))\n",
    "\n",
    "\n",
    "xgb01 = XGBClassifier(random_state=0, learning_rate=0.01)\n",
    "xgb01.fit(X_train, y_train)\n",
    "print(\"\")\n",
    "print(\"---- Accuracy Results for learning_rate=0.01 ----\")\n",
    "print(\"xgb learning_rate=0.001 Train accuracy: {:.3f}\".format(cross_val_score(xgb01, X_train, y_train,scoring='roc_auc',cv=kfold).mean()))\n",
    "print(\"xgb learning_rate=0.001 Test accuracy: {:.3f}\".format(cross_val_score(xgb01,  X_test, y_test,scoring='roc_auc',cv=kfold).mean()))\n",
    "\n",
    "\n",
    "xgb1 = XGBClassifier(random_state=0, learning_rate=0.1)\n",
    "xgb1.fit(X_train, y_train)\n",
    "print(\"\")\n",
    "print(\"---- Accuracy Results for learning_rate=0.1 ----\")\n",
    "print(\"xgb learning_rate=0.1 Train accuracy: {:.3f}\".format(cross_val_score(xgb1, X_train, y_train,scoring='roc_auc',cv=kfold).mean()))\n",
    "print(\"xgb learning_rate=0.1 Test accuracy: {:.3f}\".format(cross_val_score(xgb1,  X_test, y_test,scoring='roc_auc',cv=kfold).mean()))\n",
    "\n",
    "\n",
    "xgb2 = XGBClassifier(random_state=0, learning_rate=0.2)\n",
    "xgb2.fit(X_train, y_train)\n",
    "print(\"\")\n",
    "print(\"---- Accuracy Results for learning_rate=0.2 ----\")\n",
    "print(\"xgb learning_rate=0.2 Train accuracy: {:.3f}\".format(cross_val_score(xgb2, X_train, y_train,scoring='roc_auc',cv=kfold).mean()))\n",
    "print(\"xgb learning_rate=0.2 Test accuracy: {:.3f}\".format(cross_val_score(xgb2,  X_test, y_test,scoring='roc_auc',cv=kfold).mean()))\n",
    "\n",
    "\n",
    "xgb3 = XGBClassifier(random_state=0, learning_rate=0.3)\n",
    "xgb3.fit(X_train, y_train)\n",
    "print(\"\")\n",
    "print(\"---- Accuracy Results for learning_rate=0.3 ----\")\n",
    "print(\"xgb learning_rate=0.3 Train accuracy: {:.3f}\".format(cross_val_score(xgb3, X_train, y_train,scoring='roc_auc',cv=kfold).mean()))\n",
    "print(\"xgb learning_rate=0.3 Test accuracy: {:.3f}\".format(cross_val_score(xgb3,  X_test, y_test,scoring='roc_auc',cv=kfold).mean()))"
   ]
  },
  {
   "cell_type": "markdown",
   "metadata": {},
   "source": [
    "__XGB Classifier Analysis on Learning Rate Tuning (holding `max_depth` constant)__ \n",
    "\n",
    "Review the results from the XGB learning Rate tuning, we can see the test and train score outputs, and overall there does not appear to be any indication or evidenace of overfitting whith the addition of any of the experimented learning rates. With holding `max_depth` constant through each of the `learning_rate` tuning experiments, it appears tha as we increase the learning rate both test and train accuracy increases. Additionally, it appears the accuracy does level off after `learning_rate=0.1`, which is the same optimal value selected by the `GridSearchCV` tuning pipeline. "
   ]
  },
  {
   "cell_type": "markdown",
   "metadata": {},
   "source": [
    "__Further Tuning Analysis on learnigng_rate and max_depth__"
   ]
  },
  {
   "cell_type": "code",
   "execution_count": 41,
   "metadata": {},
   "outputs": [
    {
     "name": "stdout",
     "output_type": "stream",
     "text": [
      "Best: 0.782132 using {'learning_rate': 0.2, 'max_depth': 5, 'objective': 'binary:logistic'}\n",
      "0.734989 (0.007125) with: {'learning_rate': 0.0001, 'max_depth': 1, 'objective': 'binary:logistic'}\n",
      "0.755221 (0.007428) with: {'learning_rate': 0.0001, 'max_depth': 3, 'objective': 'binary:logistic'}\n",
      "0.768580 (0.008719) with: {'learning_rate': 0.0001, 'max_depth': 5, 'objective': 'binary:logistic'}\n",
      "0.770154 (0.007993) with: {'learning_rate': 0.0001, 'max_depth': 7, 'objective': 'binary:logistic'}\n",
      "0.768465 (0.012395) with: {'learning_rate': 0.0001, 'max_depth': 9, 'objective': 'binary:logistic'}\n",
      "0.734989 (0.007125) with: {'learning_rate': 0.001, 'max_depth': 1, 'objective': 'binary:logistic'}\n",
      "0.755298 (0.007298) with: {'learning_rate': 0.001, 'max_depth': 3, 'objective': 'binary:logistic'}\n",
      "0.772150 (0.011713) with: {'learning_rate': 0.001, 'max_depth': 5, 'objective': 'binary:logistic'}\n",
      "0.771613 (0.008950) with: {'learning_rate': 0.001, 'max_depth': 7, 'objective': 'binary:logistic'}\n",
      "0.770461 (0.011277) with: {'learning_rate': 0.001, 'max_depth': 9, 'objective': 'binary:logistic'}\n",
      "0.734989 (0.007125) with: {'learning_rate': 0.01, 'max_depth': 1, 'objective': 'binary:logistic'}\n",
      "0.764320 (0.006812) with: {'learning_rate': 0.01, 'max_depth': 3, 'objective': 'binary:logistic'}\n",
      "0.774646 (0.008667) with: {'learning_rate': 0.01, 'max_depth': 5, 'objective': 'binary:logistic'}\n",
      "0.773532 (0.010287) with: {'learning_rate': 0.01, 'max_depth': 7, 'objective': 'binary:logistic'}\n",
      "0.775068 (0.010460) with: {'learning_rate': 0.01, 'max_depth': 9, 'objective': 'binary:logistic'}\n",
      "0.768427 (0.008012) with: {'learning_rate': 0.1, 'max_depth': 1, 'objective': 'binary:logistic'}\n",
      "0.776757 (0.008017) with: {'learning_rate': 0.1, 'max_depth': 3, 'objective': 'binary:logistic'}\n",
      "0.779445 (0.008952) with: {'learning_rate': 0.1, 'max_depth': 5, 'objective': 'binary:logistic'}\n",
      "0.779829 (0.009395) with: {'learning_rate': 0.1, 'max_depth': 7, 'objective': 'binary:logistic'}\n",
      "0.780059 (0.008550) with: {'learning_rate': 0.1, 'max_depth': 9, 'objective': 'binary:logistic'}\n",
      "0.774723 (0.007121) with: {'learning_rate': 0.2, 'max_depth': 1, 'objective': 'binary:logistic'}\n",
      "0.778984 (0.007335) with: {'learning_rate': 0.2, 'max_depth': 3, 'objective': 'binary:logistic'}\n",
      "0.782132 (0.010701) with: {'learning_rate': 0.2, 'max_depth': 5, 'objective': 'binary:logistic'}\n",
      "0.778715 (0.008266) with: {'learning_rate': 0.2, 'max_depth': 7, 'objective': 'binary:logistic'}\n",
      "0.780942 (0.008179) with: {'learning_rate': 0.2, 'max_depth': 9, 'objective': 'binary:logistic'}\n",
      "0.776028 (0.007854) with: {'learning_rate': 0.3, 'max_depth': 1, 'objective': 'binary:logistic'}\n",
      "0.778754 (0.008194) with: {'learning_rate': 0.3, 'max_depth': 3, 'objective': 'binary:logistic'}\n",
      "0.780865 (0.007775) with: {'learning_rate': 0.3, 'max_depth': 5, 'objective': 'binary:logistic'}\n",
      "0.779867 (0.008595) with: {'learning_rate': 0.3, 'max_depth': 7, 'objective': 'binary:logistic'}\n",
      "0.779944 (0.008057) with: {'learning_rate': 0.3, 'max_depth': 9, 'objective': 'binary:logistic'}\n"
     ]
    }
   ],
   "source": [
    "# summarize results\n",
    "print(\"Best: %f using %s\" % (xgb.best_score_, xgb.best_params_))\n",
    "means = xgb.cv_results_['mean_test_score']\n",
    "stds = xgb.cv_results_['std_test_score']\n",
    "params = xgb.cv_results_['params']\n",
    "for mean, stdev, param in zip(means, stds, params):\n",
    "\tprint(\"%f (%f) with: %r\" % (mean, stdev, param))"
   ]
  },
  {
   "cell_type": "markdown",
   "metadata": {},
   "source": [
    "__Analysis on Results of Tuning XGB on learnigng_rate and max_depth__\n",
    "\n",
    "We can see the relationship between `max_depth` and `learning_rate`  has on the performance of the model. As the max_depth increases along with te learning rate, the complexity of the model is appropriately controlled indicating the corresponding increase in accuracy when tested on how well the parameters are able to generalized the responses. Therefore, the optimal value for XGB is `{'learning_rate': 0.2, 'max_depth': 5, 'objective': 'binary:logistic'}` for predicting SEX."
   ]
  },
  {
   "cell_type": "markdown",
   "metadata": {},
   "source": [
    "#### Predicting SEX - LogisticRegression Classifier Hyperparameter"
   ]
  },
  {
   "cell_type": "code",
   "execution_count": 36,
   "metadata": {},
   "outputs": [
    {
     "name": "stdout",
     "output_type": "stream",
     "text": [
      "----LogisticRegression Classifier Hyperparameter tuning Results ----\n",
      "\n",
      "Best LogisticRegression Score: 0.8633324043194153\n",
      "Best LogisticRegression Parameters: {'C': 10, 'solver': 'sag'} \n",
      "\n",
      "---- LogisticRegression Classification Report ----\n",
      "              precision    recall  f1-score   support\n",
      "\n",
      "           0       0.65      0.77      0.70      2227\n",
      "           1       0.87      0.78      0.82      4286\n",
      "\n",
      "    accuracy                           0.78      6513\n",
      "   macro avg       0.76      0.77      0.76      6513\n",
      "weighted avg       0.79      0.78      0.78      6513\n",
      "\n"
     ]
    }
   ],
   "source": [
    "from sklearn.linear_model import LogisticRegression\n",
    "logit10 = LogisticRegression(C=10, solver = 'sag')\n",
    "logit10.fit(X_train, y_train)\n",
    "model_prediction = logit10.predict(X_test)\n",
    "print(\"----LogisticRegression Classifier Hyperparameter tuning Results ----\")\n",
    "print(\"\")\n",
    "print(\"Best LogisticRegression Score: 0.8633324043194153\")\n",
    "print(\"Best LogisticRegression Parameters: {'C': 10, 'solver': 'sag'} \")\n",
    "print(\"\")\n",
    "print(\"---- LogisticRegression Classification Report ----\")\n",
    "print(classification_report(y_test, model_prediction))"
   ]
  },
  {
   "cell_type": "markdown",
   "metadata": {},
   "source": [
    "__Analysis__"
   ]
  },
  {
   "cell_type": "code",
   "execution_count": 23,
   "metadata": {},
   "outputs": [
    {
     "name": "stdout",
     "output_type": "stream",
     "text": [
      "---- Accuracy Results for C=0.001 ----\n",
      "logit C=0.001 Train accuracy: 0.857\n",
      "logit C=0.001 Test accuracy: 0.843\n",
      "\n",
      "---- Accuracy Results for C=1 ----\n",
      "logit C=1 Train accuracy: 0.863\n",
      "logit C=1 Test accuracy: 0.864\n",
      "\n",
      "---- Accuracy Results for C=10 ----\n",
      "logit C=10 Train accuracy: 0.863\n",
      "logit C=10 Test accuracy: 0.864\n"
     ]
    }
   ],
   "source": [
    "from sklearn.linear_model import LogisticRegression\n",
    "logit001 = LogisticRegression(C=0.001, solver = 'sag')\n",
    "logit001.fit(X_train, y_train)\n",
    "print(\"---- Accuracy Results for C=0.001 ----\")\n",
    "print(\"logit C=0.001 Train accuracy: {:.3f}\".format(cross_val_score(logit001, X_train, y_train,scoring='roc_auc',cv=kfold).mean()))\n",
    "print(\"logit C=0.001 Test accuracy: {:.3f}\".format(cross_val_score(logit001,  X_test, y_test,scoring='roc_auc',cv=kfold).mean()))\n",
    "\n",
    "\n",
    "logit1 = LogisticRegression(C=1, solver = 'sag')\n",
    "logit1.fit(X_train, y_train)\n",
    "print(\"\")\n",
    "print(\"---- Accuracy Results for C=1 ----\")\n",
    "print(\"logit C=1 Train accuracy: {:.3f}\".format(cross_val_score(logit1, X_train, y_train,scoring='roc_auc',cv=kfold).mean()))\n",
    "print(\"logit C=1 Test accuracy: {:.3f}\".format(cross_val_score(logit1, X_test, y_test,scoring='roc_auc',cv=kfold).mean()))\n",
    "\n",
    "\n",
    "logit10 = LogisticRegression(C=10, solver = 'sag')\n",
    "logit10.fit(X_train, y_train)\n",
    "print(\"\")\n",
    "print(\"---- Accuracy Results for C=10 ----\")\n",
    "print(\"logit C=10 Train accuracy: {:.3f}\".format(cross_val_score(logit10, X_train, y_train,scoring='roc_auc',cv=kfold).mean()))\n",
    "print(\"logit C=10 Test accuracy: {:.3f}\".format(cross_val_score(logit10,  X_test, y_test,scoring='roc_auc',cv=kfold).mean()))\n"
   ]
  },
  {
   "cell_type": "markdown",
   "metadata": {},
   "source": [
    "__Analsyis on Tuning Hyperparameters:__ In the experiment above, we evaluate the `C` parameter, formally referred to as the __Inverse Regularization Parameter__ in which as we reviewed the plot above, the key indicator for our assessment is to review the smaller values that indicate the stronger regluarzation. This is important because here we can evaluate how well the regualrization parameter is controling the overfitting. \n",
    "\n",
    "The accuracy results show that as `C` increases the peformance on acuracy also increases, however it appears after C=1, that the logistic regression is stables and we do not see much change in the performance (better or worse), therefore, we can concluse that after `C=1` the model become obtimally regularized after increasing `C` may not improve the models ability to gernalize on more complex observations. "
   ]
  },
  {
   "cell_type": "markdown",
   "metadata": {},
   "source": [
    "#### Predicting SEX - RandomForestClassifier Classifier Hyperparameter"
   ]
  },
  {
   "cell_type": "code",
   "execution_count": 34,
   "metadata": {},
   "outputs": [
    {
     "name": "stdout",
     "output_type": "stream",
     "text": [
      "----RandomForestClassifier Classifier Hyperparameter tuning Results ----\n",
      "\n",
      "Best RandomForestClassifier Score: 0.8706631138553972\n",
      "Best RandomForestClassifier Parameters: {'max_depth': 10, 'n_estimators': 150}\n",
      "\n",
      "---- RandomForestClassifier Classification Report ----\n",
      "              precision    recall  f1-score   support\n",
      "\n",
      "           0       0.66      0.74      0.70      2227\n",
      "           1       0.86      0.80      0.83      4286\n",
      "\n",
      "    accuracy                           0.78      6513\n",
      "   macro avg       0.76      0.77      0.77      6513\n",
      "weighted avg       0.79      0.78      0.79      6513\n",
      "\n"
     ]
    }
   ],
   "source": [
    "from sklearn.ensemble import RandomForestClassifier\n",
    "tree = RandomForestClassifier(max_depth=10, n_estimators=150)\n",
    "tree.fit(X_train, y_train)\n",
    "#print(\"Feature importances:\\n{}\".format(tree.feature_importances_))\n",
    "\n",
    "\n",
    "model_prediction = tree.predict(X_test)\n",
    "print(\"----RandomForestClassifier Classifier Hyperparameter tuning Results ----\")\n",
    "print(\"\")\n",
    "print(\"Best RandomForestClassifier Score: 0.8706631138553972\")\n",
    "print(\"Best RandomForestClassifier Parameters: {'max_depth': 10, 'n_estimators': 150}\")\n",
    "print(\"\")\n",
    "print(\"---- RandomForestClassifier Classification Report ----\")\n",
    "print(classification_report(y_test, model_prediction))"
   ]
  },
  {
   "cell_type": "markdown",
   "metadata": {},
   "source": [
    "__Analysis__"
   ]
  },
  {
   "cell_type": "markdown",
   "metadata": {},
   "source": [
    "For both the sex and income classifications, we use grid search to look for the optimal number of estimators, and the max depth of the tree. "
   ]
  },
  {
   "cell_type": "markdown",
   "metadata": {},
   "source": [
    "#### Predicting SEX - KNeighborsClassifier Classifier Hyperparameter"
   ]
  },
  {
   "cell_type": "code",
   "execution_count": 35,
   "metadata": {},
   "outputs": [
    {
     "name": "stdout",
     "output_type": "stream",
     "text": [
      "----KNeighborsClassifier Classifier Hyperparameter tuning Results ----\n",
      "\n",
      "Best KNeighborsClassifier Score: 0.8585870322129203\n",
      "Best KNeighborsClassifier Parameters: {'metric': 'manhattan', 'n_neighbors': 21, 'weights': 'uniform'} \n",
      "\n",
      "---- KNeighborsClassifier Classification Report ----\n",
      "              precision    recall  f1-score   support\n",
      "\n",
      "           0       0.65      0.72      0.68      2227\n",
      "           1       0.85      0.80      0.82      4286\n",
      "\n",
      "    accuracy                           0.77      6513\n",
      "   macro avg       0.75      0.76      0.75      6513\n",
      "weighted avg       0.78      0.77      0.77      6513\n",
      "\n"
     ]
    }
   ],
   "source": [
    "from sklearn.neighbors import KNeighborsClassifier\n",
    "knn = KNeighborsClassifier(metric='manhattan', n_neighbors=21,weights='uniform')\n",
    "knn.fit(X_train, y_train)\n",
    "#print(\"Feature importances:\\n{}\".format(knn.feature_importances_))\n",
    "model_prediction = knn.predict(X_test)\n",
    "print(\"----KNeighborsClassifier Classifier Hyperparameter tuning Results ----\")\n",
    "print(\"\")\n",
    "print(\"Best KNeighborsClassifier Score: 0.8585870322129203\")\n",
    "print(\"Best KNeighborsClassifier Parameters: {'metric': 'manhattan', 'n_neighbors': 21, 'weights': 'uniform'} \")\n",
    "print(\"\")\n",
    "print(\"---- KNeighborsClassifier Classification Report ----\")\n",
    "print(classification_report(y_test, model_prediction))"
   ]
  },
  {
   "cell_type": "markdown",
   "metadata": {},
   "source": [
    "__Analysis__"
   ]
  },
  {
   "cell_type": "markdown",
   "metadata": {},
   "source": [
    "As described in the income section, we use gridsearch to determine the optimal values of k, weights, and distance metric. We found that just like the the income analysis, an unweighted 17-neighbors model using Manhattan distance is optimal by AUC. For constructing the tree, we allow the sklearn package to automatically select the best algorithm by not specifying one. "
   ]
  },
  {
   "cell_type": "markdown",
   "metadata": {},
   "source": [
    "#### Predicting SEX - BernoulliNB Classifier Hyperparameter"
   ]
  },
  {
   "cell_type": "code",
   "execution_count": 33,
   "metadata": {},
   "outputs": [
    {
     "name": "stdout",
     "output_type": "stream",
     "text": [
      "----BernoulliNB  Classifier Hyperparameter tuning Results ----\n",
      "\n",
      "Best BernoulliNB  Score: 0.8127890247204874\n",
      "Best BernoulliNB  Parameters: {'alpha': 1.0, 'fit_prior': True} \n",
      "\n",
      "---- BernoulliNB Classification Report ----\n",
      "              precision    recall  f1-score   support\n",
      "\n",
      "           0       0.59      0.78      0.67      2227\n",
      "           1       0.86      0.72      0.78      4286\n",
      "\n",
      "    accuracy                           0.74      6513\n",
      "   macro avg       0.73      0.75      0.73      6513\n",
      "weighted avg       0.77      0.74      0.75      6513\n",
      "\n"
     ]
    }
   ],
   "source": [
    "model_prediction = nb_model.predict(X_test)\n",
    "print(\"----BernoulliNB  Classifier Hyperparameter tuning Results ----\")\n",
    "print(\"\")\n",
    "print(\"Best BernoulliNB  Score: 0.8127890247204874\")\n",
    "print(\"Best BernoulliNB  Parameters: {'alpha': 1.0, 'fit_prior': True} \")\n",
    "print(\"\")\n",
    "print(\"---- BernoulliNB Classification Report ----\")\n",
    "print(classification_report(y_test, model_prediction))"
   ]
  },
  {
   "cell_type": "markdown",
   "metadata": {},
   "source": [
    "__Analysis__"
   ]
  },
  {
   "cell_type": "markdown",
   "metadata": {},
   "source": [
    "The Bernoulli naive bayes model performed best with an Alpha of 1.0. It's best ROC area under the curve was 0.81. It performed best on negative class recall(0.78) and worst on negative class precision. "
   ]
  },
  {
   "cell_type": "markdown",
   "metadata": {},
   "source": [
    "## Modeling and Evaluation 4\n",
    "\n",
    "Analyze the results using your chosen method of evaluation. Use visualizations of the results to bolster the analysis. Explain any visuals and analyze why they are interesting to someone that might use this model."
   ]
  },
  {
   "cell_type": "markdown",
   "metadata": {},
   "source": [
    "### Classification 1. Evaluating income\n",
    "\n",
    "#### Accuracy\n",
    "\n",
    "Accuracy is the most basic summary statistic of a model's performance, equal to the number of correct guesses over the number of instances in the dataset. Accuracy can provide a simple catch-all value to compare models, but in the case of unbalanced datasets can be misleading. In this example, since there are far more low- than high-income individuals, a model that does not accurately classify high-income individuals can still display a high accuracy score. "
   ]
  },
  {
   "cell_type": "code",
   "execution_count": 75,
   "metadata": {},
   "outputs": [
    {
     "data": {
      "text/plain": [
       "0.2408095574460244"
      ]
     },
     "execution_count": 75,
     "metadata": {},
     "output_type": "execute_result"
    }
   ],
   "source": [
    "df.income.sum() / df.shape[0]"
   ]
  },
  {
   "cell_type": "markdown",
   "metadata": {},
   "source": [
    "The ratio of low- to high-income individuals is more than 3-1. In an extreme example, a classifier that always chooses \"low-income\" will result in an accuracy of 76%, despite providing no predictive power whatsoever. "
   ]
  },
  {
   "cell_type": "markdown",
   "metadata": {},
   "source": [
    "#### Precision and recall\n",
    "\n",
    "The precision score is defined by \n",
    "\n",
    "\\begin{align}\n",
    "P = \\frac{T_p} {T_p + F_p}\n",
    "\\end{align}\n",
    "\n",
    "and recall by \n",
    "\n",
    "\\begin{align}\n",
    "R = \\frac{T_p} {T_p + F_n}\n",
    "\\end{align}\n",
    "\n",
    "where T_p represents true positives, F_p represents false positives, and F_n represents false negatives. \n",
    "\n",
    "The F score is a harmonization of precision and recall, and is given by \n",
    "\n",
    "\\begin{align}\n",
    "F = 2*\\frac{P*R} {P+R}\n",
    "\\end{align}"
   ]
  },
  {
   "cell_type": "markdown",
   "metadata": {},
   "source": [
    "To break down what the precision and recall scores mean, we can first examine our logistic regression model. We see that our logistic regression model returns a precision and recall score of 0.92 and 0.78 respectively, when low income individuals are the designated \"positive\". The precision score means that out of all individuals in our test dataset we classify as low-income, 92% of them are actually low-income. The recall score means that out of all low-income individuals in our testing set, 78% of them are classified as such. \n",
    "\n",
    "However, when we define high-income individuals as our \"positive\" class, the precision drops to 0.53, and the recall increases to 0.8. The roughly equivalent recall scores tell us that our logistic regression model correctly classifies an equal proportion of individuals in both the low- or high-income groups. However, the much lower precision score for high-income individuals means that our logistic model is much more accurately classifying low-income individuals than high-income individuals. \n",
    "\n",
    "One possible reason for this explanation is due to the imbalanced nature of our dataset. We have far more low-income instances than high income instances.  "
   ]
  },
  {
   "cell_type": "markdown",
   "metadata": {},
   "source": [
    "If our model guesses at random, a low-income classification has a 76% chance of being correct and a high-income classification has a 24% chance of being correct. As is, our precision scores indicate we're guessing roughly 20% better than expected at random for both classes. \n",
    "\n",
    "#### Receiver Operating Characteristic\n",
    "\n",
    "A ROC curve plots the true positive rate against the false positive rate at various classification threshhold settings. Specifically, in this instance, the y-axis represents the percentage of all high-income individuals in our dataset that are classified as such, and the x axis the percentage of all low-income individuals we classify as high-income. A perfect classifier will have the coordinate (0,1) at all threshhold levels, and a random guess will follow a diagonal line from (0,0) to (1,1). Curves that are pulled to the top left of our coordinate system then display better predictive power, at least in terms of correctly classifying high-income individuals.\n",
    "\n",
    "The AUC metric represents the summed area under the ROC curve, ranging from 0 to 1. Realistically, the range is only 0.5 to 1, as a worse-than-random classifier can always be inverted to be a positive classifier. "
   ]
  },
  {
   "cell_type": "markdown",
   "metadata": {},
   "source": [
    "#### Comparison"
   ]
  },
  {
   "cell_type": "markdown",
   "metadata": {},
   "source": [
    "The metrics we've discussed so far are precision/recall for both high and low-income individuals, and area under the curve. The best models for the following metrics are:\n",
    "\n",
    "- Low-income precision: Logistic regression\n",
    "- Low-income recall: Random forest \n",
    "- High-income precision: XGB\n",
    "- High-income recall: Logistic regression\n",
    "- Accuracy: XGB\n",
    "- AUC: XGB\n",
    "\n",
    "A simple perusal of all our comparison metrics indicates that the XGB classifier is the superior model. We are primarily concerned with classifying high-income individuals, so the high-income precision and recall metrics are weighted more heavily than the low-income precision/recall scores. Additionally, XGB performs best in terms of overall accuracy, as well as the area under the ROC curve, indicating that it best balances the ratios of false positives to false negatives. "
   ]
  },
  {
   "cell_type": "markdown",
   "metadata": {},
   "source": [
    "#### Results\n",
    "\n"
   ]
  },
  {
   "cell_type": "code",
   "execution_count": 112,
   "metadata": {},
   "outputs": [],
   "source": [
    "# Fit our best models on the test set\n",
    "\n",
    "from sklearn.linear_model import LogisticRegression\n",
    "from sklearn.neighbors import KNeighborsClassifier\n",
    "from sklearn.ensemble import GradientBoostingClassifier, RandomForestClassifier\n",
    "from xgboost.sklearn import XGBClassifier\n",
    "from sklearn.naive_bayes import BernoulliNB\n",
    "\n",
    "logistic = LogisticRegression(C = 1, solver = 'sag')\n",
    "logistic.fit(X_train, y_train)\n",
    "output = logistic.predict(X_test)\n",
    "\n",
    "knn = KNeighborsClassifier(n_neighbors=21, metric='manhattan', weights='uniform')\n",
    "knn.fit(X_train, y_train)\n",
    "knn_out = knn.predict(X_test)\n",
    "\n",
    "rf = RandomForestClassifier(max_depth=10, n_estimators=100)\n",
    "rf.fit(X_train, y_train)\n",
    "rf_out = rf.predict(X_test)\n",
    "\n",
    "xgb = XGBClassifier(learning_rate=0.1, max_depth=7, objective='binary:logistic')\n",
    "xgb.fit(X_train, y_train)\n",
    "xgb_out = xgb.predict(X_test)\n",
    "\n",
    "bayes = BernoulliNB(alpha=1.0, fit_prior=True)\n",
    "bayes.fit(X_train, y_train)\n",
    "bayes_out = bayes.predict(X_test)"
   ]
  },
  {
   "cell_type": "code",
   "execution_count": 127,
   "metadata": {},
   "outputs": [],
   "source": [
    "combined = pd.DataFrame({\"Actual\" : y_test, \"Logistic\" : output, \"KNN\" : knn_out, \"Random_Forest\" : rf_out, \"XGB\": xgb_out, \"Bayes\": bayes_out})"
   ]
  },
  {
   "cell_type": "code",
   "execution_count": 156,
   "metadata": {},
   "outputs": [],
   "source": [
    "results = pd.concat([df.iloc[combined.index,], combined], axis=1)\n",
    "results.drop(columns = ['Unnamed: 0'], inplace=True)\n",
    "\n",
    "# Reshape predictions\n",
    "results = pd.melt(results, id_vars=variables_, value_vars=[\"Actual\", \"Logistic\", \"KNN\", \"Random_Forest\", \"XGB\", \"Bayes\"], \n",
    "                  var_name = \"Model_type\", value_name=\"income\")\n",
    "\n",
    "# Reformat results\n",
    "results['jobtype'] = [\"private\" if i==1 else \"other\" for i in results.jobtype_private]\n",
    "results.loc[(results.jobtype==\"other\") & results.jobtype_government==1, 'jobtype'] = \"government\"\n",
    "results.drop(columns=[\"jobtype_government\", \"jobtype_other\", \"jobtype_private\"], inplace=True)\n",
    "\n",
    "results[\"income\"] = [\">50k\" if int(i) == 1 else \"<=50k\" for i in results.income]"
   ]
  },
  {
   "cell_type": "markdown",
   "metadata": {},
   "source": [
    "We can use a barchart to explore which of our models best capture the original distribution of high and low-income individuals. "
   ]
  },
  {
   "cell_type": "code",
   "execution_count": 157,
   "metadata": {},
   "outputs": [
    {
     "data": {
      "text/plain": [
       "(array([0, 1, 2, 3, 4, 5]), <a list of 6 Text xticklabel objects>)"
      ]
     },
     "execution_count": 157,
     "metadata": {},
     "output_type": "execute_result"
    },
    {
     "data": {
      "text/plain": [
       "<Figure size 720x1440 with 0 Axes>"
      ]
     },
     "metadata": {},
     "output_type": "display_data"
    },
    {
     "data": {
      "image/png": "[encoded data removed]",
      "text/plain": [
       "<Figure size 431x360 with 1 Axes>"
      ]
     },
     "metadata": {
      "needs_background": "light"
     },
     "output_type": "display_data"
    }
   ],
   "source": [
    "import seaborn as sns\n",
    "\n",
    "plt.figure(figsize=(10,20))\n",
    "\n",
    "chart = sns.catplot(\n",
    "    x='Model_type', y='age',\n",
    "    hue='income', kind='bar',\n",
    "    data=results.groupby(['Model_type', 'income'])['age'].count().reset_index()\n",
    "    )\n",
    "chart.set_axis_labels(\"Model type\", \"Count\")\n",
    "\n",
    "plt.xticks(\n",
    "    rotation = 45,\n",
    "    horizontalalignment = 'right',\n",
    "    fontweight = 'light',\n",
    "    fontsize = 'x-large'\n",
    ")"
   ]
  },
  {
   "cell_type": "markdown",
   "metadata": {},
   "source": [
    "We see that all of our models under-estimate the number of high-income individuals compared to the original dataset. Given the skewed distribution of our predicting variable, it's unsurprising that our models tend to err towards guessing \"low-income\". Out of all our models, Naive Bayes best captures that original distribution. \n",
    "\n",
    "This visual is interesting because it compares the total number of classifications to what we have in our original dataset for each model. If someone prefers a more optimistic model, where they would rather mis-classify individuals as high-income rather than mis-classify as low-income, they would choose the Bayes model, whereas if the opposite tradeoff is desired, Random Forest might serve better. "
   ]
  },
  {
   "cell_type": "code",
   "execution_count": 182,
   "metadata": {},
   "outputs": [],
   "source": [
    "jobs_ct = pd.crosstab([results.jobtype, results.Model_type], results.income).reset_index()\n",
    "jobs_ct['sum'] = jobs_ct[\"<=50k\"] + jobs_ct[\">50k\"]\n",
    "jobs_ct['pct'] = jobs_ct[\">50k\"] / jobs_ct[\"sum\"]"
   ]
  },
  {
   "cell_type": "code",
   "execution_count": 185,
   "metadata": {},
   "outputs": [
    {
     "data": {
      "text/plain": [
       "(array([0, 1, 2]), <a list of 3 Text xticklabel objects>)"
      ]
     },
     "execution_count": 185,
     "metadata": {},
     "output_type": "execute_result"
    },
    {
     "data": {
      "text/plain": [
       "<Figure size 720x1440 with 0 Axes>"
      ]
     },
     "metadata": {},
     "output_type": "display_data"
    },
    {
     "data": {
      "image/png": "[encoded data removed]",
      "text/plain": [
       "<Figure size 473.5x360 with 1 Axes>"
      ]
     },
     "metadata": {
      "needs_background": "light"
     },
     "output_type": "display_data"
    }
   ],
   "source": [
    "plt.figure(figsize=(10,20))\n",
    "\n",
    "chart = sns.catplot(\n",
    "    x='jobtype', y='pct',\n",
    "    hue='Model_type', kind='bar',\n",
    "    data=jobs_ct\n",
    "    )\n",
    "chart.set_axis_labels(\"Job type\", \"Percentage high-income\")\n",
    "\n",
    "plt.xticks(\n",
    "    rotation = 45,\n",
    "    horizontalalignment = 'right',\n",
    "    fontweight = 'light',\n",
    "    fontsize = 'x-large'\n",
    ")"
   ]
  },
  {
   "cell_type": "markdown",
   "metadata": {},
   "source": [
    "If we add in job type as a grouping variable, we see some more diverse trends. The Naive Bayes model actually over-predicts the percentage of high-income individuals in the \"government\" and \"other\" job descriptions. Overall, at each job level it is the most \"optimistic\" model, which agrees with our previously examined bar chart. \n",
    "\n",
    "This visual is interesting because there is now a breakdown of classification by job type. If an individual is using our analysis to decide whether to take a government job or not, he/she may be wary of using our Naive Bayes if he/she is pessimistic about their future earning potentials and wants to err on the safe side of income projections. "
   ]
  },
  {
   "cell_type": "markdown",
   "metadata": {},
   "source": [
    "We can also compare the ROC curves illustrated above in one plot, for each of our different models. "
   ]
  },
  {
   "cell_type": "code",
   "execution_count": 63,
   "metadata": {},
   "outputs": [
    {
     "data": {
      "image/png": "[encoded data removed]",
      "text/plain": [
       "<Figure size 432x288 with 1 Axes>"
      ]
     },
     "metadata": {
      "needs_background": "light"
     },
     "output_type": "display_data"
    }
   ],
   "source": [
    "# https://github.com/naivelogic/Machine_Learning_Notebooks/blob/e0cf78b15c15f433d7d9d35dc7ad30cfe4d8cfda/Titanic%20Survival%20Prediction.ipynb\n",
    "from sklearn.metrics import roc_auc_score\n",
    "from sklearn.metrics import roc_curve\n",
    "\n",
    "knn_roc_auc = roc_auc_score(y_test, knn.predict(X_test))\n",
    "knn_fpr, knn_tpr, knn_thresholds = roc_curve(y_test, knn.predict_proba(X_test)[:,1])\n",
    "\n",
    "tree_roc_auc = roc_auc_score(y_test, tree.predict(X_test))\n",
    "tree_fpr, tree_tpr, tree_thresholds = roc_curve(y_test, tree.predict_proba(X_test)[:,1])\n",
    "\n",
    "logit1_roc_auc = roc_auc_score(y_test, logit1.predict(X_test))\n",
    "logit1_fpr, logit1_tpr, logit1_thresholds = roc_curve(y_test, logit1.predict_proba(X_test)[:,1])\n",
    "\n",
    "\n",
    "xgb_best_roc_auc = roc_auc_score(y_test, xgb_best.predict(X_test))\n",
    "xgb_best_fpr, xgb_best_tpr, xgb_best_thresholds = roc_curve(y_test, xgb_best.predict_proba(X_test)[:,1])\n",
    "\n",
    "\n",
    "nb_roc_auc = roc_auc_score(y_test, nb.predict(X_test))\n",
    "nb_fpr, nb_tpr, nb_thresholds = roc_curve(y_test, nb.predict_proba(X_test)[:,1])\n",
    "\n",
    "\n",
    "plt.figure()\n",
    "plt.plot(knn_fpr, knn_tpr, label='KNeighborsClassifier (area = %0.2f)' % knn_roc_auc)\n",
    "plt.plot(tree_fpr, tree_tpr, label='RandomForestClassifier (area = %0.2f)' % tree_roc_auc)\n",
    "\n",
    "plt.plot(logit1_fpr, logit1_tpr, label='LogisticRegression (area = %0.2f)' % logit1_roc_auc)\n",
    "plt.plot(xgb_best_fpr, xgb_best_tpr, label='XGBClassifier (area = %0.2f)' % xgb_best_roc_auc)\n",
    "plt.plot(nb_fpr, nb_tpr, label='BernoulliNB (area = %0.2f)' % nb_roc_auc)\n",
    "plt.plot([0, 1], [0, 1],'r--')\n",
    "plt.xlim([0.0, 1.0])\n",
    "plt.ylim([0.0, 1.05])\n",
    "plt.xlabel('False Positive Rate')\n",
    "plt.ylabel('True Positive Rate')\n",
    "plt.title('PREDICTING INCOME - Receiver operating characteristic')\n",
    "plt.legend(loc=\"lower right\")\n",
    "plt.savefig('Predicting_Income_ALL_ROC')"
   ]
  },
  {
   "cell_type": "markdown",
   "metadata": {},
   "source": [
    "This plot is interesting because it directly compares the ROC curves from each model to one another. We see that the curve for our XGB classifier is the highest, corresponding to what we saw earlier from exploring the AUC. This means that relative to other models, the XGB classifier exhibits the strongest precision scores for classifying high-income individuals. "
   ]
  },
  {
   "cell_type": "markdown",
   "metadata": {},
   "source": [
    "### Classification Task 2. Predicting Sex\n",
    "\n",
    "Our secondary model is concerned with determining an individual's gender. Using the same metrics discussed in the previous section, our best models are:\n",
    "\n",
    "- Female precision: XGB\n",
    "- Female recall: Logistic regression\n",
    "- Male precision: Logistic regression\n",
    "- Male recall: XGB\n",
    "- Accuracy: XGB\n",
    "- AUC: Logistic regression"
   ]
  },
  {
   "cell_type": "code",
   "execution_count": 221,
   "metadata": {},
   "outputs": [],
   "source": [
    "# Load the dataset\n",
    "df = pd.read_csv(\"./data/lab2_df.csv\")\n",
    "# define variables for classificaiton training\n",
    "variables_ = ['age', 'fnlwgt', 'educationNum', 'hoursPerWeek', 'netCapital', 'isWhite', 'isMarried', 'isHusband', 'USA', 'income', 'jobtype_government', 'jobtype_other', 'jobtype_private']\n",
    "y=df['sex_Male']\n",
    "X=df[variables_]\n",
    "# test train scaler\n",
    "scaler = StandardScaler()\n",
    "X = scaler.fit_transform(X)\n",
    "# test train split\n",
    "X_train, X_test, y_train, y_test = train_test_split(X, y, test_size=0.2, random_state=0)"
   ]
  },
  {
   "cell_type": "code",
   "execution_count": 222,
   "metadata": {},
   "outputs": [],
   "source": [
    "logistic_s = LogisticRegression(C = 10, solver = 'lbfgs')\n",
    "logistic_s.fit(X_train, y_train)\n",
    "logistic_s_out = logistic_s.predict(X_test)\n",
    "\n",
    "knn_s = KNeighborsClassifier(n_neighbors=21, metric='manhattan', weights='uniform')\n",
    "knn_s.fit(X_train, y_train)\n",
    "knn_s_out = knn_s.predict(X_test)\n",
    "\n",
    "rf_s = RandomForestClassifier(max_depth=10, n_estimators=150)\n",
    "rf_s.fit(X_train, y_train)\n",
    "rf_s_out = rf_s.predict(X_test)\n",
    "\n",
    "xgb_s = xgb_sClassifier(learning_rate=0.2, max_depth=5, objective='binary:logistic')\n",
    "xgb_s.fit(X_train, y_train)\n",
    "xgb_s_out = xgb_s.predict(X_test)\n",
    "\n",
    "bayes_s = BernoulliNB(alpha=1.0, fit_prior=True)\n",
    "bayes_s.fit(X_train, y_train)\n",
    "bayes_s_out = bayes_s.predict(X_test)"
   ]
  },
  {
   "cell_type": "code",
   "execution_count": 230,
   "metadata": {},
   "outputs": [],
   "source": [
    "combined = pd.DataFrame({\"Actual\" : y_test, \"Logistic\" : logistic_s_out, \"KNN\" : knn_s_out, \n",
    "                         \"Random_Forest\" : rf_s_out, \"XGB\": xgb_s_out, \"Bayes\": bayes_s_out})"
   ]
  },
  {
   "cell_type": "code",
   "execution_count": 233,
   "metadata": {},
   "outputs": [],
   "source": [
    "variables_ = ['age', 'fnlwgt', 'educationNum', 'hoursPerWeek', 'netCapital', 'isWhite', 'isMarried', 'isHusband', 'USA', 'income', 'jobtype_government', 'jobtype_other', 'jobtype_private']\n",
    "results = pd.concat([df.iloc[combined.index,], combined], axis=1)\n",
    "results.drop(columns = ['Unnamed: 0'], inplace=True)\n",
    "\n",
    "# Reshape predictions\n",
    "results = pd.melt(results, id_vars=variables_, value_vars=[\"Actual\", \"Logistic\", \"KNN\", \"Random_Forest\", \"XGB\", \"Bayes\"], \n",
    "                  var_name = \"Model_type\", value_name=\"sex_Male\")\n",
    "\n",
    "# Reformat results\n",
    "results['jobtype'] = [\"private\" if i==1 else \"other\" for i in results.jobtype_private]\n",
    "results.loc[(results.jobtype==\"other\") & results.jobtype_government==1, 'jobtype'] = \"government\"\n",
    "results.drop(columns=[\"jobtype_government\", \"jobtype_other\", \"jobtype_private\"], inplace=True)\n",
    "\n",
    "results[\"income\"] = [\">50k\" if int(i) == 1 else \"<=50k\" for i in results.income]\n",
    "results['sex'] = [\"Male\" if int(i) ==1 else \"Female\" for i in results.sex_Male]"
   ]
  },
  {
   "cell_type": "markdown",
   "metadata": {},
   "source": [
    "To tie this analysis in with our earlier one, let's visualize our predictions through grouping by income level. "
   ]
  },
  {
   "cell_type": "code",
   "execution_count": 234,
   "metadata": {},
   "outputs": [
    {
     "data": {
      "text/plain": [
       "(array([0, 1]), <a list of 2 Text xticklabel objects>)"
      ]
     },
     "execution_count": 234,
     "metadata": {},
     "output_type": "execute_result"
    },
    {
     "data": {
      "text/plain": [
       "<Figure size 720x1440 with 0 Axes>"
      ]
     },
     "metadata": {},
     "output_type": "display_data"
    },
    {
     "data": {
      "image/png": "[encoded data removed]",
      "text/plain": [
       "<Figure size 473.5x360 with 1 Axes>"
      ]
     },
     "metadata": {
      "needs_background": "light"
     },
     "output_type": "display_data"
    }
   ],
   "source": [
    "income_sex = pd.crosstab([results.income, results.Model_type], results.sex).reset_index()\n",
    "income_sex['sum'] = income_sex[\"Male\"] + income_sex[\"Female\"]\n",
    "income_sex['pct'] = income_sex[\"Male\"] / income_sex[\"sum\"]\n",
    "\n",
    "plt.figure(figsize=(10,20))\n",
    "\n",
    "chart = sns.catplot(\n",
    "    x='income', y='pct',\n",
    "    hue='Model_type', kind='bar',\n",
    "    data=income_sex\n",
    "    )\n",
    "chart.set_axis_labels(\"Income level\", \"Percentage high-income\")\n",
    "\n",
    "plt.xticks(\n",
    "    rotation = 45,\n",
    "    horizontalalignment = 'right',\n",
    "    fontweight = 'light',\n",
    "    fontsize = 'x-large'\n",
    ")"
   ]
  },
  {
   "cell_type": "markdown",
   "metadata": {},
   "source": [
    "This chart is interesting because we see that naive bayes does not do a great job in classifying the right percentage of men/women in either income bucket. It overclassifies women in the low-income bracket, and overclassifies men in the high-income bracket. The other models tend to under-estimates men in both income brackets, compared to the actual values. "
   ]
  },
  {
   "cell_type": "code",
   "execution_count": 236,
   "metadata": {},
   "outputs": [
    {
     "data": {
      "text/plain": [
       "0.6580684784277598"
      ]
     },
     "execution_count": 236,
     "metadata": {},
     "output_type": "execute_result"
    }
   ],
   "source": [
    "combined.Actual.sum() / combined.shape[0]"
   ]
  },
  {
   "cell_type": "markdown",
   "metadata": {},
   "source": [
    "We have more males than females in the testing set, so this is another imbalanced sample problem. Interestingly, we are underestimating the larger sample here, when in our income model we over-estimated the larger sample (low-income). "
   ]
  },
  {
   "cell_type": "code",
   "execution_count": 237,
   "metadata": {},
   "outputs": [
    {
     "data": {
      "text/plain": [
       "Actual           0.658068\n",
       "Logistic         0.592968\n",
       "KNN              0.622447\n",
       "Random_Forest    0.619991\n",
       "XGB              0.623062\n",
       "Bayes            0.549363\n",
       "dtype: float64"
      ]
     },
     "execution_count": 237,
     "metadata": {},
     "output_type": "execute_result"
    }
   ],
   "source": [
    "combined.sum() / combined.shape[0]"
   ]
  },
  {
   "cell_type": "code",
   "execution_count": 27,
   "metadata": {},
   "outputs": [
    {
     "data": {
      "image/png": "[encoded data removed]",
      "text/plain": [
       "<Figure size 432x288 with 1 Axes>"
      ]
     },
     "metadata": {
      "needs_background": "light"
     },
     "output_type": "display_data"
    }
   ],
   "source": [
    "# https://github.com/naivelogic/Machine_Learning_Notebooks/blob/e0cf78b15c15f433d7d9d35dc7ad30cfe4d8cfda/Titanic%20Survival%20Prediction.ipynb\n",
    "from sklearn.metrics import roc_auc_score\n",
    "from sklearn.metrics import roc_curve\n",
    "\n",
    "knn_roc_auc = roc_auc_score(y_test, knn.predict(X_test))\n",
    "knn_fpr, knn_tpr, knn_thresholds = roc_curve(y_test, knn.predict_proba(X_test)[:,1])\n",
    "\n",
    "tree_roc_auc = roc_auc_score(y_test, tree.predict(X_test))\n",
    "tree_fpr, tree_tpr, tree_thresholds = roc_curve(y_test, tree.predict_proba(X_test)[:,1])\n",
    "\n",
    "logit1_roc_auc = roc_auc_score(y_test, logit10.predict(X_test))\n",
    "logit1_fpr, logit1_tpr, logit1_thresholds = roc_curve(y_test, logit10.predict_proba(X_test)[:,1])\n",
    "\n",
    "\n",
    "xgb_best_roc_auc = roc_auc_score(y_test, xgb_best.predict(X_test))\n",
    "xgb_best_fpr, xgb_best_tpr, xgb_best_thresholds = roc_curve(y_test, xgb_best.predict_proba(X_test)[:,1])\n",
    "\n",
    "\n",
    "nb_roc_auc = roc_auc_score(y_test, nb.predict(X_test))\n",
    "nb_fpr, nb_tpr, nb_thresholds = roc_curve(y_test, nb.predict_proba(X_test)[:,1])\n",
    "\n",
    "\n",
    "plt.figure()\n",
    "plt.plot(knn_fpr, knn_tpr, label='KNeighborsClassifier (area = %0.2f)' % knn_roc_auc)\n",
    "plt.plot(tree_fpr, tree_tpr, label='RandomForestClassifier (area = %0.2f)' % tree_roc_auc)\n",
    "\n",
    "plt.plot(logit1_fpr, logit1_tpr, label='LogisticRegression (area = %0.2f)' % logit1_roc_auc)\n",
    "plt.plot(xgb_best_fpr, xgb_best_tpr, label='XGBClassifier (area = %0.2f)' % xgb_best_roc_auc)\n",
    "plt.plot(nb_fpr, nb_tpr, label='BernoulliNB (area = %0.2f)' % nb_roc_auc)\n",
    "plt.plot([0, 1], [0, 1],'r--')\n",
    "plt.xlim([0.0, 1.0])\n",
    "plt.ylim([0.0, 1.05])\n",
    "plt.xlabel('False Positive Rate')\n",
    "plt.ylabel('True Positive Rate')\n",
    "plt.title('PREDICTING SEX - Receiver operating characteristic')\n",
    "plt.legend(loc=\"lower right\")\n",
    "plt.savefig('Predicting_SEX_ALL_ROC')"
   ]
  },
  {
   "cell_type": "markdown",
   "metadata": {},
   "source": [
    "This plot is interesting because, like in the income analysis, it compares the receiver operator characteristic curve between all 5 models. We see that the Bayesian model stands out negatively compared to our other classifiers, showing a higher false positive rate at all classification threshholds. Additionally, our sex models are not anchored at 0,0 - indicating that even at extreme classification threshholds, we do not falsely classify females as males. The y-intercept for our ROC curves is close to the existing percentage of males in our dataset."
   ]
  },
  {
   "cell_type": "markdown",
   "metadata": {},
   "source": [
    "## Modeling and Evaluation 5\n",
    "\n",
    "Discuss the advantages of each model for each classification task, if any. If there are not advantages, explain why. Is any model better than another? Is the difference significant with 95% confidence? Use proper statistical comparison methods. You must use statistical comparison techniques—be sure they are appropriate for your chosen method of validation as discussed in unit 7 of the course."
   ]
  },
  {
   "cell_type": "markdown",
   "metadata": {},
   "source": [
    "In general each model have a specific advantage such as:\n",
    "1. Logistic regression :can be Outputs have a nice probabilistic interpretation, and the algorithm can be regularized to avoid overfitting. Logistic models can be updated easily with new data using stochastic gradient descent\n",
    "2. Knn:it's easy to implemnt and training is faster\n",
    "3. Random forest: no requirement for domain knowledge and it can easily process data with high dimension\n",
    "4. XGBClassifier:implement parallel process and high flexible"
   ]
  },
  {
   "cell_type": "markdown",
   "metadata": {},
   "source": [
    "### Classification Task 1 : Income prediction"
   ]
  },
  {
   "cell_type": "code",
   "execution_count": 2,
   "metadata": {},
   "outputs": [],
   "source": [
    "### Using Income classification\n",
    "# statiscal  comparaison between logistic/radomforest/knn/XGBClassifier\n",
    "lr_model_auc = [0.86365938,0.89234763,0.84004673, 0.8753299, 0.86297003, 0.89124357,\n",
    " 0.84630593, 0.86006764, 0.86049688, 0.87225546]\n",
    "rfc_model_auc = [0.87061725, 0.9188291,  0.85198936, 0.88262693, 0.8784852,  0.90943061,\n",
    " 0.86634365, 0.8808988,  0.87514958, 0.88338319]\n",
    "knn_model_auc = [0.83427014, 0.88464334, 0.80484845, 0.85937051, 0.81934464, 0.87231833,\n",
    " 0.82014828, 0.84786681, 0.83368887, 0.85414932]\n",
    "gbx_model_auc = [0.88187188, 0.92467709, 0.8664633, 0.88998929, 0.88330633, 0.91045624,\n",
    " 0.88343522, 0.89081686, 0.88093132, 0.88407258]"
   ]
  },
  {
   "cell_type": "code",
   "execution_count": 7,
   "metadata": {},
   "outputs": [
    {
     "data": {
      "text/html": [
       "<div>\n",
       "<style scoped>\n",
       "    .dataframe tbody tr th:only-of-type {\n",
       "        vertical-align: middle;\n",
       "    }\n",
       "\n",
       "    .dataframe tbody tr th {\n",
       "        vertical-align: top;\n",
       "    }\n",
       "\n",
       "    .dataframe thead th {\n",
       "        text-align: right;\n",
       "    }\n",
       "</style>\n",
       "<table border=\"1\" class=\"dataframe\">\n",
       "  <thead>\n",
       "    <tr style=\"text-align: right;\">\n",
       "      <th></th>\n",
       "      <th>lr_model_auc</th>\n",
       "      <th>rfc_model_auc</th>\n",
       "      <th>knn_model_auc</th>\n",
       "      <th>gbx_model_auc</th>\n",
       "    </tr>\n",
       "  </thead>\n",
       "  <tbody>\n",
       "    <tr>\n",
       "      <th>0</th>\n",
       "      <td>0.863659</td>\n",
       "      <td>0.870617</td>\n",
       "      <td>0.834270</td>\n",
       "      <td>0.881872</td>\n",
       "    </tr>\n",
       "    <tr>\n",
       "      <th>1</th>\n",
       "      <td>0.892348</td>\n",
       "      <td>0.918829</td>\n",
       "      <td>0.884643</td>\n",
       "      <td>0.924677</td>\n",
       "    </tr>\n",
       "    <tr>\n",
       "      <th>2</th>\n",
       "      <td>0.840047</td>\n",
       "      <td>0.851989</td>\n",
       "      <td>0.804848</td>\n",
       "      <td>0.866463</td>\n",
       "    </tr>\n",
       "    <tr>\n",
       "      <th>3</th>\n",
       "      <td>0.875330</td>\n",
       "      <td>0.882627</td>\n",
       "      <td>0.859371</td>\n",
       "      <td>0.889989</td>\n",
       "    </tr>\n",
       "    <tr>\n",
       "      <th>4</th>\n",
       "      <td>0.862970</td>\n",
       "      <td>0.878485</td>\n",
       "      <td>0.819345</td>\n",
       "      <td>0.883306</td>\n",
       "    </tr>\n",
       "    <tr>\n",
       "      <th>5</th>\n",
       "      <td>0.891244</td>\n",
       "      <td>0.909431</td>\n",
       "      <td>0.872318</td>\n",
       "      <td>0.910456</td>\n",
       "    </tr>\n",
       "    <tr>\n",
       "      <th>6</th>\n",
       "      <td>0.846306</td>\n",
       "      <td>0.866344</td>\n",
       "      <td>0.820148</td>\n",
       "      <td>0.883435</td>\n",
       "    </tr>\n",
       "    <tr>\n",
       "      <th>7</th>\n",
       "      <td>0.860068</td>\n",
       "      <td>0.880899</td>\n",
       "      <td>0.847867</td>\n",
       "      <td>0.890817</td>\n",
       "    </tr>\n",
       "    <tr>\n",
       "      <th>8</th>\n",
       "      <td>0.860497</td>\n",
       "      <td>0.875150</td>\n",
       "      <td>0.833689</td>\n",
       "      <td>0.880931</td>\n",
       "    </tr>\n",
       "    <tr>\n",
       "      <th>9</th>\n",
       "      <td>0.872255</td>\n",
       "      <td>0.883383</td>\n",
       "      <td>0.854149</td>\n",
       "      <td>0.884073</td>\n",
       "    </tr>\n",
       "  </tbody>\n",
       "</table>\n",
       "</div>"
      ],
      "text/plain": [
       "   lr_model_auc  rfc_model_auc  knn_model_auc  gbx_model_auc\n",
       "0      0.863659       0.870617       0.834270       0.881872\n",
       "1      0.892348       0.918829       0.884643       0.924677\n",
       "2      0.840047       0.851989       0.804848       0.866463\n",
       "3      0.875330       0.882627       0.859371       0.889989\n",
       "4      0.862970       0.878485       0.819345       0.883306\n",
       "5      0.891244       0.909431       0.872318       0.910456\n",
       "6      0.846306       0.866344       0.820148       0.883435\n",
       "7      0.860068       0.880899       0.847867       0.890817\n",
       "8      0.860497       0.875150       0.833689       0.880931\n",
       "9      0.872255       0.883383       0.854149       0.884073"
      ]
     },
     "execution_count": 7,
     "metadata": {},
     "output_type": "execute_result"
    }
   ],
   "source": [
    "numpy_data = np.array([lr_model_auc,rfc_model_auc, knn_model_auc, gbx_model_auc]).transpose()\n",
    "df_auc = pd.DataFrame(data=numpy_data, columns=[\"lr_model_auc\", \"rfc_model_auc\", \"knn_model_auc\", \"gbx_model_auc\"])\n",
    "df_auc.head(10)"
   ]
  },
  {
   "cell_type": "markdown",
   "metadata": {},
   "source": [
    "To compare the AUC's for each of our 4 models, we can first do an analysis of variance to determine if there's any mean difference between each model. "
   ]
  },
  {
   "cell_type": "markdown",
   "metadata": {},
   "source": [
    "In order to apply anova we need to assume that the following assunpting are met:\n",
    "\n",
    "1. The normality criterion: each group compared should come from a population following the normal distribution.\n",
    "2. The variance criterion (or 'homogeneity of variances'): samples should come from populations with the same variance.\n",
    "3. Independent samples: performance (the dependent variable) in each sample should not be affected by the conditions in other samples.\n",
    "\n",
    "Given the nature of our \"dataset\" in this case, which is the AUC for each of 4 different models fit on 10 random folds of our training dataset, we can assume that the assumptions are met. Equal normality and variance can be assumed from the central limit theorem given the size of our training set and the random nature of our cross validation. Independence can also be assumed since each instance represents a different training and testing set entirely. \n"
   ]
  },
  {
   "cell_type": "code",
   "execution_count": 19,
   "metadata": {},
   "outputs": [
    {
     "name": "stdout",
     "output_type": "stream",
     "text": [
      "F statistic = 1.475 and probability p = 0.23753616\n"
     ]
    }
   ],
   "source": [
    "import scipy.stats as stats\n",
    "#Apply one way ANOVA by calling the f_oneway() method\n",
    "F, p = stats.f_oneway(df_auc[\"lr_model_auc\"], df_auc[\"rfc_model_auc\"], df_auc[\"knn_model_auc\"], df_auc[\"gbx_model_auc\"])\n",
    "print('F statistic = {:5.3f} and probability p = {:5.8f}'.format(F, p)) "
   ]
  },
  {
   "cell_type": "markdown",
   "metadata": {},
   "source": [
    "#### Intepretation\n",
    "\n",
    "As p < 0.05 we  reject the null hypothesis that at least one model's mean AUC is different from the others at a statistically significant level. However, this result does not identify the sample pair (or pairs) which cause this significance.\n",
    "We can identify the the group by implementing ordinary Tukey's range test, see below"
   ]
  },
  {
   "cell_type": "markdown",
   "metadata": {},
   "source": [
    "__NOTE: SEE APPENDIX FOR SAS CODE__\n",
    "\n",
    "\n",
    "\n",
    "__INCOME Tukey Multiple Comparision Test__\n",
    "\n",
    "\n",
    "![](./multiple_comparisions/income_multicomp_tukeytest.png)"
   ]
  },
  {
   "cell_type": "markdown",
   "metadata": {},
   "source": [
    "The Tukey Multiple Comparison performs the pairwise group mean differences tests with an adjusted p-value to correct for the multiple comparisons problem, where the probability of seeing a signficant mean difference increases as the number of comparisons increases. For example, we see that the group mean for XGB is greater than the group mean for any other model, as we expected from our ROC plots above. However, that mean difference is only significant when comparing to the K Neighbors and Naive Bayes models. The 95% confidence interval for the mean AUC difference between the XGB and logistic regression models spans from -.003 to 0.5, meaning the null hypothesis value of 0 is included. Thus we fail to reject the null hypothesis that the AUC for the XGB model is equal to the AUC for the logit model or the random forest model, but reject the null hypothesis that the XGB AUC is equal to the KNN and Naive Bayes models.  "
   ]
  },
  {
   "cell_type": "markdown",
   "metadata": {},
   "source": [
    "___Group means plot for income___\n",
    "\n",
    "![](./multiple_comparisions/income_multicomp_tukeytest_groupmeans.png)"
   ]
  },
  {
   "cell_type": "markdown",
   "metadata": {},
   "source": [
    "The bars are sorted by mean AUC across each of the 10 folds, and shows the significance or insignificance of the various group means. As confirmed above, the XGB/Random Forest/Logit mean AUCs are not differentiable statistically, but are differentiable from KNN/Naive Bayes. "
   ]
  },
  {
   "cell_type": "markdown",
   "metadata": {},
   "source": [
    "#### Classification Task 2: Predicting Sex"
   ]
  },
  {
   "cell_type": "markdown",
   "metadata": {},
   "source": [
    "We'll do the same multiple comparison test for our sex classification task. "
   ]
  },
  {
   "cell_type": "markdown",
   "metadata": {},
   "source": [
    "\n",
    "__SEX Tukey Multiple Comparision Test__\n",
    "\n",
    "\n",
    "![](./multiple_comparisions/sex_multicomp_tukeytest.png)\n",
    "\n",
    "___sex_multicomp_tukeytest_group means___\n",
    "\n",
    "![](./multiple_comparisions/sex_multicomp_tukeytest_groupmeans.png)"
   ]
  },
  {
   "cell_type": "markdown",
   "metadata": {},
   "source": [
    "This time, we see that Naive Bayes performs significantly worse than the other 4 models. However, neither of the other 4 are differentiable on the basis of mean AUC. "
   ]
  },
  {
   "cell_type": "markdown",
   "metadata": {},
   "source": [
    "## Modeling and Evaluation 6\n",
    "\n",
    "Which attributes from your analysis are most important? Use proper methods discussed in class to evaluate the importance of different attributes. Discuss the results and hypothesize about why certain attributes are more important than others for a given classification task."
   ]
  },
  {
   "cell_type": "markdown",
   "metadata": {},
   "source": [
    "#### Feature Importance - KNN"
   ]
  },
  {
   "cell_type": "markdown",
   "metadata": {},
   "source": [
    "Feature importance is not an attribute of KNN. In a nearest neighbors model, only the k \"closest\" points chosen by our selected distance metric determine the classification of the outcome variable. Of course, absolute magnitude can be a large factor. For example, if age and capital gains are to be weighted equally in our initial dataset, age will almost always be closer using any distance metric, as the scale for age ranges from 0-98 whereas capital gains can range from 0 - 10,000. However, given that we scaled all of our features using the StandardScalar to be mean 0 and unit standard deviation, absolute magnitude should not play a factor. "
   ]
  },
  {
   "cell_type": "markdown",
   "metadata": {},
   "source": [
    "#### [Income] Feature Importance - Logistic Regression"
   ]
  },
  {
   "cell_type": "code",
   "execution_count": 58,
   "metadata": {},
   "outputs": [
    {
     "data": {
      "text/plain": [
       "<matplotlib.legend.Legend at 0x7fc4eb564a20>"
      ]
     },
     "execution_count": 58,
     "metadata": {},
     "output_type": "execute_result"
    },
    {
     "data": {
      "image/png": "[encoded data removed]",
      "text/plain": [
       "<Figure size 576x432 with 1 Axes>"
      ]
     },
     "metadata": {
      "needs_background": "light"
     },
     "output_type": "display_data"
    }
   ],
   "source": [
    "plt.figure(figsize=(8,6))\n",
    "plt.plot(logit1.coef_.T, 'o', label=\"C=1\")\n",
    "plt.plot(logit001.coef_.T, '^', label=\"C=0.001\")\n",
    "plt.plot(logit100.coef_.T, 'v', label=\"C=100\")\n",
    "plt.xticks(range(df.shape[1]), variables_, rotation=45)\n",
    "plt.hlines(0, 0, df.shape[1])\n",
    "plt.ylim(-5, 5)\n",
    "plt.xlabel(\"Feature\")\n",
    "plt.ylabel(\"Coefficient magnitude\")\n",
    "plt.legend()\n",
    "#plt.savefig('log_coef')\n",
    "\n",
    "#print(\"Feature importances:\\n{}\".format(logit.feature_importances_))\n",
    "#AttributeError: 'LogisticRegression' object has no attribute 'feature_importances_'"
   ]
  },
  {
   "cell_type": "markdown",
   "metadata": {},
   "source": [
    "__Analysis on Feature Importance - Logistic__\n",
    "The plot above shows in the case for about all experiments with the Inverse Regularization Parameter that features `educaitonNum`, `netCapital` and `isHusband` appear to be solid features that are important to the model outcome."
   ]
  },
  {
   "cell_type": "code",
   "execution_count": 54,
   "metadata": {},
   "outputs": [],
   "source": [
    "def plot_feature_importances_(model):\n",
    "    plt.figure(figsize=(8,6))\n",
    "    n_features = 13\n",
    "    plt.barh(range(n_features), model.feature_importances_, align='center')\n",
    "    plt.yticks(np.arange(n_features), variables_)\n",
    "    plt.xlabel(\"Feature importance\")\n",
    "    plt.ylabel(\"Feature\")\n",
    "    plt.ylim(-1, n_features)"
   ]
  },
  {
   "cell_type": "markdown",
   "metadata": {},
   "source": [
    "#### [Income] Feature Importance - RandomForestClassifier"
   ]
  },
  {
   "cell_type": "code",
   "execution_count": 30,
   "metadata": {},
   "outputs": [
    {
     "data": {
      "image/png": "[encoded data removed]",
      "text/plain": [
       "<Figure size 576x432 with 1 Axes>"
      ]
     },
     "metadata": {
      "needs_background": "light"
     },
     "output_type": "display_data"
    }
   ],
   "source": [
    "plot_feature_importances_(tree)\n",
    "#plt.savefig('[income] feature_importance_RandomForestClassifier')"
   ]
  },
  {
   "cell_type": "markdown",
   "metadata": {},
   "source": [
    "Reviewing the Feature Importance in the `RandomForestClassifier` we see similar important features that is also shared with te Logistic Regression model, where the following features proved to have the highest importance for predicting income when using the `RandomForestClassifier`:\n",
    "* `isHusband`\n",
    "* `netcapital`\n",
    "* `hoursPerWeek`\n",
    "* `educationNum`\n",
    "* `age`"
   ]
  },
  {
   "cell_type": "markdown",
   "metadata": {},
   "source": [
    "#### [Income] Feature Importance - XGBoost Classifier"
   ]
  },
  {
   "cell_type": "code",
   "execution_count": 31,
   "metadata": {},
   "outputs": [
    {
     "data": {
      "image/png": "[encoded data removed]",
      "text/plain": [
       "<Figure size 576x432 with 1 Axes>"
      ]
     },
     "metadata": {
      "needs_background": "light"
     },
     "output_type": "display_data"
    }
   ],
   "source": [
    "plot_feature_importances_(xgb_best)"
   ]
  },
  {
   "cell_type": "markdown",
   "metadata": {},
   "source": [
    "Reviewing the Feature Importance in the `XGBoost Classifier` we see similar important features that is also shared with the other models experiments, most significatlly, XGBoost indicates that `isHusband` is by far this most important feature for predicting income. `educationNum` and `netCapital` come in a distance 2nd and 3rd important features. "
   ]
  },
  {
   "cell_type": "markdown",
   "metadata": {},
   "source": [
    "#### [Income] Feature Importance - Naive Bayes"
   ]
  },
  {
   "cell_type": "code",
   "execution_count": 11,
   "metadata": {},
   "outputs": [
    {
     "name": "stdout",
     "output_type": "stream",
     "text": [
      "Naive Bayes\n",
      "The most important features are 6,4,11,10\n",
      "These features are isMarried, netCapital,jobtype_other, jobtype_government\n"
     ]
    }
   ],
   "source": [
    "import numpy as np\n",
    "from sklearn.naive_bayes import BernoulliNB\n",
    "nb= BernoulliNB(alpha=0.1)\n",
    "nb.fit(X_train, y_train)\n",
    "\n",
    "\n",
    "neg_class_prob_sorted = nb.feature_log_prob_[0, :].argsort()\n",
    "pos_class_prob_sorted = nb.feature_log_prob_[1, :].argsort()\n",
    "\n",
    "#print( neg_class_prob_sorted[:10])\n",
    "#print( pos_class_prob_sorted[:10])\n",
    "\n",
    "print(\"Naive Bayes\")\n",
    "print(\"The most important features are 6,4,11,10\")\n",
    "variables = ['age', 'fnlwgt', 'educationNum', 'hoursPerWeek', 'netCapital', 'isWhite', 'isMarried', 'isHusband', 'USA', 'sex_Male', 'jobtype_government', 'jobtype_other', 'jobtype_private']\n",
    "print(\"These features are %s, %s,%s, %s\" %(variables[6], variables[4], variables[11],variables[10]))"
   ]
  },
  {
   "cell_type": "markdown",
   "metadata": {},
   "source": [
    "---\n",
    "#### Feature Importance SEX"
   ]
  },
  {
   "cell_type": "markdown",
   "metadata": {},
   "source": [
    "#### Feature Importance [SEX] - Logistic Regression"
   ]
  },
  {
   "cell_type": "code",
   "execution_count": 24,
   "metadata": {},
   "outputs": [
    {
     "data": {
      "text/plain": [
       "<matplotlib.legend.Legend at 0x7f1524a4c3c8>"
      ]
     },
     "execution_count": 24,
     "metadata": {},
     "output_type": "execute_result"
    },
    {
     "data": {
      "image/png": "[encoded data removed]",
      "text/plain": [
       "<Figure size 576x432 with 1 Axes>"
      ]
     },
     "metadata": {
      "needs_background": "light"
     },
     "output_type": "display_data"
    }
   ],
   "source": [
    "plt.figure(figsize=(8,6))\n",
    "plt.plot(logit1.coef_.T, 'o', label=\"C=1\")\n",
    "plt.plot(logit001.coef_.T, '^', label=\"C=0.001\")\n",
    "plt.plot(logit10.coef_.T, 'v', label=\"C=10\")\n",
    "plt.xticks(range(df.shape[1]), variables_, rotation=45)\n",
    "plt.hlines(0, 0, df.shape[1])\n",
    "plt.ylim(-5, 5)\n",
    "plt.xlabel(\"Feature\")\n",
    "plt.ylabel(\"Coefficient magnitude\")\n",
    "plt.legend()\n",
    "#plt.savefig('log_coef')\n",
    "\n",
    "#print(\"Feature importances:\\n{}\".format(logit.feature_importances_))\n",
    "#AttributeError: 'LogisticRegression' object has no attribute 'feature_importances_'"
   ]
  },
  {
   "cell_type": "markdown",
   "metadata": {},
   "source": [
    "__Analysis on Feature Importance - Logistic__\n",
    "The plot above shows a quite similar output when compared to the _Predicting Income XGBoost_ results where across  all experiments with the Inverse Regularization Parameter, `isHusband` is a significant indicator for predicting sex. Distance 2nd important freature is `educationNum` for predicting SEX."
   ]
  },
  {
   "cell_type": "markdown",
   "metadata": {},
   "source": [
    "#### [Predicting SEX] Feature Importance - RandomForestClassifier"
   ]
  },
  {
   "cell_type": "code",
   "execution_count": 20,
   "metadata": {},
   "outputs": [
    {
     "data": {
      "image/png": "[encoded data removed]",
      "text/plain": [
       "<Figure size 576x432 with 1 Axes>"
      ]
     },
     "metadata": {
      "needs_background": "light"
     },
     "output_type": "display_data"
    }
   ],
   "source": [
    "plot_feature_importances_(tree)\n",
    "#plt.savefig('[income] feature_importance_RandomForestClassifier')"
   ]
  },
  {
   "cell_type": "markdown",
   "metadata": {},
   "source": [
    "Reviewing the Feature Importance in the `RandomForestClassifier` we see similar important features that is also shared with te Logistic Regression model, where the following features proved to have the highest importance for predicting SEX when using the `RandomForestClassifier`:\n",
    "* `isHusband`\n",
    "* `hoursPerWeek`\n",
    "* `educationNum`\n",
    "* `age`\n",
    "* `income`"
   ]
  },
  {
   "cell_type": "markdown",
   "metadata": {},
   "source": [
    "#### [Predicting SEX] Feature Importance - XGBoost Classifier"
   ]
  },
  {
   "cell_type": "code",
   "execution_count": 21,
   "metadata": {},
   "outputs": [
    {
     "data": {
      "image/png": "[encoded data removed]",
      "text/plain": [
       "<Figure size 576x432 with 1 Axes>"
      ]
     },
     "metadata": {
      "needs_background": "light"
     },
     "output_type": "display_data"
    }
   ],
   "source": [
    "plot_feature_importances_(xgb_best)"
   ]
  },
  {
   "cell_type": "markdown",
   "metadata": {},
   "source": [
    "Reviewing the Feature Importance in the `XGBoost Classifier` we see similar important features that is also shared with the other models experiments, most significatlly, XGBoost indicates that `isHusband` is by far this most important feature for predicting sex. \n",
    "\n"
   ]
  },
  {
   "cell_type": "markdown",
   "metadata": {},
   "source": [
    "#### [Predicting SEX] Feature Importance - Naive Bayes"
   ]
  },
  {
   "cell_type": "code",
   "execution_count": 13,
   "metadata": {},
   "outputs": [
    {
     "name": "stdout",
     "output_type": "stream",
     "text": [
      "Naive Bayes\n",
      "The top four variables are isMarried, isHusband, jobtype_other, and netCapital.\n"
     ]
    }
   ],
   "source": [
    "# code adapted from https://stackoverflow.com/questions/50526898/how-to-get-feature-importance-in-naive-bayes\n",
    "import numpy as np\n",
    "nb = BernoulliNB(alpha=0.1)\n",
    "nb.fit(X_train, y_train)\n",
    "\n",
    "neg_class_prob_sorted = nb.feature_log_prob_[0, :].argsort()\n",
    "pos_class_prob_sorted = nb.feature_log_prob_[1, :].argsort()\n",
    "variables_ = ['age', 'fnlwgt', 'educationNum', 'hoursPerWeek', 'netCapital', 'isWhite', 'isMarried', 'isHusband', 'USA', 'income', 'jobtype_government', 'jobtype_other', 'jobtype_private']\n",
    "#print( neg_class_prob_sorted[:10])\n",
    "#print( pos_class_prob_sorted[:10])\n",
    "print(\"Naive Bayes\")\n",
    "print(\"The top four variables are %s, %s, %s, and %s.\" %(variables_[6] ,variables_[7], variables_[11], variables_[4]))"
   ]
  },
  {
   "cell_type": "markdown",
   "metadata": {},
   "source": [
    "## Deployment\n",
    "\n",
    ">How useful is your model for interested parties (i.e., the companies or organizations that might want to use it for prediction)? How would you measure the model's value if it was used by these parties? How would your deploy your model for interested parties? What other data should be collected? How often would the model need to be updated, etc.? "
   ]
  },
  {
   "cell_type": "markdown",
   "metadata": {},
   "source": [
    "##### Deployment Strategy and Architecture\n",
    "The Census Bureau is our target audience to deploy our process for data colleciton, analsyis, feature prediction as shown above to provide accurate results for the goverment to take aciton on. Our deployment strategy is to use a cloud hosting solution on Azure using a similar architecture for the Bureau teams to use at any remote location with a focus on security, privacy, data availablity and analytics offerings that Azure inherently provides:\n",
    "\n",
    "![](https://www.znetlive.com/blog/wp-content/uploads/2017/08/machine-learning1.png)\n",
    "\n",
    "This offering will be a cloud hosted where the backend SQL and Webservices hosting various dashboards and reporting tools tha can meet the scale and timliness the Census Buraru offers. Since the core Census data used in this notebook specifically only involes the decate frequency for predicting sex and income, the data does only needs to be updated during the survey collection and anaysis period, so one-two year, depending on contractual agreements with the Bureau.\n",
    "\n",
    "Essentially, using the WebServices offered, currently, the deployment for the above models can been deployed as such. Hosted models are processed with data stored in Azure SQL/Tables and all model is performed in AzureML. Final models for predicting Sex and Income are registered in AzureML with an API response string for WebServices to be called and new predictins to be performed. \n",
    "\n",
    "\n",
    "The data as well as the other datasets to combined for the Census Bureau and other agencies such as IRS described below, can be stored in Azure tables, Hadoop and SQL for various processing needs. The data used here for the above 2 classification problem can easily be stored in Azure Tables and SQL and can be stored in those same resources for the backend Webservier that is made accessible to the Census Bureau for thier application and analyst to access. \n",
    "\n",
    "\n",
    "##### Deployment Solutions, Usability, and Future Feature Enhancements\n",
    "As we move into the 2020Census, our solution is best positioned to be pilotied with the Census Bureau to address seed to analsys, trend analysis and evaluation of new redsigns to determine whether certain new objective were met. Such goal, involves a recent redesign sa described in the expert from a census article below: \n",
    "\n",
    "![](https://image.slidesharecdn.com/censuspresentation-161111145704/95/census-2020-the-count-startsnow-36-638.jpg?cb=1478876267)\n",
    "\n",
    "The Census Bureau has made changes to the way data is collected. With our solution and future implementation such as adding addiitonal datasets to follow-up feedback to obtain how valuable the questions and analysis are valuable to customers (e.g., citizens, organizations, schools, federal departments).\n",
    "\n",
    "Moreover, provideing feedback system that we can provide sentiment anlaysis based off the results, we can provide those resposible metrics on which region, demographic has been identified with positive and negative input from the lates Census experiment. \n",
    "\n",
    "Additionally, another census article that was identified where researching more informaiton on the various data inputs and supporting processes to consider for the Census Bureau, we found these proposed draft changes to be of interest for future feature enhancements that can be offered to the Census Bureau: \n",
    "\n",
    "![](https://www.bing.com/th?id=OIP.TSSNbAyoJu1_UEtjaNUHcgHaEU&pid=Api&rs=1)\n",
    "\n",
    "\n",
    "If additional datasets where incorporated and made available for our analysis, the deployed solution should be able to provide trend results to support additional reasources (e.g., addiditonal teaches allocated to increased population community areas). Additionally, the use of historical detail information that the bureau maintains, we can assist the internal employees to increase their productivity and evaluations. One enhanced feature that could be offered with additioal information on the population and perhaps combining datasets with the IRS is to provide employees that are responsible for various regious of the US to have dashboards that indicate the likelihood/or directly identifies if there are significant non-reported census in regions for follow-up activities to occur in those communities. \n",
    "\n",
    "__This would ensure that all communities provide unbias results and have an equal opportunity to be represented for goverment provided resources (e.g., schools, teachers, public resources, infrastructure fixes) based off an accurate representation of the communities census__\n"
   ]
  },
  {
   "cell_type": "markdown",
   "metadata": {},
   "source": [
    "## Exceptional Work\n",
    "\n",
    "> You have free reign to provide additional analyses. One idea: grid search parameters in a parallelized fashion and visualize the performances across attributes. Which parameters are most significant for making a good model for each classification algorithm?"
   ]
  },
  {
   "cell_type": "markdown",
   "metadata": {},
   "source": [
    "# Neural Network\n",
    "\n",
    "### MLPClassifier\n",
    "A multilayer perceptron (MLP) is a feedforward artificial neural network model that maps sets of input data onto a set of appropriate outputs.\n",
    "\n",
    "> class sklearn.neural_network.MLPClassifier(hidden_layer_sizes=(100, ), activation='relu', solver='adam', alpha=0.0001, batch_size='auto', learning_rate='constant', learning_rate_init=0.001, power_t=0.5, max_iter=200, shuffle=True, random_state=None, tol=0.0001, verbose=False, warm_start=False, momentum=0.9, nesterovs_momentum=True, early_stopping=False, validation_fraction=0.1, beta_1=0.9, beta_2=0.999, epsilon=1e-08, n_iter_no_change=10, max_fun=15000)\n",
    "\n",
    "\n",
    "Activation Functions\n",
    "* BinaryStep\n",
    "* Gaussian\n",
    "* HyperbolicTangent\n",
    "* Parametric Rectified Linear Unit\n",
    "* Sigmoid (default)\n",
    "* Thresholded Rectified Linear Unit\n",
    "\n",
    "\n",
    "_Resources_\n",
    "* https://scikit-learn.org/stable/modules/generated/sklearn.neural_network.MLPClassifier.html\n",
    "* https://php-ml.readthedocs.io/en/latest/machine-learning/neural-network/multilayer-perceptron-classifier/"
   ]
  },
  {
   "cell_type": "code",
   "execution_count": 6,
   "metadata": {},
   "outputs": [],
   "source": [
    "# Data Processing\n",
    "import pandas as pd\n",
    "import time\n",
    "import numpy as np\n",
    "import matplotlib.pyplot as plt\n",
    "%matplotlib inline\n",
    "\n",
    "\n",
    "# Ignore the warnings if any\n",
    "import warnings  \n",
    "warnings.filterwarnings('ignore')\n",
    "\n",
    "from sklearn.model_selection import train_test_split\n",
    "from sklearn import metrics\n",
    "from sklearn.metrics import classification_report, accuracy_score\n",
    "from sklearn.preprocessing import StandardScaler\n",
    "from sklearn.model_selection import cross_val_score\n",
    "\n",
    "# Load the dataset\n",
    "df = pd.read_csv(\"../data/lab2_df.csv\")\n",
    "\n",
    "# define variables for classificaiton training\n",
    "variables_ = ['age', 'fnlwgt', 'educationNum', 'hoursPerWeek', 'netCapital', 'isWhite', 'isMarried', 'isHusband', 'USA', 'sex_Male', 'jobtype_government', 'jobtype_other', 'jobtype_private']\n",
    "y=df['income']\n",
    "X=df[variables_]\n",
    "\n",
    "# test train scaler\n",
    "scaler = StandardScaler()\n",
    "X = scaler.fit_transform(X)\n",
    "\n",
    "# test train split\n",
    "X_train, X_test, y_train, y_test = train_test_split(X, y, test_size=0.2, random_state=0)\n",
    "\n",
    "# prepare cross validation\n",
    "from sklearn.model_selection import StratifiedKFold\n",
    "kfold = StratifiedKFold(n_splits=10, shuffle=True, random_state=7)"
   ]
  },
  {
   "cell_type": "code",
   "execution_count": 7,
   "metadata": {},
   "outputs": [
    {
     "name": "stdout",
     "output_type": "stream",
     "text": [
      "\n",
      "---- Accuracy Results for alpha=1 ----\n",
      "net alpha=1 Train accuracy: 0.880\n",
      "net alpha=1 Test accuracy: 0.876\n",
      "\n",
      "---- Accuracy Results for alpha=0.1 ----\n",
      "net alpha=0.1 Train accuracy: 0.891\n",
      "net alpha=0.1 Test accuracy: 0.877\n",
      "\n",
      "---- Accuracy Results for alpha=0.001 ----\n",
      "net alpha=0.001 Train accuracy: 0.888\n",
      "net alpha=0.001 Test accuracy: 0.869\n",
      "\n",
      "---- Accuracy Results for alpha=3 ----\n",
      "net alpha=3 Train accuracy: 0.870\n",
      "net alpha=3 Test accuracy: 0.868\n"
     ]
    }
   ],
   "source": [
    "from sklearn.neural_network import MLPClassifier\n",
    "\n",
    "parms = [1, 0.1, 0.001, 3 ]\n",
    "for param in parms:\n",
    "    net = MLPClassifier(random_state=0, max_iter=1000, alpha=param)\n",
    "    net.fit(X_train, y_train)\n",
    "    print(\"\")\n",
    "    print(\"---- Accuracy Results for alpha={} ----\".format(param))\n",
    "    print(\"net alpha={} Train accuracy: {:.3f}\".format(param,cross_val_score(net, X_train, y_train,scoring='roc_auc',cv=kfold).mean()))\n",
    "    print(\"net alpha={} Test accuracy: {:.3f}\".format(param,cross_val_score(net,  X_test, y_test,scoring='roc_auc',cv=kfold).mean()))\n",
    "    "
   ]
  },
  {
   "cell_type": "markdown",
   "metadata": {},
   "source": [
    "We can see as alpha increses test accuracy decreases with train accuracy decreasinging. "
   ]
  },
  {
   "cell_type": "markdown",
   "metadata": {},
   "source": [
    "#### Feature Importance - PREDICTING INCOME\n",
    "\n",
    "__Heat map to visualuze the weights of the features__"
   ]
  },
  {
   "cell_type": "code",
   "execution_count": 11,
   "metadata": {},
   "outputs": [
    {
     "data": {
      "text/plain": [
       "<matplotlib.colorbar.Colorbar at 0x7fc89ff1f1d0>"
      ]
     },
     "execution_count": 11,
     "metadata": {},
     "output_type": "execute_result"
    },
    {
     "data": {
      "image/png": "[encoded data removed]",
      "text/plain": [
       "<Figure size 1440x360 with 2 Axes>"
      ]
     },
     "metadata": {
      "needs_background": "light"
     },
     "output_type": "display_data"
    }
   ],
   "source": [
    "plt.figure(figsize=(20, 5))\n",
    "plt.imshow(net.coefs_[0], interpolation='none', cmap='viridis')\n",
    "plt.yticks(range(len(variables_)), variables_)\n",
    "plt.xlabel(\"Columns in weight matrix\")\n",
    "plt.ylabel(\"Input feature\")\n",
    "plt.colorbar()"
   ]
  },
  {
   "cell_type": "markdown",
   "metadata": {},
   "source": [
    "Hard to see initially but we can see form the weight matrix which features hace the most weights for the layers. "
   ]
  },
  {
   "cell_type": "markdown",
   "metadata": {},
   "source": [
    "#### Neural Net Hyperparameter tuning- Predicing Income"
   ]
  },
  {
   "cell_type": "code",
   "execution_count": null,
   "metadata": {},
   "outputs": [
    {
     "name": "stdout",
     "output_type": "stream",
     "text": [
      "NeuralNet Start training...\n",
      "----NeuralNet Classifier Hyperparameter tuning Results ----\n",
      "Best NeuralNet Score: 0.8897890549610346 \n",
      "Best NeuralNet Parameters: {'alpha': 0.001, 'early_stopping': True, 'hidden_layer_sizes': 128} \n"
     ]
    }
   ],
   "source": [
    "param_grid = [{'early_stopping': [True],\n",
    "               'alpha': [0.0001, 0.001, 0.01],\n",
    "               'hidden_layer_sizes': [32, 64, (64, 64), 128, 256]\n",
    "              }]\n",
    "net = GridSearchCV(MLPClassifier(), param_grid, cv=kfold, scoring='roc_auc',n_jobs=-1)\n",
    "\n",
    "model_eval([(\"NeuralNet\", net)])"
   ]
  },
  {
   "cell_type": "code",
   "execution_count": 21,
   "metadata": {},
   "outputs": [
    {
     "name": "stdout",
     "output_type": "stream",
     "text": [
      "              precision    recall  f1-score   support\n",
      "\n",
      "           0       0.86      0.95      0.90      4966\n",
      "           1       0.75      0.51      0.61      1547\n",
      "\n",
      "    accuracy                           0.84      6513\n",
      "   macro avg       0.81      0.73      0.76      6513\n",
      "weighted avg       0.84      0.84      0.83      6513\n",
      "\n",
      "net Train accuracy: 0.889\n",
      "net Test accuracy: 0.871\n"
     ]
    }
   ],
   "source": [
    "from sklearn.neural_network import MLPClassifier\n",
    "net = MLPClassifier(alpha=0.001, early_stopping= True, hidden_layer_sizes= 128)\n",
    "net.fit(X_train, y_train)\n",
    "model_prediction = net.predict(X_test)\n",
    "print(classification_report(y_test, model_prediction))\n",
    "print(\"net Train accuracy: {:.3f}\".format(cross_val_score(net, X_train, y_train,scoring='roc_auc',cv=kfold).mean()))\n",
    "print(\"net Test accuracy: {:.3f}\".format(cross_val_score(net,  X_test, y_test,scoring='roc_auc',cv=kfold).mean()))\n",
    "    "
   ]
  },
  {
   "cell_type": "markdown",
   "metadata": {},
   "source": [
    "net net testing accuray did not improve. "
   ]
  },
  {
   "cell_type": "markdown",
   "metadata": {},
   "source": [
    "![](./dev/Predicting_Income_ALL_ROC_AND_NET.png)"
   ]
  },
  {
   "cell_type": "markdown",
   "metadata": {},
   "source": [
    "Above is the ROC curve for predicing income. The MLPClassifier provide to be on the higher end of the accuracy than the other models desscribed in this notebook. Just below `XGBoost Classifier`"
   ]
  },
  {
   "cell_type": "markdown",
   "metadata": {},
   "source": [
    "----\n",
    "# Appendix\n",
    "\n",
    "To see the full outputs from the GridSearchCV that was referenced in the above sections for hyperparameter tuning see sections below:\n",
    "* Predicting INCOME Grid Search Output\n",
    "* Predicting SEX Grid Search Output\n",
    "* Functions to initialize for ROC and Eval outputs"
   ]
  },
  {
   "cell_type": "markdown",
   "metadata": {},
   "source": [
    "---\n",
    "### Predicting INCOME Grid Search Output"
   ]
  },
  {
   "cell_type": "code",
   "execution_count": null,
   "metadata": {},
   "outputs": [],
   "source": []
  },
  {
   "cell_type": "code",
   "execution_count": 7,
   "metadata": {
    "collapsed": true,
    "jupyter": {
     "outputs_hidden": true
    }
   },
   "outputs": [
    {
     "name": "stdout",
     "output_type": "stream",
     "text": [
      "LogisticRegression Start training...\n",
      "----LogisticRegression Classifier Hyperparameter tuning Results ----\n",
      "Best LogisticRegression Score: 0.8686701592631874 \n",
      "Best LogisticRegression Parameters: {'C': 1, 'solver': 'sag'} \n",
      "\n",
      "\n",
      "Elapsed Time: 41.520306\n",
      "---- model selection ----\n",
      "\n",
      "LogisticRegression Classifier test CV results: [0.86365938 0.89234763 0.84004673 0.8753299  0.86297003 0.89124357\n",
      " 0.84630593 0.86006764 0.86049688 0.87225546]\n",
      "LogisticRegression Classifier test MEAN CV results: 0.86647231470502\n",
      "\n",
      "\n",
      "---- Classification Report ----\n",
      "              precision    recall  f1-score   support\n",
      "\n",
      "           0       0.92      0.78      0.85      4966\n",
      "           1       0.53      0.80      0.64      1547\n",
      "\n",
      "    accuracy                           0.79      6513\n",
      "   macro avg       0.73      0.79      0.74      6513\n",
      "weighted avg       0.83      0.79      0.80      6513\n",
      "\n"
     ]
    },
    {
     "data": {
      "image/png": "[encoded data removed]",
      "text/plain": [
       "<Figure size 720x720 with 1 Axes>"
      ]
     },
     "metadata": {
      "needs_background": "light"
     },
     "output_type": "display_data"
    },
    {
     "name": "stdout",
     "output_type": "stream",
     "text": [
      "KNNClassifier Start training...\n",
      "----KNNClassifier Classifier Hyperparameter tuning Results ----\n",
      "Best KNNClassifier Score: 0.8637542443095839 \n",
      "Best KNNClassifier Parameters: {'metric': 'manhattan', 'n_neighbors': 21, 'weights': 'uniform'} \n",
      "\n",
      "\n",
      "Elapsed Time: 318.177782\n",
      "---- model selection ----\n",
      "\n",
      "KNNClassifier Classifier test CV results: [0.83427014 0.88464334 0.80484845 0.85937051 0.81934464 0.87231833\n",
      " 0.82014828 0.84786681 0.83368887 0.85414932]\n",
      "KNNClassifier Classifier test MEAN CV results: 0.8430648677801365\n",
      "\n",
      "\n",
      "---- Classification Report ----\n",
      "              precision    recall  f1-score   support\n",
      "\n",
      "           0       0.85      0.94      0.90      4966\n",
      "           1       0.72      0.48      0.58      1547\n",
      "\n",
      "    accuracy                           0.83      6513\n",
      "   macro avg       0.79      0.71      0.74      6513\n",
      "weighted avg       0.82      0.83      0.82      6513\n",
      "\n"
     ]
    },
    {
     "data": {
      "image/png": "[encoded data removed]",
      "text/plain": [
       "<Figure size 720x720 with 1 Axes>"
      ]
     },
     "metadata": {
      "needs_background": "light"
     },
     "output_type": "display_data"
    },
    {
     "name": "stdout",
     "output_type": "stream",
     "text": [
      "RandomForestClassifer Start training...\n",
      "----RandomForestClassifer Classifier Hyperparameter tuning Results ----\n",
      "Best RandomForestClassifer Score: 0.8950631829144058 \n",
      "Best RandomForestClassifer Parameters: {'max_depth': 10, 'n_estimators': 100} \n",
      "\n",
      "\n",
      "Elapsed Time: 337.653548\n",
      "---- model selection ----\n",
      "\n",
      "RandomForestClassifer Classifier test CV results: [0.87061725 0.9188291  0.85198936 0.88262693 0.8784852  0.90943061\n",
      " 0.86634365 0.8808988  0.87514958 0.88338319]\n",
      "RandomForestClassifer Classifier test MEAN CV results: 0.8817753682112677\n",
      "\n",
      "\n",
      "---- Classification Report ----\n",
      "              precision    recall  f1-score   support\n",
      "\n",
      "           0       0.86      0.96      0.91      4966\n",
      "           1       0.80      0.49      0.61      1547\n",
      "\n",
      "    accuracy                           0.85      6513\n",
      "   macro avg       0.83      0.73      0.76      6513\n",
      "weighted avg       0.84      0.85      0.84      6513\n",
      "\n"
     ]
    },
    {
     "data": {
      "image/png": "[encoded data removed]",
      "text/plain": [
       "<Figure size 720x720 with 1 Axes>"
      ]
     },
     "metadata": {
      "needs_background": "light"
     },
     "output_type": "display_data"
    },
    {
     "name": "stdout",
     "output_type": "stream",
     "text": [
      "XGBClassifier Start training...\n",
      "----XGBClassifier Classifier Hyperparameter tuning Results ----\n",
      "Best XGBClassifier Score: 0.90808818242688 \n",
      "Best XGBClassifier Parameters: {'learning_rate': 0.1, 'max_depth': 7, 'objective': 'binary:logistic'} \n",
      "\n",
      "\n",
      "Elapsed Time: 1339.558055\n",
      "---- model selection ----\n",
      "\n",
      "XGBClassifier Classifier test CV results: [0.88187188 0.92467709 0.8664633  0.88998929 0.88330633 0.91045624\n",
      " 0.88343522 0.89081686 0.88093132 0.88407258]\n",
      "XGBClassifier Classifier test MEAN CV results: 0.8896020112322244\n",
      "\n",
      "\n",
      "---- Classification Report ----\n",
      "              precision    recall  f1-score   support\n",
      "\n",
      "           0       0.87      0.95      0.91      4966\n",
      "           1       0.77      0.56      0.65      1547\n",
      "\n",
      "    accuracy                           0.86      6513\n",
      "   macro avg       0.82      0.76      0.78      6513\n",
      "weighted avg       0.85      0.86      0.85      6513\n",
      "\n"
     ]
    },
    {
     "data": {
      "image/png": "[encoded data removed]",
      "text/plain": [
       "<Figure size 720x720 with 1 Axes>"
      ]
     },
     "metadata": {
      "needs_background": "light"
     },
     "output_type": "display_data"
    }
   ],
   "source": [
    "models=[('LogisticRegression',lr_model),\n",
    "        ('KNNClassifier',knn_model),\n",
    "        ('RandomForestClassifer',rfc_model),\n",
    "        ('XGBClassifier',gbx_model)]\n",
    "\n",
    "model_eval(models)"
   ]
  },
  {
   "cell_type": "markdown",
   "metadata": {},
   "source": [
    "---"
   ]
  },
  {
   "cell_type": "markdown",
   "metadata": {},
   "source": [
    "### Predicting SEX Grid Search Output"
   ]
  },
  {
   "cell_type": "code",
   "execution_count": 7,
   "metadata": {
    "collapsed": true,
    "jupyter": {
     "outputs_hidden": true
    }
   },
   "outputs": [
    {
     "name": "stdout",
     "output_type": "stream",
     "text": [
      "LogisticRegression Start training...\n",
      "----LogisticRegression Classifier Hyperparameter tuning Results ----\n",
      "Best LogisticRegression Score: 0.8633324043194153 \n",
      "Best LogisticRegression Parameters: {'C': 10, 'solver': 'lbfgs'} \n",
      "\n",
      "\n",
      "Elapsed Time: 240.602797\n",
      "---- model selection ----\n",
      "\n",
      "LogisticRegression Classifier test CV results: [0.87880878 0.83800056 0.883868   0.86196094 0.85527639 0.86191903\n",
      " 0.88787142 0.85948886 0.83444633 0.88207438]\n",
      "LogisticRegression Classifier test MEAN CV results: 0.8643714711492677\n",
      "\n",
      "\n",
      "---- Classification Report ----\n",
      "              precision    recall  f1-score   support\n",
      "\n",
      "           0       0.58      0.98      0.73      2227\n",
      "           1       0.98      0.63      0.77      4286\n",
      "\n",
      "    accuracy                           0.75      6513\n",
      "   macro avg       0.78      0.81      0.75      6513\n",
      "weighted avg       0.85      0.75      0.76      6513\n",
      "\n"
     ]
    },
    {
     "data": {
      "image/png": "[encoded data removed]",
      "text/plain": [
       "<Figure size 720x720 with 1 Axes>"
      ]
     },
     "metadata": {
      "needs_background": "light"
     },
     "output_type": "display_data"
    },
    {
     "name": "stdout",
     "output_type": "stream",
     "text": [
      "KNNClassifier Start training...\n",
      "----KNNClassifier Classifier Hyperparameter tuning Results ----\n",
      "Best KNNClassifier Score: 0.8585870322129203 \n",
      "Best KNNClassifier Parameters: {'metric': 'manhattan', 'n_neighbors': 21, 'weights': 'uniform'} \n",
      "\n",
      "\n",
      "Elapsed Time: 325.311473\n",
      "---- model selection ----\n",
      "\n",
      "KNNClassifier Classifier test CV results: [0.86635935 0.82328285 0.87258929 0.84439043 0.85312854 0.85923159\n",
      " 0.85346381 0.85377685 0.82512233 0.86859237]\n",
      "KNNClassifier Classifier test MEAN CV results: 0.8519937404513701\n",
      "\n",
      "\n",
      "---- Classification Report ----\n",
      "              precision    recall  f1-score   support\n",
      "\n",
      "           0       0.65      0.72      0.68      2227\n",
      "           1       0.85      0.80      0.82      4286\n",
      "\n",
      "    accuracy                           0.77      6513\n",
      "   macro avg       0.75      0.76      0.75      6513\n",
      "weighted avg       0.78      0.77      0.77      6513\n",
      "\n"
     ]
    },
    {
     "data": {
      "image/png": "[encoded data removed]",
      "text/plain": [
       "<Figure size 720x720 with 1 Axes>"
      ]
     },
     "metadata": {
      "needs_background": "light"
     },
     "output_type": "display_data"
    },
    {
     "name": "stdout",
     "output_type": "stream",
     "text": [
      "RandomForestClassifer Start training...\n",
      "----RandomForestClassifer Classifier Hyperparameter tuning Results ----\n",
      "Best RandomForestClassifer Score: 0.8706631138553972 \n",
      "Best RandomForestClassifer Parameters: {'max_depth': 10, 'n_estimators': 150} \n",
      "\n",
      "\n",
      "Elapsed Time: 311.324724\n",
      "---- model selection ----\n",
      "\n",
      "RandomForestClassifer Classifier test CV results: [0.87722517 0.83509465 0.87715722 0.85164075 0.86443359 0.88400528\n",
      " 0.8741461  0.87065562 0.84189084 0.88610639]\n",
      "RandomForestClassifer Classifier test MEAN CV results: 0.866235561278728\n",
      "\n",
      "\n",
      "---- Classification Report ----\n",
      "              precision    recall  f1-score   support\n",
      "\n",
      "           0       0.66      0.75      0.70      2227\n",
      "           1       0.86      0.80      0.83      4286\n",
      "\n",
      "    accuracy                           0.78      6513\n",
      "   macro avg       0.76      0.77      0.77      6513\n",
      "weighted avg       0.79      0.78      0.79      6513\n",
      "\n"
     ]
    },
    {
     "data": {
      "image/png": "[encoded data removed]",
      "text/plain": [
       "<Figure size 720x720 with 1 Axes>"
      ]
     },
     "metadata": {
      "needs_background": "light"
     },
     "output_type": "display_data"
    },
    {
     "name": "stdout",
     "output_type": "stream",
     "text": [
      "XGBClassifier Start training...\n",
      "----XGBClassifier Classifier Hyperparameter tuning Results ----\n",
      "Best XGBClassifier Score: 0.8737781024690019 \n",
      "Best XGBClassifier Parameters: {'learning_rate': 0.2, 'max_depth': 5, 'objective': 'binary:logistic'} \n",
      "\n",
      "\n",
      "Elapsed Time: 1114.636997\n",
      "---- model selection ----\n",
      "\n",
      "XGBClassifier Classifier test CV results: [0.88051261 0.83787513 0.87209801 0.84336889 0.86899648 0.87330791\n",
      " 0.88682893 0.85821311 0.8517556  0.88441588]\n",
      "XGBClassifier Classifier test MEAN CV results: 0.8657372542064088\n",
      "\n",
      "\n",
      "---- Classification Report ----\n",
      "              precision    recall  f1-score   support\n",
      "\n",
      "           0       0.67      0.74      0.70      2227\n",
      "           1       0.86      0.81      0.83      4286\n",
      "\n",
      "    accuracy                           0.79      6513\n",
      "   macro avg       0.76      0.77      0.77      6513\n",
      "weighted avg       0.79      0.79      0.79      6513\n",
      "\n"
     ]
    },
    {
     "data": {
      "image/png": "[encoded data removed]",
      "text/plain": [
       "<Figure size 720x720 with 1 Axes>"
      ]
     },
     "metadata": {
      "needs_background": "light"
     },
     "output_type": "display_data"
    }
   ],
   "source": [
    "models=[('LogisticRegression',lr_model),\n",
    "        ('KNNClassifier',knn_model),\n",
    "        ('RandomForestClassifer',rfc_model),\n",
    "        ('XGBClassifier',gbx_model)]\n",
    "\n",
    "model_eval(models)"
   ]
  },
  {
   "cell_type": "markdown",
   "metadata": {},
   "source": [
    "---"
   ]
  },
  {
   "cell_type": "markdown",
   "metadata": {},
   "source": [
    "#### Functions to initialize for ROC and Eval outputs"
   ]
  },
  {
   "cell_type": "code",
   "execution_count": 46,
   "metadata": {},
   "outputs": [],
   "source": [
    "from sklearn.metrics import accuracy_score,roc_curve,auc,precision_score,recall_score,f1_score,roc_auc_score\n",
    "\n",
    "def evaluate(pre,pre_pro,y):\n",
    "    acc=accuracy_score(y,pre)\n",
    "    model_auc=roc_auc_score(y,pre)\n",
    "    model_pre=precision_score(y,pre)\n",
    "    model_recall=recall_score(y,pre)\n",
    "    model_f1=f1_score(y,pre)\n",
    "    fpr, tpr, thresholds =roc_curve(y,pre_pro[:,1])\n",
    "    return acc,model_auc,model_pre,model_recall,model_f1,fpr,tpr\n",
    "\n",
    "\n",
    "def model_eval(models):\n",
    "    for name,model in models:\n",
    "        print(name,'Start training...')\n",
    "        model.fit(X_train,y_train)\n",
    "\n",
    "        print(\"----{} Classifier Hyperparameter tuning Results ----\".format(name))\n",
    "        print(\"Best {} Score: {} \".format(name, model.best_score_))\n",
    "        print(\"Best {} Parameters: {} \".format(name,model.best_params_))\n",
    "\n",
    "        preds=model.predict(X_test)\n",
    "        pro=model.predict_proba(X_test)\n",
    "        acc,model_auc,model_pre,model_recall,model_f1,fpr,tpr=evaluate(preds,pro,y_test)\n",
    "\n",
    "        start = time.time()\n",
    "        model_results = cross_val_score(model, X_test, y_test,scoring='roc_auc',cv=kfold)\n",
    "        end = time.time() - start\n",
    "        print(\"\")\n",
    "        print(\"\")\n",
    "        print(\"Elapsed Time: %f\" % (end))\n",
    "        print(\"---- model selection ----\")\n",
    "        print(\"\")\n",
    "        print(\"{} Classifier test CV results: {}\".format(name,model_results ))\n",
    "        print(\"{} Classifier test MEAN CV results: {}\".format(name,model_results.mean()))\n",
    "\n",
    "        model_prediction = model.predict(X_test)\n",
    "        print(\"\")\n",
    "        print(\"\")\n",
    "        print(\"---- Classification Report ----\")\n",
    "        print(classification_report(y_test, model_prediction))\n",
    "\n",
    "        model_plot(fpr,tpr,name)\n",
    "        \n",
    "import matplotlib.pyplot as plt\n",
    "def model_plot(fpr,tpr,name):\n",
    "    #plt.figure()\n",
    "    lw = 2\n",
    "    plt.figure(figsize=(10,10))\n",
    "    plt.plot(fpr, tpr, color='darkorange',\n",
    "            lw=lw, label='ROC curve (area = %0.2f)' % model_auc) \n",
    "    plt.plot([0, 1], [0, 1], color='navy', lw=lw, linestyle='--')\n",
    "    plt.xlim([0.0, 1.0])\n",
    "    plt.ylim([0.0, 1.05])\n",
    "    plt.xlabel('False Positive Rate')\n",
    "    plt.ylabel('True Positive Rate')\n",
    "    plt.title('{}_ROC'.format(name))\n",
    "    plt.legend(loc=\"lower right\")\n",
    "    plt.savefig('{}_ROC.png'.format(name))\n",
    "    plt.show()"
   ]
  },
  {
   "cell_type": "markdown",
   "metadata": {},
   "source": [
    "---\n",
    "## APPENDIX - Tukey Multiple Comparision Procedures in SAS\n",
    "This code was adapted from Unit 5 ANOVA from MSDS 6371 Stats Foundations\n",
    "\n",
    "```sas\n",
    "/* This example shows the analyses for the one-way ANOVA */\n",
    "/* using the rice data example we looked at in class */\n",
    "\n",
    "/* Entering the data and defining the variables: */\n",
    "\n",
    "\n",
    "/* Entering the data and defining the variables: INCOME */\n",
    "DATA rice; \n",
    "INPUT VARIETY $ YIELD;\n",
    "CARDS;\n",
    " logit 0.86365938 \n",
    " logit 0.89234763 \n",
    " logit 0.84004673 \n",
    " logit 0.8753299  \n",
    " logit 0.86297003 \n",
    " logit 0.89124357\n",
    " logit 0.84630593 \n",
    " logit 0.86006764 \n",
    " logit 0.86049688 \n",
    " logit 0.87225546\n",
    " KNN 0.83427014 \n",
    " KNN 0.88464334 \n",
    " KNN 0.80484845 \n",
    " KNN 0.85937051 \n",
    " KNN 0.81934464 \n",
    " KNN 0.87231833\n",
    " KNN 0.82014828 \n",
    " KNN 0.84786681 \n",
    " KNN 0.83368887 \n",
    " KNN 0.85414932\n",
    " tree 0.87061725 \n",
    " tree 0.9188291  \n",
    " tree 0.85198936 \n",
    " tree 0.88262693 \n",
    " tree 0.8784852  \n",
    " tree 0.90943061\n",
    " tree 0.86634365 \n",
    " tree 0.8808988  \n",
    " tree 0.87514958 \n",
    " tree 0.88338319\n",
    " XGB 0.88187188 \n",
    " XGB 0.92467709 \n",
    " XGB 0.8664633  \n",
    " XGB 0.88998929 \n",
    " XGB 0.88330633 \n",
    " XGB 0.91045624\n",
    " XGB 0.88343522 \n",
    " XGB 0.89081686 \n",
    " XGB 0.88093132 \n",
    " XGB 0.88407258\n",
    " NB 0.83012267 \n",
    " NB 0.87000065 \n",
    " NB 0.79059518 \n",
    " NB 0.83430453 \n",
    " NB 0.82393713 \n",
    " NB 0.8642439\n",
    " NB 0.79622138 \n",
    " NB 0.83316857 \n",
    " NB 0.82683403 \n",
    " NB 0.85491025\n",
    ";\n",
    "run;\n",
    "\n",
    "\n",
    "/* Entering the data and defining the variables: SEX \n",
    "DATA rice; \n",
    "INPUT VARIETY $ YIELD;\n",
    "CARDS;\n",
    " logit 0.87880878 \n",
    " logit 0.83800056 \n",
    " logit 0.883868   \n",
    " logit 0.86196094 \n",
    " logit 0.85527639 \n",
    " logit 0.86191903\n",
    " logit 0.88787142 \n",
    " logit 0.85948886 \n",
    " logit 0.83444633 \n",
    " logit 0.88207438\n",
    " KNN 0.86635935 \n",
    " KNN 0.82328285 \n",
    " KNN 0.87258929 \n",
    " KNN 0.84439043 \n",
    " KNN 0.85312854 \n",
    " KNN 0.85923159\n",
    " KNN 0.85346381 \n",
    " KNN 0.85377685 \n",
    " KNN 0.82512233 \n",
    " KNN 0.86859237\n",
    " TREE 0.87722517 \n",
    " TREE 0.83509465 \n",
    " TREE 0.87715722 \n",
    " TREE 0.85164075 \n",
    " TREE 0.86443359 \n",
    " TREE 0.88400528\n",
    " TREE 0.8741461  \n",
    " TREE 0.87065562 \n",
    " TREE 0.84189084 \n",
    " TREE 0.88610639\n",
    " XGB 0.88051261 \n",
    " XGB 0.83787513 \n",
    " XGB 0.87209801 \n",
    " XGB 0.84336889 \n",
    " XGB 0.86899648 \n",
    " XGB 0.87330791\n",
    " XGB 0.88682893 \n",
    " XGB 0.85821311 \n",
    " XGB 0.8517556  \n",
    " XGB 0.88441588\n",
    " NB 0.82368528 \n",
    " NB 0.79899025 \n",
    " NB 0.83330197 \n",
    " NB 0.78964628 \n",
    " NB 0.83388165 \n",
    " NB 0.80347638\n",
    " NB 0.80324064 \n",
    " NB 0.8043638  \n",
    " NB 0.80539281 \n",
    " NB 0.82190407\n",
    ";\n",
    "run;\n",
    "*/\n",
    "\n",
    "/******************************************************************************/\n",
    "\n",
    "/* PROC GLM will do a standard analysis of variance                         */\n",
    "/* We specify that VARIETY is a (qualitative) factor with a CLASS statement */\n",
    "/* The model statement specifies that YIELD is the response                 */\n",
    "/* and VARIETY is the factor                                                */\n",
    "\n",
    "\n",
    "PROC GLM data=rice;\n",
    "CLASS VARIETY;\n",
    "MODEL YIELD = VARIETY;\n",
    "run;\n",
    "\n",
    "/******************************************************************************/\n",
    "\n",
    "/* The following code produces some residual plots */\n",
    "/* The MEANS statement produces the output */\n",
    "/* for Levene's test for unequal variances */\n",
    "\n",
    "PROC GLM data=rice;\n",
    "CLASS VARIETY;\n",
    "MODEL YIELD = VARIETY;\n",
    "MEANS VARIETY/HOVTEST=LEVENE (TYPE=ABS);\n",
    "OUTPUT OUT=diagnost p=ybar r=resid;\n",
    "run;\n",
    "PROC SGPLOT data=diagnost;\n",
    " SCATTER y=resid x=ybar;\n",
    " REFLINE 0;\n",
    "run;\n",
    "PROC UNIVARIATE noprint ;\n",
    "  QQPLOT resid / normal;\n",
    "run;\n",
    "\n",
    "/* Note that according to Levene's test (P-value = 0.4654) we would  */\n",
    "/* FAIL TO REJECT the null hypothesis that all variances are equal.  */\n",
    "/* So the equal-variance assumption seems reasonable for these data. */\n",
    "\n",
    "/* Notice there is some evidence of nonnormality based on the Q-Q plot */\n",
    "\n",
    "\n",
    "/******************************************************************************/\n",
    "\n",
    "/*  Estimating and testing contrasts */\n",
    "\n",
    "/* The following code estimates the contrasts in the example from class             */\n",
    "/* The ESTIMATE statement defines the constrast.  Note we need the divisor=3 option */\n",
    "/* The ESTIMATE statement also uses a t-test to test whether a contrast is zero     \n",
    "\n",
    "PROC GLM DATA=rice;\n",
    "CLASS VARIETY;\n",
    "MODEL YIELD = VARIETY;\n",
    "MEANS VARIETY;\n",
    "ESTIMATE 'Var4vsOthers'  VARIETY  1 1 1 -3 / divisor=3;\n",
    "ESTIMATE '1vs2'\t VARIETY  1 -1 0 0;\n",
    "RUN;\n",
    "\n",
    "******************************************************************************/\n",
    "\n",
    "/* Post Hoc Multiple Comparisons in SAS */\n",
    "\n",
    "/* Adding options to a MEANS statement is the easiest way to implement a */\n",
    "/* multiple comparisons procedure in SAS.                                */\n",
    "\n",
    "PROC GLM DATA=rice;\n",
    "CLASS VARIETY;\n",
    "MODEL YIELD = VARIETY;\n",
    "MEANS VARIETY / ALPHA=0.05 LSD TUKEY;\n",
    "MEANS VARIETY / ALPHA=0.05 LSD TUKEY CLDIFF; /* same as above but output given in different style */\n",
    "run;\n",
    "\n",
    "/* ALPHA=0.05 is actually the default significance level.  We could choose */\n",
    "/* another significance level if desired.                                  */\n",
    "\n",
    "/* Notice the results for the Fisher LSD and Tukey procedures.  According to   */\n",
    "/* Fisher, the mean for variety 4 is significantly different from the means of */\n",
    "/* each other variety.  Tukey gives similar results, but Tukey's method does   */\n",
    "/* NOT find a significant difference between varieties 1 and 4.                */\n",
    "/* Recall:  Tukey is more conservative (less likely to reject H_0).  Tukey     */\n",
    "/* offers more protection against Type I errors, but less power.               */\n",
    "\n",
    "/* In place of LSD or TUKEY (or in addition to those), we could request */\n",
    "/* DUNCAN, SNK, or SCHEFFE, among others.                               */\n",
    "\n",
    "/******************************************************************************/\n",
    "\n",
    "/* Simultaneous 95% Confidence Intervals for All Pairwise Differences */\n",
    "/* Uses the Tukey method.                                           */\n",
    "\n",
    "PROC GLM DATA=rice;\n",
    "CLASS VARIETY;\n",
    "MODEL YIELD = VARIETY;\n",
    "MEANS VARIETY / ALPHA=0.05 TUKEY CLDIFF;\n",
    "run;\n",
    "\n",
    "/* Simultaneous 95% Tukey Confidence Intervals for Specified Contrasts */\n",
    "\n",
    "PROC GLM DATA=rice;\n",
    "CLASS VARIETY;\n",
    "MODEL YIELD = VARIETY;\n",
    "MEANS VARIETY;\n",
    "ESTIMATE 'Var4 vs Others'  VARIETY  1 1 1 -3 / divisor=3;\n",
    "ESTIMATE '1 vs 2'\t VARIETY  1 -1 0 0;\n",
    "RUN;\n",
    "\n",
    "/* Page 741 says for alpha =0.05, t=4 and error df=12, the Tukey q value is 4.20. */\n",
    "/* So the two CIs for these constrasts are:                                       */\n",
    "/*    -166.08 +/- (4.20)(37.22) and 56.25 +/- (4.20)(45.59).                      */\n",
    "\n",
    "/******************************************************************************/\n",
    "\n",
    "```"
   ]
  }
 ],
 "metadata": {
  "kernelspec": {
   "display_name": "Python 3",
   "language": "python",
   "name": "python3"
  },
  "language_info": {
   "codemirror_mode": {
    "name": "ipython",
    "version": 3
   },
   "file_extension": ".py",
   "mimetype": "text/x-python",
   "name": "python",
   "nbconvert_exporter": "python",
   "pygments_lexer": "ipython3",
   "version": "3.7.6"
  }
 },
 "nbformat": 4,
 "nbformat_minor": 4
}
