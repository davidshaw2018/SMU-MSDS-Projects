{
 "cells": [
  {
   "cell_type": "markdown",
   "metadata": {
    "slideshow": {
     "slide_type": "slide"
    }
   },
   "source": [
    "# Composite Systems\n",
    "\n",
    "The state space of a composite system is given by the tensor product of the state space of the constituents. \n",
    "\n",
    "We previously described electron spins as an example. An electron with spin up is represented by the state vector\n",
    "\n",
    "\\begin{align}\n",
    "\\newcommand{\\ket}[1]{\\left|{#1}\\right\\rangle}\n",
    "\\newcommand{\\bra}[1]{\\left\\langle{#1}\\right|}\n",
    "\\end{align}\n",
    "\n",
    "\\begin{align}\n",
    "\\ket{0} = \\begin{pmatrix} 1 \\\\ 0 \\end{pmatrix}\n",
    "\\end{align}"
   ]
  },
  {
   "cell_type": "markdown",
   "metadata": {
    "slideshow": {
     "slide_type": "slide"
    }
   },
   "source": [
    "What about a 2-electron system? The state vector representing both electrons in spin up state is given by \n",
    "\n",
    "\\begin{align}\n",
    "\\ket{0,0} = \\begin{pmatrix} 1 \\\\ 0 \\end{pmatrix} \\otimes \\begin{pmatrix} 1 \\\\ 0 \\end{pmatrix} = \\begin{pmatrix} 1 \\\\ 0 \\\\ 0 \\\\ 0 \\end{pmatrix}\n",
    "\\end{align}"
   ]
  },
  {
   "cell_type": "markdown",
   "metadata": {
    "slideshow": {
     "slide_type": "slide"
    }
   },
   "source": [
    "Consequently, the state space for a 2-electron spin system is the set of the 4 state vectors corresponding to the different combinations of spin states. \n",
    "\n",
    "\\begin{align}\n",
    "\\mathcal{H} = \\{\\ket{0,0}, \\ket{0,1}, \\ket{1,0}, \\ket{1,1}\\}\n",
    "\\end{align}"
   ]
  },
  {
   "cell_type": "markdown",
   "metadata": {
    "slideshow": {
     "slide_type": "slide"
    }
   },
   "source": [
    "# Quantum Walker\n",
    "\n",
    "In a classical 1-D random walk on a line, the mathematical properties of the \"coin\" system and the position system are completely independent. In the quantum analogue, this is not the case. \n",
    "\n",
    "In our quantum system, we can model the \"coin\" system after electron spin. This is a logical analogy, since like a coin flip, a single electron's spin has only 2 allowed values with equal probability. In our model, an electron with spin up represents the \"heads\" state and moves our walker right. The reverse is true for an electron with spin down. \n",
    "\n",
    "The coin system's system space is given by:\n",
    "\n",
    "\\begin{align}\n",
    "\\mathcal{H}_c = \\{\\ket{0}, \\ket{1}\\}\n",
    "\\end{align}"
   ]
  },
  {
   "cell_type": "markdown",
   "metadata": {
    "slideshow": {
     "slide_type": "slide"
    }
   },
   "source": [
    "The position of the walker is a second system. Its position now cannot be described by a single integer, but rather by a state vector. \n",
    "\n",
    "The position space is given by the set of position state vectors\n",
    "\n",
    "\\begin{align}\n",
    "\\mathcal{H}_p = \\{ \\ket{n}: n \\in \\mathbb{Z} \\}\n",
    "\\end{align}\n",
    "\n",
    "where each state vector n is populated with zeros except for the entry corresponding to position n, which is one. As a simple example, if we apply 2 time steps to a quantum walker starting at 0, the allowed positions span from -2 to +2. The walker at position +2 is represented by the state vector\n",
    "\n",
    "\\begin{align}\n",
    "|2> = \\begin{pmatrix} 0 \\\\ 0 \\\\ 0 \\\\ 0 \\\\ 1 \\end{pmatrix}\n",
    "\\end{align}"
   ]
  },
  {
   "cell_type": "markdown",
   "metadata": {
    "slideshow": {
     "slide_type": "slide"
    }
   },
   "source": [
    "Now that we have our subsystems defined, we can construct the composite system space. As above, this is constructed from the tensor product of our coin space and our position space. \n",
    "\n",
    "\\begin{align}\n",
    "\\mathcal{H}_{system} = \\mathcal{H}_c \\otimes \\mathcal{H}_p\n",
    "\\end{align}\n",
    "\n"
   ]
  },
  {
   "cell_type": "markdown",
   "metadata": {
    "slideshow": {
     "slide_type": "slide"
    }
   },
   "source": [
    "Analogous to how we constructed the system space, the system wavefunction can also be constructed from the tensor product of our starting position and the starting value of the coin. For simplicity, we will start the walker at position 0, the coin in the \"heads\" state, and limit ourselves to 1 time step. In this case, our starting wavefunction is \n",
    "\n",
    "\\begin{align}\n",
    "\\ket{\\psi(0)} = \\ket{0} \\otimes \\ket{0} = \n",
    "\\begin{pmatrix} 1 \\\\ 0 \\end{pmatrix} \\otimes \\begin{pmatrix} 0 \\\\ 1 \\\\ 0 \\end{pmatrix} = \n",
    "\\begin{pmatrix} 0 \\\\ 0 \\\\ 1 \\\\ 0 \\\\ 0 \\\\ 0 \\end{pmatrix}\n",
    "\\end{align}\n"
   ]
  },
  {
   "cell_type": "markdown",
   "metadata": {
    "slideshow": {
     "slide_type": "slide"
    }
   },
   "source": [
    "# Unitary Evolution\n",
    "\n",
    "So far, we've successfully set up our quantum system's initial conditions. However, we're really interested in the system's time evolution. We'll be looking at the discrete-time case. \n",
    "\n",
    "In the classic random walk case, a time step is taken by flipping the coin, and moving the walker back or forward 1 step according to the result. \n",
    "\n",
    "In the quantum case, we'll apply a similar algorithm. We'll \"flip\" the quantum coin using a coin operator, then apply a shift operator to the composite coin+position state. Thus, to define our system's evolution we need to find a sensible **coin operator** and a **shift operator**. "
   ]
  },
  {
   "cell_type": "markdown",
   "metadata": {
    "slideshow": {
     "slide_type": "slide"
    }
   },
   "source": [
    "## Coin operator\n",
    "\n",
    "While we can initialize our quantum coin to a \"heads\" or \"tails\" state, it doesn't make sense to use the corresponding state vector as the coin operator. Rather, we want an operator that maps either allowed coin state vector to an equally-weighted superposition of states, in order to approximate an unbiased classical coin. The Hadamard operator is a logical choice here. \n",
    "\n",
    "\n",
    "\\begin{align}\n",
    "H = \\frac{1}{\\sqrt{2}}\\begin{pmatrix} 1&&1 \\\\ 1&&-1 \\end{pmatrix}\n",
    "\\end{align}\n",
    "\n",
    "To illustrate the point, let's apply this operator to the first basis vector, [1,0]. \n",
    "\n",
    "\\begin{align}\n",
    "\\frac{1}{\\sqrt{2}}\\begin{pmatrix} 1&&1 \\\\ 1&&-1 \\end{pmatrix}\\begin{pmatrix} 1 \\\\ 0 \\end{pmatrix} \\\\\n",
    "= \\frac{1}{\\sqrt{2}} \\begin{pmatrix} (1*1) + (0*1) \\\\ (1*1) + (0*-1) \\end{pmatrix} \\\\\n",
    "= \\frac{1}{\\sqrt{2}} \\begin{pmatrix} 1 \\\\ 1 \\end{pmatrix} \\\\\n",
    "= \\frac{1}{\\sqrt{2}}\\begin{pmatrix} 1 \\\\ 0 \\end{pmatrix} + \\frac{1}{\\sqrt{2}}\\begin{pmatrix} 0 \\\\ 1 \\end{pmatrix}\n",
    "\\end{align}\n",
    "\n",
    "This result is a linear superposition of the coin in either basis, with equal weights. Applying the Hadamard operator to our other basis vector [0,1] yields \n",
    "\n",
    "\\begin{align}\n",
    "\\frac{1}{\\sqrt{2}}\\begin{pmatrix} 1&&1 \\\\ 1&&-1 \\end{pmatrix}\\begin{pmatrix} 0 \\\\ 1 \\end{pmatrix} \\\\\n",
    "= \\frac{1}{\\sqrt{2}} \\begin{pmatrix} 1 \\\\ -1 \\end{pmatrix} \\\\\n",
    "= \\frac{1}{\\sqrt{2}}\\begin{pmatrix} 1 \\\\ 0 \\end{pmatrix} - \\frac{1}{\\sqrt{2}}\\begin{pmatrix} 0 \\\\ 1 \\end{pmatrix}\n",
    "\\end{align}\n",
    "\n",
    "The sign is now negative, but otherwise equivalent to the first result. The negative sign does not have any effect on the state probabilities, so we call this coin non-biased."
   ]
  },
  {
   "cell_type": "markdown",
   "metadata": {
    "slideshow": {
     "slide_type": "slide"
    }
   },
   "source": [
    "## Shift operator\n",
    "\n",
    "This shift operator must satisfy the following properties:\n",
    "\n",
    "\\begin{align}\n",
    "S\\ket{0}\\ket{n} = \\ket{0}\\ket{n+1} \\\\\n",
    "S\\ket{1}\\ket{n} = \\ket{1}\\ket{n-1}\n",
    "\\end{align}\n",
    "\n",
    "In other words, applying the shift operator to a combined coin+position state should result in a positional shift, while maintaining the same coin state. The full shift operator is given by:\n",
    "\n",
    "\\begin{align}\n",
    "S = \\ket{0}\\bra{0}\\otimes\\sum\\limits_{n}\\ket{n+1}\\bra{n} + \\ket{1}\\bra{1}\\otimes\\sum\\limits_{n}\\ket{n-1}\\bra{n}\n",
    "\\end{align}\n",
    "\n",
    "You are encouraged to verify the algebra yourself if desired!"
   ]
  },
  {
   "cell_type": "markdown",
   "metadata": {
    "slideshow": {
     "slide_type": "slide"
    }
   },
   "source": [
    "## Unitary operator\n",
    "\n",
    "Our algorithm, in each time step, applies the coin operator then the shift operator. Given this description, we can define a unitary operator U as:\n",
    "\n",
    "\\begin{align}\n",
    "U = S(H\\otimes I)\n",
    "\\end{align}\n",
    "\n",
    "where I is the identity matrix with the same dimensions as our positional Hilbert space. \n",
    "\n",
    "This unitary operator describes the time evolution of our quantum system. The system at time t+1 can be described by an application of this U to the system wavefunction at time t. \n",
    "\n",
    "\\begin{align}\n",
    "\\ket{\\psi(t)} = U^{t}\\ket{\\psi(0)}\n",
    "\\end{align}\n",
    "\n",
    "Phew, that's most of the math out of the way. All important operators are defined, what's left is taking time steps and examining the behavior. If you're still here, let's check out some code!"
   ]
  },
  {
   "cell_type": "markdown",
   "metadata": {
    "slideshow": {
     "slide_type": "slide"
    }
   },
   "source": [
    "# Random Walking\n",
    "\n",
    "We'll first define our classical random walker. "
   ]
  },
  {
   "cell_type": "code",
   "execution_count": 91,
   "metadata": {
    "slideshow": {
     "slide_type": "subslide"
    }
   },
   "outputs": [],
   "source": [
    "import numpy as np\n",
    "from scipy.linalg import expm\n",
    "import math\n",
    "import matplotlib.pyplot as plt\n",
    "import time\n",
    "\n",
    "class random_walker:\n",
    "    \n",
    "    def __init__(self):\n",
    "        \"\"\"\n",
    "        Initializes the walker, with a given position and equal H/T probability.\n",
    "        \"\"\"\n",
    "        self.position = 0\n",
    "        self.p = 0.5\n",
    "        self.t = 0\n",
    "        \n",
    "    def take_time_step(self):\n",
    "        \"\"\"\n",
    "        Let the random walker take another time step\n",
    "        \"\"\"\n",
    "        if np.random.uniform() < self.p:\n",
    "            self.position -= 1\n",
    "        else:\n",
    "            self.position += 1\n",
    "        self.t += 1\n",
    "        \n",
    "    @staticmethod\n",
    "    def probs(t,n):\n",
    "        \"\"\" \n",
    "        Return the probability of the walker being at position n given t time steps.\n",
    "        This is given from summing Bernoulli distributions. \n",
    "        \"\"\"\n",
    "        if ((t+n) % 2 == 1) or (n > t):\n",
    "            return(0)\n",
    "        else:\n",
    "            output = 1/(2**t) * (np.math.factorial(t) / \\\n",
    "                                 (np.math.factorial((t-n)/2) * np.math.factorial((t+n)/2)))\n",
    "            return(output)\n",
    "    \n",
    "    @staticmethod\n",
    "    def evaluate_probs(t):\n",
    "        \"\"\" Given the number of timesteps, plot the cumulative probability distribution\"\"\"\n",
    "        dist = np.zeros(2*t + 1)\n",
    "        for n in range(-t, t + 1):\n",
    "            dist[n+t] = random_walker.probs(t, n)\n",
    "        return(dist)\n",
    "        \n",
    "    def reset_walker(self):\n",
    "        \"\"\" \n",
    "        Resets the walker to its initial conditions, position 0 and time 0\n",
    "        \"\"\"\n",
    "        self.position = 0\n",
    "        self.t = 0"
   ]
  },
  {
   "cell_type": "markdown",
   "metadata": {
    "slideshow": {
     "slide_type": "slide"
    }
   },
   "source": [
    "After a single time step, the probability distribution looks as follows: "
   ]
  },
  {
   "cell_type": "code",
   "execution_count": 14,
   "metadata": {
    "slideshow": {
     "slide_type": "-"
    }
   },
   "outputs": [
    {
     "data": {
      "image/png": "[encoded data removed]",
      "text/plain": [
       "<Figure size 432x288 with 1 Axes>"
      ]
     },
     "metadata": {
      "needs_background": "light"
     },
     "output_type": "display_data"
    }
   ],
   "source": [
    "# initialize random walker\n",
    "rw = random_walker()\n",
    "\n",
    "# Get the allowed values\n",
    "n_steps = 1\n",
    "allowed_probs = np.array([0,0] + list(rw.evaluate_probs(n_steps)) + [0,0])\n",
    "plt.plot(range(-3,4), allowed_probs)\n",
    "plt.xlim(-3, 3)\n",
    "plt.show()"
   ]
  },
  {
   "cell_type": "markdown",
   "metadata": {
    "slideshow": {
     "slide_type": "slide"
    }
   },
   "source": [
    "This is an extremely intuitive result. After 1 step, we see that the classical walker has 50% probability of ending at position 1 and 50% probability of ending at position -1. \n",
    "\n",
    "What about after a large number of time steps? The probability of our walker being found at position n given t time steps is: \n",
    "\n",
    "\\begin{align}\n",
    "P(x = n | t) = \\frac{1}{2^{n}} * \\frac{t!}{(\\frac{n+t}{2})!(\\frac{n-t}{2})!}\n",
    "\\end{align}\n",
    "\n",
    "This result can obtained from basic combinatorics. Let's run some simulations to confirm this distribution. "
   ]
  },
  {
   "cell_type": "code",
   "execution_count": 107,
   "metadata": {
    "slideshow": {
     "slide_type": "slide"
    }
   },
   "outputs": [
    {
     "data": {
      "image/png": "[encoded data removed]",
      "text/plain": [
       "<Figure size 432x288 with 2 Axes>"
      ]
     },
     "metadata": {
      "needs_background": "light"
     },
     "output_type": "display_data"
    }
   ],
   "source": [
    "final_position = [] # keep track of number of final positions\n",
    "n_steps = 50 # total timesteps to take\n",
    "n_sims = 1000 # total number of simulations\n",
    "\n",
    "for _ in range(n_sims): # run 1000 simulations\n",
    "    rw.reset_walker() # reset the position/time between simulations\n",
    "    \n",
    "    for _ in range(n_steps):\n",
    "        rw.take_time_step() # take 1 step\n",
    "    \n",
    "    final_position.append(rw.position) # store final position after n steps, 1 walker\n",
    "\n",
    "# Visualize results\n",
    "fig, ax = plt.subplots(nrows=1, ncols=2, sharey=True)\n",
    "ax[0].hist(final_position, bins=n_steps//5, density=True, stacked=True)\n",
    "ax[0].set_title(\"Observed\")\n",
    "ax[1].plot(range(-n_steps, n_steps+1), rw.evaluate_probs(rw.t), color='red')\n",
    "ax[1].set_title(\"Expected\")\n",
    "plt.xlim(-50, 50)\n",
    "plt.ylim(0, .15)\n",
    "fig.tight_layout()"
   ]
  },
  {
   "cell_type": "markdown",
   "metadata": {
    "slideshow": {
     "slide_type": "-"
    }
   },
   "source": [
    "Our simulations roughly mirror the expected distribution. The walker most commonly ends up near the starting position, and can be found to the left or right with roughly equal probability. "
   ]
  },
  {
   "cell_type": "markdown",
   "metadata": {
    "slideshow": {
     "slide_type": "slide"
    }
   },
   "source": [
    "# Quantum Walking\n",
    "\n",
    "So far, we've demonstrated how a random walker behaves. We've discussed at length how to set up the quantum analogue, so let's see how it actually behaves. "
   ]
  },
  {
   "cell_type": "markdown",
   "metadata": {
    "slideshow": {
     "slide_type": "slide"
    }
   },
   "source": [
    "# Taking a time step\n",
    "\n",
    "With all our operators defined, we can look at the process of taking a time step. A time step is a single application of the unitary operator U. Given the initial starting conditions we set above, let's evaluate the time step. \n",
    "\n",
    "Remember that U is simply an application of the coin operator followed by the shift operator. We'll look at the first step, applying the coin operator to our initial conditions. \n",
    "\n",
    "\\begin{align}\n",
    "(H \\otimes I) \\ket{0}\\ket{0} \\\\\n",
    "= \\frac{\\ket{0} + \\ket{1}}{\\sqrt{2}} \\ket{0}\n",
    "\\end{align}\n",
    "\n",
    "This result is obtainable if we remember that the Hadamard operator applied to a coin state returns a superposition of the head+tails results with equal probability. The next step is applying the shift operator. \n",
    "\n",
    "\\begin{align}\n",
    "S \\frac{\\ket{0} + \\ket{1}}{\\sqrt{2}} \\ket{0} \\\\\n",
    "= \\frac{1}{\\sqrt{2}}(S\\ket{0}\\ket{0} + S\\ket{1}\\ket{0}) \\\\\n",
    "= \\frac{1}{\\sqrt{2}}(\\ket{0}\\ket{1} + \\ket{1}\\ket{-1})\n",
    "\\end{align}\n",
    "\n",
    "We see that the result of applying the unitary operator once is a superposition of the walker in positions +-1 with equal probability. This is exactly what we get in the case of our classic random walk. "
   ]
  },
  {
   "cell_type": "code",
   "execution_count": 95,
   "metadata": {
    "slideshow": {
     "slide_type": "slide"
    }
   },
   "outputs": [],
   "source": [
    "class quantum_walker:\n",
    "    \n",
    "    def __init__(self, num_steps, initial_coin, initial_pos):\n",
    "        self.n = num_steps # number of steps to take\n",
    "        self.p = 2*num_steps + 1 # number of possible positions\n",
    "        \n",
    "        # Define operators\n",
    "        # coin operator\n",
    "        self.coin = np.array([[1,0], [0,1]])\n",
    "        # shift operator\n",
    "        self.shift = np.kron(np.roll(np.eye(self.p), 1, axis=0), np.outer(self.coin[0], self.coin[0])) + \\\n",
    "                             np.kron(np.roll(np.eye(self.p), -1, axis=0), np.outer(self.coin[1], self.coin[1]))\n",
    "        self.h = (1/math.sqrt(2))*np.array([[1,1], [1,-1]]) # hadamard operator\n",
    "        self.u = self.shift.dot(np.kron(np.eye(self.p), self.h)) # unitary operator \n",
    "        \n",
    "        # Set initial coin state and position state\n",
    "        self.coin_init = initial_coin\n",
    "        self.pos = initial_pos\n",
    "        self.t = 0 # Start at time t=0\n",
    "        \n",
    "        # Ground composite state\n",
    "        self.state = np.kron(self.pos, self.coin_init)\n",
    "        \n",
    "    def take_time_step(self):\n",
    "        \"\"\"\n",
    "        One application of our unitary operator\n",
    "        \"\"\" \n",
    "        self.state = self.u.dot(self.state)\n",
    "        self.t += 1\n",
    "        \n",
    "    def evaluate_probs(self):\n",
    "        \"\"\"\n",
    "        Return the squared amplitude of each eigenvector, to get the probabilities\n",
    "        \"\"\"\n",
    "        return(np.array([x*np.conj(x) for x in self.state])) # Take squared amplitude\n",
    "    \n",
    "    def reset_walker(self):\n",
    "        \"\"\"\n",
    "        Reset our walker to initial conditions\n",
    "        \"\"\"\n",
    "        self.state = np.kron(self.pos, self.coin_init)"
   ]
  },
  {
   "cell_type": "code",
   "execution_count": 109,
   "metadata": {
    "scrolled": true,
    "slideshow": {
     "slide_type": "slide"
    }
   },
   "outputs": [
    {
     "data": {
      "image/png": "[encoded data removed]",
      "text/plain": [
       "<Figure size 432x288 with 1 Axes>"
      ]
     },
     "metadata": {
      "needs_background": "light"
     },
     "output_type": "display_data"
    }
   ],
   "source": [
    "# Define starting conditions. n=num time steps, p=total allowed positional space, \n",
    "# c0 = starting coin state, pos0 = starting position\n",
    "n=1\n",
    "c0 = np.array([1,0])\n",
    "pos0 = np.zeros(2*n+1)\n",
    "pos0[n] = 1\n",
    "qw = quantum_walker(n, c0, pos0)\n",
    "\n",
    "# Take 1 time step, and plot probabilities\n",
    "qw.take_time_step()\n",
    "plt.plot(range(-2*n, 2*(n+1)), qw.evaluate_probs())\n",
    "plt.xlim(-5, 5)\n",
    "plt.show()"
   ]
  },
  {
   "cell_type": "markdown",
   "metadata": {
    "slideshow": {
     "slide_type": "-"
    }
   },
   "source": [
    "The geometry of the entangled wavefunction means a 1:1 recovery of the positional state alone is not possible - it evolves in tandem with the coin state. But nevertheless we can see that after 1 time step, we have equal probability of the walker being in either state +1 or -1, as we saw mathematically after applying our shift operator. So far, we are exactly mirroring the classical random walker. \n",
    "\n",
    "In fact, if we measure the position of the quantum walker at each time step, we will obtain exactly the same behavior as the random walker. This is due to the quantum mechanical property of wave function collapse - observation or measurement collapses the superposition of states achieved from a time step. Measuring where the walker is essentially \"resets\" our system, where the new initial position is the measured position. From this point, applying the unitary operator again will result in the same result: a superposition of the walker one step forward or one step backwards. \n",
    "\n",
    "However, we're interested in how to obtain results that differ from a classical walk. We can achieve this by _not_ measuring in between time steps. This way, we can preserve the state superposition at each time step and allow this superposition to evolve over time. "
   ]
  },
  {
   "cell_type": "code",
   "execution_count": 42,
   "metadata": {
    "slideshow": {
     "slide_type": "slide"
    }
   },
   "outputs": [
    {
     "data": {
      "image/png": "[encoded data removed]",
      "text/plain": [
       "<Figure size 432x288 with 1 Axes>"
      ]
     },
     "metadata": {
      "needs_background": "light"
     },
     "output_type": "display_data"
    }
   ],
   "source": [
    "# Define starting conditions. n=num time steps, p=total allowed positional space, \n",
    "# c0 = starting coin state, pos0 = starting position\n",
    "n=50\n",
    "c0 = np.array([1,0])\n",
    "pos0 = np.zeros(2*n+1)\n",
    "pos0[n] = 1\n",
    "qw = quantum_walker(n, c0, pos0)\n",
    "\n",
    "# Start steppin'\n",
    "for _ in range(n):\n",
    "    qw.take_time_step()\n",
    "plt.plot(range(-2*n, 2*(n+1)), qw.evaluate_probs())\n",
    "plt.show()"
   ]
  },
  {
   "cell_type": "markdown",
   "metadata": {
    "slideshow": {
     "slide_type": "-"
    }
   },
   "source": [
    "This is a major deviation from our classical random coin. Instead of seeing a distribution centered at 0, with symmetrical falloff to the left and right, we see that our quantum walker moves to the right with much higher probability than to the left. How can we explain this? "
   ]
  },
  {
   "cell_type": "markdown",
   "metadata": {
    "slideshow": {
     "slide_type": "slide"
    }
   },
   "source": [
    "The answer is due to the asymmetry of our initial conditions. Remember, we chose a \"heads\" coin as the starting position, where \"heads\" moves our walker to the right. As a result, the destructive interference in our quantum wavefunction cancels more terms involving the coin in \"down\" state. Let's motivate this by expanding on the algebra we did above. \n",
    "\n",
    "Remember, after one time step our quantum wavefunction is:\n",
    "\n",
    "\\begin{align}\n",
    "\\ket{\\psi(1)} = \\frac{1}{\\sqrt{2}}(\\ket{0}\\ket{1} + \\ket{1}\\ket{-1})\n",
    "\\end{align}\n",
    "\n",
    "If we apply our algorithm again (coin operator then shift operator) we obtain:\n",
    "\n",
    "\\begin{align}\n",
    "\\ket{\\psi(2)} = \\frac{1}{2}(-\\ket{1}\\ket{-2} + (\\ket{0} + \\ket{1})\\ket{0} + \\ket{0}\\ket{2})\n",
    "\\end{align}\n",
    "\n",
    "This result is still equivalent to the classical case. If we evaulate our probabilities here, the walker has a 50% chance of ending up at position 0 and 25% chance of ending at position +- 1. However, let's look at one more time step. To keep things from getting too verbose, I'll only consider the two middle terms from our current wavefunction, and drop the normalization constant. \n",
    "\n",
    "\\begin{align}\n",
    "\\ket{\\psi(2)}' = \\ket{0}\\ket{0} + \\ket{1}\\ket{0}\n",
    "\\end{align}\n",
    "\n",
    "Applying the Hadamard coin:\n",
    "\n",
    "\\begin{align}\n",
    "H\\ket{\\psi(2)}' = (\\ket{0} + \\ket{1})\\ket{0} + (\\ket{0}-\\ket{1})\\ket{0}\n",
    "\\end{align}\n",
    "\n",
    "Applying the shift operator:\n",
    "\n",
    "\\begin{align}\n",
    "S(H\\ket{\\psi(2)}') = \\ket{0}\\ket{1} + \\ket{1}\\ket{-1} + \\ket{0}\\ket{1} - \\ket{1}\\ket{-1}\n",
    "\\end{align}"
   ]
  },
  {
   "cell_type": "markdown",
   "metadata": {
    "slideshow": {
     "slide_type": "slide"
    }
   },
   "source": [
    "In this last time step, we see that the two states with the walker in position -1 actually cancel. In quantum lingo, this is known as \"destructive interference\". Conversely, the probability of the walker ending in position +1 is boosted, in a phenomenon known as \"constructive interference\". This concept of interference is novel in quantum mechanics, and explains the asymmetrical behavior of our quantum walker. \n",
    "\n",
    "We can obtain a symmetrical walk by choosing a symmetrical starting coin instead, that represents a superposition of both the heads and tail states."
   ]
  },
  {
   "cell_type": "code",
   "execution_count": 45,
   "metadata": {
    "slideshow": {
     "slide_type": "slide"
    }
   },
   "outputs": [
    {
     "data": {
      "image/png": "[encoded data removed]",
      "text/plain": [
       "<Figure size 432x288 with 1 Axes>"
      ]
     },
     "metadata": {
      "needs_background": "light"
     },
     "output_type": "display_data"
    }
   ],
   "source": [
    "csymm = np.array([1, -1j]) / math.sqrt(2) # Symmetric starting coin\n",
    "symmetric_qw = quantum_walker(n, csymm, pos0) # Using same initial position and space as before\n",
    "for _ in range(n):\n",
    "    symmetric_qw.take_time_step()\n",
    "plt.plot(range(-2*n, 2*(n+1)), symmetric_qw.evaluate_probs())\n",
    "plt.show()"
   ]
  },
  {
   "cell_type": "markdown",
   "metadata": {
    "slideshow": {
     "slide_type": "-"
    }
   },
   "source": [
    "While the behavior still doesn't mirror our random walk, in that it's actually _less_ likely the walker ends up at the origin compared to the outer extremes, it's now a symmetrical walk. "
   ]
  },
  {
   "cell_type": "markdown",
   "metadata": {
    "slideshow": {
     "slide_type": "slide"
    }
   },
   "source": [
    "### Quantum Graph Traversal\n",
    "\n",
    "One of the most powerful applications of quantum walks is the ability for a walk to speed up graph traversal. Generally speaking, classical algorithms will require exponential time to reach a given node in a graph with sufficient time, whereas a quantum algorithm can solve the same problem in polynomial time. How does this work?"
   ]
  },
  {
   "cell_type": "markdown",
   "metadata": {
    "slideshow": {
     "slide_type": "slide"
    }
   },
   "source": [
    "Let's look at an example. Our line is essentially a one-dimensional graph, and each integer position can be described as a node. How many time steps will our random walker and our quantum walker require respectively to achieve > 5% probability of being found at a given node? Let's use position +15 as an example. "
   ]
  },
  {
   "cell_type": "code",
   "execution_count": 113,
   "metadata": {
    "slideshow": {
     "slide_type": "subslide"
    }
   },
   "outputs": [
    {
     "name": "stdout",
     "output_type": "stream",
     "text": [
      "47 time steps required classically\n"
     ]
    }
   ],
   "source": [
    "# Random walker\n",
    "\n",
    "rw.reset_walker()\n",
    "t = 0\n",
    "p = 0\n",
    "while p < .01:\n",
    "    rw.take_time_step()\n",
    "    t += 1\n",
    "    p = rw.probs(t, 15)\n",
    "print(f\"{t} time steps required classically\")"
   ]
  },
  {
   "cell_type": "code",
   "execution_count": 114,
   "metadata": {
    "slideshow": {
     "slide_type": "subslide"
    }
   },
   "outputs": [
    {
     "name": "stdout",
     "output_type": "stream",
     "text": [
      "14 time steps required in quantum space\n"
     ]
    }
   ],
   "source": [
    "# Quantum walker\n",
    "\n",
    "p = 0\n",
    "t = 0\n",
    "while p < .01:\n",
    "    t += 1\n",
    "    pos0 = np.zeros(2*t + 1)\n",
    "    pos0[t] = 1\n",
    "    qw = quantum_walker(t, csymm, pos0)\n",
    "    for _ in range(t):\n",
    "        qw.take_time_step()\n",
    "    try:\n",
    "        p = qw.evaluate_probs()[t+30] # Double the index offset since every other index = position\n",
    "    except IndexError:\n",
    "        pass\n",
    "print(f\"{t} time steps required in quantum space\")"
   ]
  },
  {
   "cell_type": "markdown",
   "metadata": {
    "slideshow": {
     "slide_type": "slide"
    }
   },
   "source": [
    "We set an arbitrary cutoff probability of 1% to determine our \"hitting time\", or the time an algorithm requires to reach a particular node. We see that our classical hitting time is 47 steps, whereas our quantum hitting time is 14 steps. \n",
    "\n",
    "This can be inferred from the plots shown above too - the probability of reaching \"far\" nodes is much higher in the quantum case than in the classical case. "
   ]
  },
  {
   "cell_type": "code",
   "execution_count": 85,
   "metadata": {
    "slideshow": {
     "slide_type": "-"
    }
   },
   "outputs": [
    {
     "data": {
      "image/png": "[encoded data removed]",
      "text/plain": [
       "<Figure size 432x288 with 2 Axes>"
      ]
     },
     "metadata": {
      "needs_background": "light"
     },
     "output_type": "display_data"
    }
   ],
   "source": [
    "fig, ax = plt.subplots(nrows=1, ncols=2, sharey=True)\n",
    "\n",
    "ax[0].plot(rw.evaluate_probs(rw.t))\n",
    "ax[1].plot(qw.evaluate_probs())\n",
    "plt.show()"
   ]
  },
  {
   "cell_type": "markdown",
   "metadata": {
    "slideshow": {
     "slide_type": "skip"
    }
   },
   "source": [
    "## Continuous Quantum Walks\n",
    "\n",
    "So far, we've been discussing _discrete-time_ walks. We have a defined time interval, at which a step occurs. What if we replace discrete time steps for a continuous time distribution? "
   ]
  },
  {
   "cell_type": "markdown",
   "metadata": {
    "slideshow": {
     "slide_type": "skip"
    }
   },
   "source": [
    "### Classical Continuous Markov Chain\n",
    "\n",
    "We'll model this a little differently. Instead of a coin, we need a transition matrix M instead. Each $M_{ij}(t)$ entry of this matrix refers to the probability the walker transitions from vertex j to vertex i in a time interval t. \n",
    "\n",
    "We need to define 3 more parameters to begin this analysis: \n",
    "- $\\gamma$: the transition rate. We assume this is constant over time and at every node in our graph. \n",
    "- $\\varepsilon$: an infinitessimal time interval\n",
    "- $d_{j}$: the degree of vertex j, or how many nodes vertex j connects to. Since we are discussing a one dimensional line, d is 2 for all nodes in our graph.\n",
    "\n",
    "We can see that the probability of a transition from node j in any interval $\\varepsilon$ is $d_{j}\\gamma\\varepsilon$. "
   ]
  },
  {
   "cell_type": "markdown",
   "metadata": {},
   "source": [
    "The first step in finding our transition matrix M is defining a generating matrix H. \n",
    "\n",
    "\\begin{align}\n",
    "H =\n",
    "\\begin{cases}\n",
    "d_{j}\\gamma & \\text{if i=j} \\\\\n",
    "-\\gamma & \\text{if i != j and adjacent} \\\\\n",
    "0 & \\text{if i != j and non-adjacent}\n",
    "\\end{cases}\n",
    "\\end{align}\n",
    "\n",
    "While the proof is a little outside of the scope of this presentation, our generating matrix helps set up the following differential equation:\n",
    "\n",
    "\\begin{align}\n",
    "\\frac{dM_{ij}(t)}{dt} = -\\sum_{k} H_{kj}M_{ik}(t)\n",
    "\\end{align}\n",
    "\n",
    "Solving the differential equation returns the time dependent transition matrix:\n",
    "\n",
    "\\begin{align}\n",
    "M(t) = e^{Ht}\n",
    "\\end{align}\n",
    "\n",
    "The state of the walker at any time t now depends on the initial conditions and $M(t)$. "
   ]
  },
  {
   "cell_type": "markdown",
   "metadata": {},
   "source": [
    "### Quantum Continuous Markov Chain\n",
    "\n",
    "Since we no longer have a quantum coin, all we need to do is convert the transition matrix to an equivalent unitary operator. The easiest way to do this is by replacing $H$ with $iH$, such that \n",
    "\n",
    "\\begin{align}\n",
    "U(t) = e^{-iHt}\n",
    "\\end{align}\n",
    "\n",
    "Then we can apply this new unitary operator to our initial position-only wavefunction. "
   ]
  },
  {
   "cell_type": "code",
   "execution_count": 127,
   "metadata": {
    "slideshow": {
     "slide_type": "skip"
    }
   },
   "outputs": [],
   "source": [
    "### continuous qw\n",
    "\n",
    "gamma = 0.8\n",
    "t = 100\n",
    "n=100\n",
    "p = 2*n + 1\n",
    "H = np.zeros([p,p])\n",
    "\n",
    "for i in range(p):\n",
    "    \n",
    "    for j in range(p):\n",
    "        \n",
    "        if i==j:\n",
    "            H[i,j] = 2*gamma\n",
    "        elif abs(i-j) == 1:\n",
    "            H[i,j] = -gamma\n",
    "            \n",
    "u = expm(-1j * t * H)\n",
    "\n",
    "psi0 = np.zeros(p)\n",
    "psi0[n] = 1\n",
    "psit = np.dot(u, psi0)\n",
    "prob = [x * np.conj(x) for x in psit]"
   ]
  },
  {
   "cell_type": "code",
   "execution_count": 128,
   "metadata": {
    "slideshow": {
     "slide_type": "skip"
    }
   },
   "outputs": [
    {
     "data": {
      "image/png": "[encoded data removed]",
      "text/plain": [
       "<Figure size 432x288 with 1 Axes>"
      ]
     },
     "metadata": {
      "needs_background": "light"
     },
     "output_type": "display_data"
    }
   ],
   "source": [
    "fig = plt.figure()\n",
    "ax = fig.add_subplot(111)\n",
    "\n",
    "plt.plot(np.arange(p), prob)\n",
    "loc = range(0, p, p//5) #Location of ticks\n",
    "plt.xticks(loc)\n",
    "ax.set_xticklabels(range (-n, n+1, p // 5))\n",
    "plt.show()"
   ]
  },
  {
   "cell_type": "markdown",
   "metadata": {},
   "source": [
    "Comparing to the discrete-time symmetrical quantum walk, we see that the continuous time walk also displays some bimodality away from the origin. However, while the discrete time walk can be parametrized by choosing different initial conditions, the continuous time walk can be parametrized with an additional $\\gamma$ factor that controls disperson about the origin. "
   ]
  }
 ],
 "metadata": {
  "celltoolbar": "Slideshow",
  "kernelspec": {
   "display_name": "Python 3",
   "language": "python",
   "name": "python3"
  },
  "language_info": {
   "codemirror_mode": {
    "name": "ipython",
    "version": 3
   },
   "file_extension": ".py",
   "mimetype": "text/x-python",
   "name": "python",
   "nbconvert_exporter": "python",
   "pygments_lexer": "ipython3",
   "version": "3.7.4"
  }
 },
 "nbformat": 4,
 "nbformat_minor": 2
}
